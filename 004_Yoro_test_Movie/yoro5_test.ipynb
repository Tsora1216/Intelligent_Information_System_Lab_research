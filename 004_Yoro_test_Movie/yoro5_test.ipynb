{
 "cells": [
  {
   "cell_type": "code",
   "execution_count": 3,
   "metadata": {},
   "outputs": [
    {
     "name": "stdout",
     "output_type": "stream",
     "text": [
      "Collecting gitpython>=3.1.30\n",
      "  Downloading GitPython-3.1.31-py3-none-any.whl (184 kB)\n",
      "     -------------------------------------- 184.3/184.3 kB 5.6 MB/s eta 0:00:00\n",
      "Requirement already satisfied: matplotlib>=3.3 in c:\\users\\irsl27\\anaconda3\\lib\\site-packages (from -r ./yolov5-master/requirements.txt (line 6)) (3.7.0)\n",
      "Collecting matplotlib>=3.3\n",
      "  Downloading matplotlib-3.7.1-cp310-cp310-win_amd64.whl (7.6 MB)\n",
      "     ---------------------------------------- 7.6/7.6 MB 7.5 MB/s eta 0:00:00\n",
      "Requirement already satisfied: numpy>=1.18.5 in c:\\users\\irsl27\\anaconda3\\lib\\site-packages (from -r ./yolov5-master/requirements.txt (line 7)) (1.23.5)\n",
      "Collecting numpy>=1.18.5\n",
      "  Downloading numpy-1.24.3-cp310-cp310-win_amd64.whl (14.8 MB)\n",
      "     ---------------------------------------- 14.8/14.8 MB 7.4 MB/s eta 0:00:00\n",
      "Collecting opencv-python>=4.1.1\n",
      "  Downloading opencv_python-4.7.0.72-cp37-abi3-win_amd64.whl (38.2 MB)\n",
      "     ---------------------------------------- 38.2/38.2 MB 6.9 MB/s eta 0:00:00\n",
      "Requirement already satisfied: Pillow>=7.1.2 in c:\\users\\irsl27\\anaconda3\\lib\\site-packages (from -r ./yolov5-master/requirements.txt (line 9)) (9.4.0)\n",
      "Collecting Pillow>=7.1.2\n",
      "  Downloading Pillow-9.5.0-cp310-cp310-win_amd64.whl (2.5 MB)\n",
      "     ---------------------------------------- 2.5/2.5 MB 6.7 MB/s eta 0:00:00\n",
      "Requirement already satisfied: psutil in c:\\users\\irsl27\\anaconda3\\lib\\site-packages (from -r ./yolov5-master/requirements.txt (line 10)) (5.9.0)\n",
      "Collecting psutil\n",
      "  Downloading psutil-5.9.5-cp36-abi3-win_amd64.whl (255 kB)\n",
      "     -------------------------------------- 255.1/255.1 kB 7.9 MB/s eta 0:00:00\n",
      "Requirement already satisfied: PyYAML>=5.3.1 in c:\\users\\irsl27\\anaconda3\\lib\\site-packages (from -r ./yolov5-master/requirements.txt (line 11)) (6.0)\n",
      "Requirement already satisfied: requests>=2.23.0 in c:\\users\\irsl27\\anaconda3\\lib\\site-packages (from -r ./yolov5-master/requirements.txt (line 12)) (2.28.1)\n",
      "Collecting requests>=2.23.0\n",
      "  Downloading requests-2.30.0-py3-none-any.whl (62 kB)\n",
      "     ---------------------------------------- 62.5/62.5 kB 3.5 MB/s eta 0:00:00\n",
      "Requirement already satisfied: scipy>=1.4.1 in c:\\users\\irsl27\\anaconda3\\lib\\site-packages (from -r ./yolov5-master/requirements.txt (line 13)) (1.10.0)\n",
      "Collecting scipy>=1.4.1\n",
      "  Downloading scipy-1.10.1-cp310-cp310-win_amd64.whl (42.5 MB)\n",
      "     ---------------------------------------- 42.5/42.5 MB 6.9 MB/s eta 0:00:00\n",
      "Collecting thop>=0.1.1\n",
      "  Downloading thop-0.1.1.post2209072238-py3-none-any.whl (15 kB)\n",
      "Requirement already satisfied: torch>=1.7.0 in c:\\users\\irsl27\\anaconda3\\lib\\site-packages (from -r ./yolov5-master/requirements.txt (line 15)) (1.12.1)\n",
      "Collecting torch>=1.7.0\n",
      "  Downloading torch-2.0.1-cp310-cp310-win_amd64.whl (172.3 MB)\n",
      "     -------------------------------------- 172.3/172.3 MB 5.5 MB/s eta 0:00:00\n",
      "Collecting torchvision>=0.8.1\n",
      "  Downloading torchvision-0.15.2-cp310-cp310-win_amd64.whl (1.2 MB)\n",
      "     ---------------------------------------- 1.2/1.2 MB 7.6 MB/s eta 0:00:00\n",
      "Requirement already satisfied: tqdm>=4.64.0 in c:\\users\\irsl27\\anaconda3\\lib\\site-packages (from -r ./yolov5-master/requirements.txt (line 17)) (4.64.1)\n",
      "Collecting tqdm>=4.64.0\n",
      "  Downloading tqdm-4.65.0-py3-none-any.whl (77 kB)\n",
      "     ---------------------------------------- 77.1/77.1 kB 4.5 MB/s eta 0:00:00\n",
      "Collecting ultralytics>=8.0.100\n",
      "  Downloading ultralytics-8.0.105-py3-none-any.whl (586 kB)\n",
      "     -------------------------------------- 586.5/586.5 kB 9.1 MB/s eta 0:00:00\n",
      "Requirement already satisfied: pandas>=1.1.4 in c:\\users\\irsl27\\anaconda3\\lib\\site-packages (from -r ./yolov5-master/requirements.txt (line 27)) (1.5.3)\n",
      "Collecting pandas>=1.1.4\n",
      "  Downloading pandas-2.0.1-cp310-cp310-win_amd64.whl (10.7 MB)\n",
      "     ---------------------------------------- 10.7/10.7 MB 7.5 MB/s eta 0:00:00\n",
      "Requirement already satisfied: seaborn>=0.11.0 in c:\\users\\irsl27\\anaconda3\\lib\\site-packages (from -r ./yolov5-master/requirements.txt (line 28)) (0.12.2)\n",
      "Requirement already satisfied: setuptools>=65.5.1 in c:\\users\\irsl27\\anaconda3\\lib\\site-packages (from -r ./yolov5-master/requirements.txt (line 42)) (65.6.3)\n",
      "Collecting setuptools>=65.5.1\n",
      "  Downloading setuptools-67.7.2-py3-none-any.whl (1.1 MB)\n",
      "     ---------------------------------------- 1.1/1.1 MB 7.7 MB/s eta 0:00:00\n",
      "Collecting gitdb<5,>=4.0.1\n",
      "  Downloading gitdb-4.0.10-py3-none-any.whl (62 kB)\n",
      "     ---------------------------------------- 62.7/62.7 kB 3.3 MB/s eta 0:00:00\n",
      "Requirement already satisfied: contourpy>=1.0.1 in c:\\users\\irsl27\\anaconda3\\lib\\site-packages (from matplotlib>=3.3->-r ./yolov5-master/requirements.txt (line 6)) (1.0.5)\n",
      "Requirement already satisfied: pyparsing>=2.3.1 in c:\\users\\irsl27\\anaconda3\\lib\\site-packages (from matplotlib>=3.3->-r ./yolov5-master/requirements.txt (line 6)) (3.0.9)\n",
      "Requirement already satisfied: cycler>=0.10 in c:\\users\\irsl27\\anaconda3\\lib\\site-packages (from matplotlib>=3.3->-r ./yolov5-master/requirements.txt (line 6)) (0.11.0)\n",
      "Requirement already satisfied: python-dateutil>=2.7 in c:\\users\\irsl27\\anaconda3\\lib\\site-packages (from matplotlib>=3.3->-r ./yolov5-master/requirements.txt (line 6)) (2.8.2)\n",
      "Requirement already satisfied: kiwisolver>=1.0.1 in c:\\users\\irsl27\\anaconda3\\lib\\site-packages (from matplotlib>=3.3->-r ./yolov5-master/requirements.txt (line 6)) (1.4.4)\n",
      "Requirement already satisfied: packaging>=20.0 in c:\\users\\irsl27\\anaconda3\\lib\\site-packages (from matplotlib>=3.3->-r ./yolov5-master/requirements.txt (line 6)) (22.0)\n",
      "Requirement already satisfied: fonttools>=4.22.0 in c:\\users\\irsl27\\anaconda3\\lib\\site-packages (from matplotlib>=3.3->-r ./yolov5-master/requirements.txt (line 6)) (4.25.0)\n",
      "Requirement already satisfied: certifi>=2017.4.17 in c:\\users\\irsl27\\anaconda3\\lib\\site-packages (from requests>=2.23.0->-r ./yolov5-master/requirements.txt (line 12)) (2022.12.7)\n",
      "Requirement already satisfied: charset-normalizer<4,>=2 in c:\\users\\irsl27\\anaconda3\\lib\\site-packages (from requests>=2.23.0->-r ./yolov5-master/requirements.txt (line 12)) (2.0.4)\n",
      "Requirement already satisfied: idna<4,>=2.5 in c:\\users\\irsl27\\anaconda3\\lib\\site-packages (from requests>=2.23.0->-r ./yolov5-master/requirements.txt (line 12)) (3.4)\n",
      "Requirement already satisfied: urllib3<3,>=1.21.1 in c:\\users\\irsl27\\anaconda3\\lib\\site-packages (from requests>=2.23.0->-r ./yolov5-master/requirements.txt (line 12)) (1.26.14)\n",
      "Requirement already satisfied: sympy in c:\\users\\irsl27\\anaconda3\\lib\\site-packages (from torch>=1.7.0->-r ./yolov5-master/requirements.txt (line 15)) (1.11.1)\n",
      "Requirement already satisfied: filelock in c:\\users\\irsl27\\anaconda3\\lib\\site-packages (from torch>=1.7.0->-r ./yolov5-master/requirements.txt (line 15)) (3.9.0)\n",
      "Requirement already satisfied: jinja2 in c:\\users\\irsl27\\anaconda3\\lib\\site-packages (from torch>=1.7.0->-r ./yolov5-master/requirements.txt (line 15)) (3.1.2)\n",
      "Requirement already satisfied: typing-extensions in c:\\users\\irsl27\\anaconda3\\lib\\site-packages (from torch>=1.7.0->-r ./yolov5-master/requirements.txt (line 15)) (4.4.0)\n",
      "Requirement already satisfied: networkx in c:\\users\\irsl27\\anaconda3\\lib\\site-packages (from torch>=1.7.0->-r ./yolov5-master/requirements.txt (line 15)) (2.8.4)\n",
      "Requirement already satisfied: colorama in c:\\users\\irsl27\\anaconda3\\lib\\site-packages (from tqdm>=4.64.0->-r ./yolov5-master/requirements.txt (line 17)) (0.4.6)\n",
      "Collecting sentry-sdk\n",
      "  Downloading sentry_sdk-1.23.1-py2.py3-none-any.whl (205 kB)\n",
      "     ------------------------------------- 205.1/205.1 kB 12.2 MB/s eta 0:00:00\n",
      "Collecting tzdata>=2022.1\n",
      "  Downloading tzdata-2023.3-py2.py3-none-any.whl (341 kB)\n",
      "     -------------------------------------- 341.8/341.8 kB 7.1 MB/s eta 0:00:00\n",
      "Requirement already satisfied: pytz>=2020.1 in c:\\users\\irsl27\\anaconda3\\lib\\site-packages (from pandas>=1.1.4->-r ./yolov5-master/requirements.txt (line 27)) (2022.7)\n",
      "Collecting smmap<6,>=3.0.1\n",
      "  Downloading smmap-5.0.0-py3-none-any.whl (24 kB)\n",
      "Requirement already satisfied: six>=1.5 in c:\\users\\irsl27\\anaconda3\\lib\\site-packages (from python-dateutil>=2.7->matplotlib>=3.3->-r ./yolov5-master/requirements.txt (line 6)) (1.16.0)\n",
      "Requirement already satisfied: MarkupSafe>=2.0 in c:\\users\\irsl27\\anaconda3\\lib\\site-packages (from jinja2->torch>=1.7.0->-r ./yolov5-master/requirements.txt (line 15)) (2.1.1)\n",
      "Requirement already satisfied: mpmath>=0.19 in c:\\users\\irsl27\\anaconda3\\lib\\site-packages (from sympy->torch>=1.7.0->-r ./yolov5-master/requirements.txt (line 15)) (1.2.1)\n",
      "Installing collected packages: tzdata, tqdm, smmap, setuptools, sentry-sdk, requests, psutil, Pillow, numpy, torch, scipy, pandas, opencv-python, gitdb, torchvision, thop, matplotlib, gitpython, ultralytics\n",
      "  Attempting uninstall: tqdm\n",
      "    Found existing installation: tqdm 4.64.1\n",
      "    Uninstalling tqdm-4.64.1:\n",
      "      Successfully uninstalled tqdm-4.64.1\n",
      "  Attempting uninstall: setuptools\n",
      "    Found existing installation: setuptools 65.6.3\n",
      "    Uninstalling setuptools-65.6.3:\n",
      "      Successfully uninstalled setuptools-65.6.3\n",
      "  Attempting uninstall: requests\n",
      "    Found existing installation: requests 2.28.1\n",
      "    Uninstalling requests-2.28.1:\n",
      "      Successfully uninstalled requests-2.28.1\n",
      "  Attempting uninstall: psutil\n",
      "    Found existing installation: psutil 5.9.0\n",
      "    Uninstalling psutil-5.9.0:\n",
      "      Successfully uninstalled psutil-5.9.0\n",
      "  Attempting uninstall: Pillow\n",
      "    Found existing installation: Pillow 9.4.0\n",
      "    Uninstalling Pillow-9.4.0:\n",
      "      Successfully uninstalled Pillow-9.4.0\n",
      "  Attempting uninstall: numpy\n",
      "    Found existing installation: numpy 1.23.5\n",
      "    Uninstalling numpy-1.23.5:\n",
      "      Successfully uninstalled numpy-1.23.5\n",
      "  Attempting uninstall: torch\n",
      "    Found existing installation: torch 1.12.1\n",
      "    Uninstalling torch-1.12.1:\n",
      "      Successfully uninstalled torch-1.12.1\n",
      "  Attempting uninstall: scipy\n",
      "    Found existing installation: scipy 1.10.0\n",
      "    Uninstalling scipy-1.10.0:\n",
      "      Successfully uninstalled scipy-1.10.0\n",
      "  Attempting uninstall: pandas\n",
      "    Found existing installation: pandas 1.5.3\n",
      "    Uninstalling pandas-1.5.3:\n",
      "      Successfully uninstalled pandas-1.5.3\n",
      "  Attempting uninstall: matplotlib\n",
      "    Found existing installation: matplotlib 3.7.0\n",
      "    Uninstalling matplotlib-3.7.0:\n",
      "      Successfully uninstalled matplotlib-3.7.0\n",
      "Successfully installed Pillow-9.5.0 gitdb-4.0.10 gitpython-3.1.31 matplotlib-3.7.1 numpy-1.24.3 opencv-python-4.7.0.72 pandas-2.0.1 psutil-5.9.5 requests-2.30.0 scipy-1.10.1 sentry-sdk-1.23.1 setuptools-67.7.2 smmap-5.0.0 thop-0.1.1.post2209072238 torch-2.0.1 torchvision-0.15.2 tqdm-4.65.0 tzdata-2023.3 ultralytics-8.0.105\n"
     ]
    },
    {
     "name": "stderr",
     "output_type": "stream",
     "text": [
      "ERROR: pip's dependency resolver does not currently take into account all the packages that are installed. This behaviour is the source of the following dependency conflicts.\n",
      "gensim 4.3.0 requires FuzzyTM>=0.4.0, which is not installed.\n",
      "conda-repo-cli 1.0.41 requires requests_mock, which is not installed.\n",
      "numba 0.56.4 requires numpy<1.24,>=1.18, but you have numpy 1.24.3 which is incompatible.\n",
      "conda-repo-cli 1.0.41 requires clyent==1.2.1, but you have clyent 1.2.2 which is incompatible.\n",
      "conda-repo-cli 1.0.41 requires nbformat==5.4.0, but you have nbformat 5.7.0 which is incompatible.\n",
      "conda-repo-cli 1.0.41 requires requests==2.28.1, but you have requests 2.30.0 which is incompatible.\n"
     ]
    }
   ],
   "source": [
    "!pip install -U -r \"./yolov5-master/requirements.txt\""
   ]
  },
  {
   "cell_type": "code",
   "execution_count": 9,
   "metadata": {},
   "outputs": [
    {
     "name": "stdout",
     "output_type": "stream",
     "text": [
      "Looking in links: https://download.pytorch.org/whl/torch_stable.html\n"
     ]
    },
    {
     "name": "stderr",
     "output_type": "stream",
     "text": [
      "ERROR: Could not find a version that satisfies the requirement torch==1.7.1+cu110 (from versions: 1.11.0, 1.11.0+cpu, 1.11.0+cu113, 1.11.0+cu115, 1.12.0, 1.12.0+cpu, 1.12.0+cu113, 1.12.0+cu116, 1.12.1, 1.12.1+cpu, 1.12.1+cu113, 1.12.1+cu116, 1.13.0, 1.13.0+cpu, 1.13.0+cu116, 1.13.0+cu117, 1.13.1, 1.13.1+cpu, 1.13.1+cu116, 1.13.1+cu117, 2.0.0, 2.0.0+cpu, 2.0.0+cu117, 2.0.0+cu118, 2.0.1, 2.0.1+cpu, 2.0.1+cu117, 2.0.1+cu118)\n",
      "ERROR: No matching distribution found for torch==1.7.1+cu110\n"
     ]
    }
   ],
   "source": [
    "!pip install torch==1.7.1+cu110 torchvision==0.8.2+cu110 torchaudio==0.7.2 -f https://download.pytorch.org/whl/torch_stable.html\n"
   ]
  },
  {
   "cell_type": "code",
   "execution_count": 12,
   "metadata": {},
   "outputs": [
    {
     "name": "stderr",
     "output_type": "stream",
     "text": [
      "python: can't open file 'c:\\\\Users\\\\IRSL27\\\\Documents\\\\GitHub\\\\Intelligent_Information_System_Lab_research\\\\004_Yoro_test(Movie)\\\\detect.py': [Errno 2] No such file or directory\n"
     ]
    }
   ],
   "source": [
    "!python detect.py --source \".\\yolov5-master\\data\\images\" --weights yolov5s.pt --conf 0.4\n"
   ]
  },
  {
   "cell_type": "code",
   "execution_count": 13,
   "metadata": {},
   "outputs": [
    {
     "name": "stdout",
     "output_type": "stream",
     "text": [
      "Requirement already satisfied: pyqt5 in c:\\users\\irsl27\\anaconda3\\lib\\site-packages (5.15.7)\n",
      "Requirement already satisfied: PyQt5-sip<13,>=12.11 in c:\\users\\irsl27\\anaconda3\\lib\\site-packages (from pyqt5) (12.11.0)\n",
      "Collecting opencv-python-headless\n",
      "  Downloading opencv_python_headless-4.7.0.72-cp37-abi3-win_amd64.whl (38.1 MB)\n",
      "     ---------------------------------------- 38.1/38.1 MB 3.9 MB/s eta 0:00:00\n",
      "Requirement already satisfied: numpy>=1.21.2 in c:\\users\\irsl27\\anaconda3\\lib\\site-packages (from opencv-python-headless) (1.24.3)\n",
      "Installing collected packages: opencv-python-headless\n",
      "Successfully installed opencv-python-headless-4.7.0.72\n"
     ]
    }
   ],
   "source": [
    "!pip install pyqt5\n",
    "!pip install opencv-python-headless"
   ]
  },
  {
   "cell_type": "code",
   "execution_count": 17,
   "metadata": {},
   "outputs": [
    {
     "name": "stdout",
     "output_type": "stream",
     "text": [
      "\u001b[31m\u001b[1mrequirements:\u001b[0m C:\\Users\\IRSL27\\anaconda3\\Lib\\site-packages\\requirements.txt not found, check failed.\n"
     ]
    },
    {
     "name": "stderr",
     "output_type": "stream",
     "text": [
      "\u001b[34m\u001b[1mdetect: \u001b[0mweights=yolov5-master\\yolov5s.pt, source=0, data=yolov5-master\\data\\coco128.yaml, imgsz=[640, 640], conf_thres=0.25, iou_thres=0.45, max_det=1000, device=, view_img=False, save_txt=False, save_conf=False, save_crop=False, nosave=False, classes=None, agnostic_nms=False, augment=False, visualize=False, update=False, project=yolov5-master\\runs\\detect, name=exp, exist_ok=False, line_thickness=3, hide_labels=False, hide_conf=False, half=False, dnn=False, vid_stride=1\n",
      "YOLOv5  2023-5-18 Python-3.10.9 torch-2.0.1+cpu CPU\n",
      "\n",
      "Fusing layers... \n",
      "YOLOv5s summary: 213 layers, 7225885 parameters, 0 gradients\n",
      "WARNING  Environment does not support cv2.imshow() or PIL Image.show()\n",
      "OpenCV(4.7.0) D:\\a\\opencv-python\\opencv-python\\opencv\\modules\\highgui\\src\\window.cpp:1272: error: (-2:Unspecified error) The function is not implemented. Rebuild the library with Windows, GTK+ 2.x or Cocoa support. If you are on Ubuntu or Debian, install libgtk2.0-dev and pkg-config, then re-run cmake or configure script in function 'cvShowImage'\n",
      "\n",
      "1/1: 0...  Success (inf frames 640x480 at 30.00 FPS)\n",
      "\n",
      "Traceback (most recent call last):\n",
      "  File \"c:\\Users\\IRSL27\\Documents\\GitHub\\Intelligent_Information_System_Lab_research\\004_Yoro_test(Movie)\\yolov5-master\\detect.py\", line 261, in <module>\n",
      "    main(opt)\n",
      "  File \"c:\\Users\\IRSL27\\Documents\\GitHub\\Intelligent_Information_System_Lab_research\\004_Yoro_test(Movie)\\yolov5-master\\detect.py\", line 256, in main\n",
      "    run(**vars(opt))\n",
      "  File \"c:\\Users\\IRSL27\\anaconda3\\lib\\site-packages\\torch\\utils\\_contextlib.py\", line 115, in decorate_context\n",
      "    return func(*args, **kwargs)\n",
      "  File \"c:\\Users\\IRSL27\\Documents\\GitHub\\Intelligent_Information_System_Lab_research\\004_Yoro_test(Movie)\\yolov5-master\\detect.py\", line 117, in run\n",
      "    for path, im, im0s, vid_cap, s in dataset:\n",
      "  File \"c:\\Users\\IRSL27\\Documents\\GitHub\\Intelligent_Information_System_Lab_research\\004_Yoro_test(Movie)\\yolov5-master\\utils\\dataloaders.py\", line 410, in __next__\n",
      "    if not all(x.is_alive() for x in self.threads) or cv2.waitKey(1) == ord('q'):  # q to quit\n",
      "cv2.error: OpenCV(4.7.0) D:\\a\\opencv-python\\opencv-python\\opencv\\modules\\highgui\\src\\window.cpp:1338: error: (-2:Unspecified error) The function is not implemented. Rebuild the library with Windows, GTK+ 2.x or Cocoa support. If you are on Ubuntu or Debian, install libgtk2.0-dev and pkg-config, then re-run cmake or configure script in function 'cvWaitKey'\n",
      "\n"
     ]
    }
   ],
   "source": [
    "!python ./yolov5-master/detect.py --source 0"
   ]
  }
 ],
 "metadata": {
  "kernelspec": {
   "display_name": "base",
   "language": "python",
   "name": "python3"
  },
  "language_info": {
   "codemirror_mode": {
    "name": "ipython",
    "version": 3
   },
   "file_extension": ".py",
   "mimetype": "text/x-python",
   "name": "python",
   "nbconvert_exporter": "python",
   "pygments_lexer": "ipython3",
   "version": "3.10.9"
  },
  "orig_nbformat": 4
 },
 "nbformat": 4,
 "nbformat_minor": 2
}
