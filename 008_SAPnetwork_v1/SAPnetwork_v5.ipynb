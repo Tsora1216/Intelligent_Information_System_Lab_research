{
 "cells": [
  {
   "attachments": {},
   "cell_type": "markdown",
   "metadata": {},
   "source": [
    "教授にプレゼン後、データの保存をし、テーブルとして値を持つ必要があることがわかった\n",
    "大きなデータになるので保存方法を考慮する必要があった。\n",
    "CSV、Excel、バイナリ、HDF5が候補として挙がった。\n",
    "HDF5形式は大容量のデータセットを効率的に保存するためのファイル形式であるため、採択。\n",
    "参考サイトの少なさから一時的にSQLを採択\n",
    "SQLをテストし、全語句のデータの保存をしてみた\n",
    "SQLでは、VisualStudioCodeの拡張機能が使いづらく、SQLite3に変更した\n",
    "SQLite->dataframe->変更->dataframe->変更を保存->SQLiteの完成\n",
    "上記の方法では変更件数に関わらず、全件で1分30秒かかる。\n",
    "変更に時間がかかりすぎな点が課題であるため、データの更新方法を検討\n",
    "SQLからPythonに値を渡さず、直接書き込むことで一件当たり0.1秒以内\n",
    "拡散ネットワークを作るために、その基盤となるデータセットをSQLに保存\n",
    "拡散ネットワークに対し、類似度の高いものを想起する事からそれらを加点するため拡散数を３と仮定し拡散\n",
    "また、拡散ネットワークを作るために、関連文字列に拡散し、ループ一回を拡散と見なしたとき、一回目の入力を除き、n=3の時,3,9,27のように、3^(n-1)のように増えていく。\n",
    "また実行時間は、0.7,0.8,0.8,4.0,5.9,15.9となっており、線形的に増えている\n",
    "プログラム自体の計算量はO(N^2)になっている。\n",
    "拡散した値を仮に0.3として全部をSQLに書き込む処理を追加→成功\n",
    "SQLから元の値を取得し、Scoreを加算していくことで活性値を表現\n",
    "活性値が閾値を超えたらループが止まるようにしたいが、5以上の数値は計算上現実的ではない\n",
    "活性値を超えたら。という考え方自体が並列処理でないため、同時に超えるはずが計算の手順により結果がランダムに決まってしまうことに気づいた。\n",
    "そのため、理論上下記の仕様に変更する必要がある\n",
    "活性値を超えたら→活性回数の上限回数を決め、最大の活性値を活性化とする。\n",
    "活性化の状態を棒グラフに出力していく"
   ]
  },
  {
   "cell_type": "code",
   "execution_count": 1,
   "metadata": {},
   "outputs": [],
   "source": [
    "import pandas as pd\n",
    "from gensim.models import Word2Vec\n",
    "import seaborn as sns\n",
    "import pandas as pd\n",
    "import numpy as np\n",
    "import matplotlib as mpl\n",
    "import matplotlib.pyplot as plt\n",
    "import japanize_matplotlib\n",
    "import pandas as pd\n",
    "import networkx as nx\n",
    "import matplotlib.pyplot as plt\n",
    "\n",
    "# 学習済みモデルのロード\n",
    "model_file_path = '../../KITERETU/gw2v160.model'\n",
    "model = Word2Vec.load(model_file_path)"
   ]
  },
  {
   "cell_type": "code",
   "execution_count": 2,
   "metadata": {},
   "outputs": [],
   "source": [
    "from gensim.models import Word2Vec\n",
    "import sqlite3\n",
    "\n",
    "database_path = 'database5.sqlite'\n",
    "\n",
    "# データベースに接続し、カーソルを作成する\n",
    "conn = sqlite3.connect(database_path)\n",
    "cursor = conn.cursor()\n",
    "\n",
    "# テーブルが存在しない場合のみ作成する\n",
    "cursor.execute('''CREATE TABLE IF NOT EXISTS words (word TEXT, value REAL)''')\n",
    "\n",
    "# モデル内のすべての単語と値をデータベースに保存する\n",
    "for word in model.wv.key_to_index:\n",
    "    cursor.execute('''INSERT INTO words VALUES (?, ?)''', (word, 0.000000))\n",
    "\n",
    "# コミットして変更を確定する\n",
    "conn.commit()\n",
    "\n",
    "# データベース接続を閉じる\n",
    "conn.close()\n"
   ]
  },
  {
   "cell_type": "code",
   "execution_count": 3,
   "metadata": {},
   "outputs": [
    {
     "name": "stdout",
     "output_type": "stream",
     "text": [
      "[['其の']]\n"
     ]
    },
    {
     "name": "stderr",
     "output_type": "stream",
     "text": [
      "C:\\Users\\IRSL27\\AppData\\Local\\Temp\\ipykernel_6992\\563620756.py:43: UserWarning: Tight layout not applied. The bottom and top margins cannot be made large enough to accommodate all axes decorations.\n",
      "  plt.tight_layout()\n"
     ]
    },
    {
     "data": {
      "image/png": "[encoded data removed]",
      "text/plain": [
       "<Figure size 640x480 with 1 Axes>"
      ]
     },
     "metadata": {},
     "output_type": "display_data"
    },
    {
     "ename": "IndexError",
     "evalue": "list index out of range",
     "output_type": "error",
     "traceback": [
      "\u001b[1;31m---------------------------------------------------------------------------\u001b[0m",
      "\u001b[1;31mIndexError\u001b[0m                                Traceback (most recent call last)",
      "Cell \u001b[1;32mIn[3], line 18\u001b[0m\n\u001b[0;32m     16\u001b[0m out \u001b[39m=\u001b[39m model\u001b[39m.\u001b[39mwv\u001b[39m.\u001b[39mmost_similar(positive\u001b[39m=\u001b[39m[ans[i][j]], topn\u001b[39m=\u001b[39m\u001b[39m3\u001b[39m)\n\u001b[0;32m     17\u001b[0m \u001b[39mfor\u001b[39;00m prefecture, value \u001b[39min\u001b[39;00m out:\n\u001b[1;32m---> 18\u001b[0m     ans[i\u001b[39m+\u001b[39;49m\u001b[39m1\u001b[39;49m]\u001b[39m.\u001b[39mappend(prefecture)\n\u001b[0;32m     19\u001b[0m     \u001b[39m# SQLクエリを実行して数値を取得\u001b[39;00m\n\u001b[0;32m     20\u001b[0m     cursor\u001b[39m.\u001b[39mexecute(\u001b[39m\"\u001b[39m\u001b[39mSELECT value FROM words WHERE word = ?\u001b[39m\u001b[39m\"\u001b[39m, (prefecture,))\n",
      "\u001b[1;31mIndexError\u001b[0m: list index out of range"
     ]
    }
   ],
   "source": [
    "import sqlite3\n",
    "import pandas as pd\n",
    "import sqlite3\n",
    "\n",
    "# データベースに接続する\n",
    "conn = sqlite3.connect(database_path)\n",
    "cursor = conn.cursor()\n",
    "\n",
    "ans = []\n",
    "ans.append([input(\"意味類似度ネットワークを作りたい単語を入力してください===>\")])\n",
    "print(ans)\n",
    "\n",
    "for i in range(3):\n",
    "    ans.append([])\n",
    "    for j in range(len(ans[i])):\n",
    "        out = model.wv.most_similar(positive=[ans[i][j]], topn=3)\n",
    "        for prefecture, value in out:\n",
    "            ans[i+1].append(prefecture)\n",
    "            # SQLクエリを実行して数値を取得\n",
    "            cursor.execute(\"SELECT value FROM words WHERE word = ?\", (prefecture,))\n",
    "            result = cursor.fetchone()[0]\n",
    "            new_result = result + value\n",
    "            val = '{:6f}'.format(new_result)\n",
    "            cursor.execute(\"UPDATE words SET value = ? WHERE word = ?\", (val, prefecture))\n",
    "\n",
    "            # SQLクエリを実行して結果を取得\n",
    "            cursor.execute(\"SELECT word, value FROM words ORDER BY value DESC LIMIT 10\")\n",
    "            results = cursor.fetchall()\n",
    "\n",
    "            # 値とラベルのリストを作成\n",
    "            values = [result[1] for result in results]\n",
    "            labels = [result[0] for result in results]\n",
    "            \n",
    "            # グラフの作成\n",
    "            plt.barh(labels, values)\n",
    "            plt.xlabel('Value')\n",
    "            plt.ylabel('Word')\n",
    "\n",
    "            # バーの長さを値に応じて調整\n",
    "            for i, v in enumerate(values):\n",
    "                plt.text(v + 0.1, i, str(v), color='blue')\n",
    "\n",
    "            plt.tight_layout()\n",
    "            plt.show()      \n",
    "\n",
    "print(ans)\n",
    "for i in range(len(ans)):\n",
    "    print(len(ans[i]))\n",
    "\n",
    "# コミットして変更を確定する\n",
    "conn.commit()\n",
    "\n",
    "# データベース接続を閉じる\n",
    "conn.close()\n"
   ]
  }
 ],
 "metadata": {
  "kernelspec": {
   "display_name": "base",
   "language": "python",
   "name": "python3"
  },
  "language_info": {
   "codemirror_mode": {
    "name": "ipython",
    "version": 3
   },
   "file_extension": ".py",
   "mimetype": "text/x-python",
   "name": "python",
   "nbconvert_exporter": "python",
   "pygments_lexer": "ipython3",
   "version": "3.10.9"
  },
  "orig_nbformat": 4
 },
 "nbformat": 4,
 "nbformat_minor": 2
}
