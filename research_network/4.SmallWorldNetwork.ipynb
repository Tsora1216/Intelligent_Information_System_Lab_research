{
 "cells": [
  {
   "cell_type": "markdown",
   "metadata": {},
   "source": [
    "# スモールワールドネットワーク生成"
   ]
  },
  {
   "cell_type": "code",
   "execution_count": 5,
   "metadata": {},
   "outputs": [],
   "source": [
    "import matplotlib.pyplot as plt\n",
    "import networkx as nx\n",
    "import numpy as np"
   ]
  },
  {
   "cell_type": "markdown",
   "metadata": {},
   "source": [
    "## NetworkXの組み込み関数より生成"
   ]
  },
  {
   "cell_type": "code",
   "execution_count": 22,
   "metadata": {},
   "outputs": [
    {
     "name": "stdout",
     "output_type": "stream",
     "text": [
      "NetworkXのwatts_strogatz_graph()より生成\n"
     ]
    },
    {
     "ename": "AttributeError",
     "evalue": "module 'networkx' has no attribute 'info'",
     "output_type": "error",
     "traceback": [
      "\u001b[1;31m---------------------------------------------------------------------------\u001b[0m",
      "\u001b[1;31mAttributeError\u001b[0m                            Traceback (most recent call last)",
      "Cell \u001b[1;32mIn[22], line 8\u001b[0m\n\u001b[0;32m      6\u001b[0m G1 \u001b[39m=\u001b[39m nx\u001b[39m.\u001b[39mwatts_strogatz_graph(n, k, p)\n\u001b[0;32m      7\u001b[0m pos \u001b[39m=\u001b[39m nx\u001b[39m.\u001b[39mcircular_layout(G1)\n\u001b[1;32m----> 8\u001b[0m \u001b[39mprint\u001b[39m(nx\u001b[39m.\u001b[39;49minfo(G1)) \u001b[39m# 種々の情報を出力\u001b[39;00m\n\u001b[0;32m      9\u001b[0m \u001b[39mprint\u001b[39m(\u001b[39m'\u001b[39m\u001b[39mクラスタ係数：\u001b[39m\u001b[39m'\u001b[39m, nx\u001b[39m.\u001b[39maverage_clustering(G1)) \u001b[39m# ネットワーク全体のクラスタ係数を出力\u001b[39;00m\n\u001b[0;32m     10\u001b[0m nx\u001b[39m.\u001b[39mdraw(G1, pos)\n",
      "\u001b[1;31mAttributeError\u001b[0m: module 'networkx' has no attribute 'info'"
     ]
    }
   ],
   "source": [
    "n = 100 # ノード数\n",
    "k = 4 # 次数\n",
    "p = 0.1 # リンクつなぎ替え確率\n",
    "\n",
    "print('NetworkXのwatts_strogatz_graph()より生成')\n",
    "G1 = nx.watts_strogatz_graph(n, k, p)\n",
    "pos = nx.circular_layout(G1)\n",
    "print(nx.info(G1)) # 種々の情報を出力\n",
    "print('クラスタ係数：', nx.average_clustering(G1)) # ネットワーク全体のクラスタ係数を出力\n",
    "nx.draw(G1, pos)\n",
    "plt.show()"
   ]
  },
  {
   "cell_type": "markdown",
   "metadata": {},
   "source": [
    "## 自作関数で生成"
   ]
  },
  {
   "cell_type": "code",
   "execution_count": 11,
   "metadata": {},
   "outputs": [
    {
     "name": "stdout",
     "output_type": "stream",
     "text": [
      "自作関数による生成\n"
     ]
    },
    {
     "ename": "AttributeError",
     "evalue": "module 'networkx' has no attribute 'info'",
     "output_type": "error",
     "traceback": [
      "\u001b[1;31m---------------------------------------------------------------------------\u001b[0m",
      "\u001b[1;31mAttributeError\u001b[0m                            Traceback (most recent call last)",
      "Cell \u001b[1;32mIn[11], line 30\u001b[0m\n\u001b[0;32m     28\u001b[0m G2 \u001b[39m=\u001b[39m gen_WS_network(n, k, p)\n\u001b[0;32m     29\u001b[0m pos \u001b[39m=\u001b[39m nx\u001b[39m.\u001b[39mcircular_layout(G2)\n\u001b[1;32m---> 30\u001b[0m \u001b[39mprint\u001b[39m(nx\u001b[39m.\u001b[39;49minfo(G2))\n\u001b[0;32m     31\u001b[0m \u001b[39mprint\u001b[39m(\u001b[39m'\u001b[39m\u001b[39mクラスタ係数：\u001b[39m\u001b[39m'\u001b[39m, nx\u001b[39m.\u001b[39maverage_clustering(G2))\n\u001b[0;32m     32\u001b[0m nx\u001b[39m.\u001b[39mdraw(G2, pos)\n",
      "\u001b[1;31mAttributeError\u001b[0m: module 'networkx' has no attribute 'info'"
     ]
    }
   ],
   "source": [
    "# 自作のスモールワールドネットワーク生成関数\n",
    "def gen_WS_network(n, k, p, seed=None):\n",
    "    if seed is not None:\n",
    "        np.random.seed(seed=seed)\n",
    "    \n",
    "    G = nx.Graph()\n",
    "    G.add_nodes_from(list(range(n)))\n",
    "    \n",
    "    for i in range(n):\n",
    "        for j in range(k//2):\n",
    "            G.add_edge(i, (i+j+1)%n) # k/2本リンクを張る\n",
    "            \n",
    "    for (u,v) in G.edges():\n",
    "        if np.random.rand() < p: # pの確率でつなぎ替え\n",
    "            G.remove_edge(u, v)\n",
    "            new_node = (u+np.random.randint(n-1)+1)%n # 新しい接続先としてu+1からu-1までの中からランダムに選ぶ\n",
    "            while G.has_edge(u, new_node) == True: # 既存リンクは除外\n",
    "                new_node = (u+np.random.randint(n-1)+1)%n\n",
    "            G.add_edge(u, new_node)\n",
    "    \n",
    "    return G\n",
    "\n",
    "n = 100\n",
    "k = 4\n",
    "p = 0.1\n",
    "\n",
    "print('自作関数による生成')\n",
    "G2 = gen_WS_network(n, k, p)\n",
    "pos = nx.circular_layout(G2)\n",
    "print(nx.info(G2))\n",
    "print('クラスタ係数：', nx.average_clustering(G2))\n",
    "nx.draw(G2, pos)\n",
    "plt.show()"
   ]
  },
  {
   "cell_type": "markdown",
   "metadata": {},
   "source": [
    "## 論文との比較"
   ]
  },
  {
   "cell_type": "code",
   "execution_count": 23,
   "metadata": {},
   "outputs": [
    {
     "data": {
      "image/png": "[encoded data removed]",
      "text/plain": [
       "<Figure size 640x480 with 1 Axes>"
      ]
     },
     "metadata": {},
     "output_type": "display_data"
    }
   ],
   "source": [
    "n = 1000\n",
    "k = 10\n",
    "\n",
    "G01 = gen_WS_network(n, k, 0)\n",
    "C01 = nx.average_clustering(G01)\n",
    "G02 = nx.watts_strogatz_graph(n, k, 0)\n",
    "C02 = nx.average_clustering(G02)\n",
    "\n",
    "tmp = np.array(range(1,11))\n",
    "parray = np.zeros(40)\n",
    "parray[0:10]  = tmp/10000\n",
    "parray[10:20] = tmp/1000\n",
    "parray[20:30] = tmp/100\n",
    "parray[30:40] = tmp/10\n",
    "\n",
    "result1 = []\n",
    "result2 = []\n",
    "\n",
    "for p in parray:\n",
    "    G1 = gen_WS_network(n, k, p)\n",
    "    result1.append(nx.average_clustering(G1))\n",
    "    G2 = nx.watts_strogatz_graph(n, k, p)\n",
    "    result2.append(nx.average_clustering(G2))\n",
    "result1 = np.array(result1) / C01\n",
    "result2 = np.array(result2) / C02\n",
    "    \n",
    "fig = plt.figure()\n",
    "ax = fig.add_subplot(111)\n",
    "ax.plot(parray, result1, label='My generator')\n",
    "ax.plot(parray, result2, label='NetworkX')\n",
    "ax.set_xlabel(r'$p$')\n",
    "ax.set_ylabel(r'$C(p)/C(0)$')\n",
    "ax.set_ylim(0,1)\n",
    "ax.set_xscale('log')\n",
    "plt.legend()\n",
    "plt.show()"
   ]
  }
 ],
 "metadata": {
  "kernelspec": {
   "display_name": "Python 3",
   "language": "python",
   "name": "python3"
  },
  "language_info": {
   "codemirror_mode": {
    "name": "ipython",
    "version": 3
   },
   "file_extension": ".py",
   "mimetype": "text/x-python",
   "name": "python",
   "nbconvert_exporter": "python",
   "pygments_lexer": "ipython3",
   "version": "3.8.3"
  }
 },
 "nbformat": 4,
 "nbformat_minor": 4
}
