{
  "nbformat": 4,
  "nbformat_minor": 0,
  "metadata": {
    "colab": {
      "provenance": []
    },
    "kernelspec": {
      "name": "python3",
      "display_name": "Python 3"
    },
    "language_info": {
      "name": "python"
    }
  },
  "cells": [
    {
      "cell_type": "code",
      "metadata": {
        "id": "x7Py_ng47nvH"
      },
      "source": [],
      "execution_count": null,
      "outputs": []
    },
    {
      "cell_type": "markdown",
      "metadata": {
        "id": "PgRwjHg07tQk"
      },
      "source": [
        "ここに掲載されているコードは、  \n",
        "『コピペで簡単実行！キテレツおもしろ自然言語処理～PythonとColaboratoryで身につく基礎の基礎』書籍の付録です。    \n",
        "本ファイルの公開用URLや、本ファイル内のコードを、みだりに他の人へ共有しないでください。  \n",
        "\n",
        "本ファイルは、書籍に記載のコードのコピペの手間を省くために作られました。  \n",
        "本ファイルの公開用URLにアクセスすると、  \n",
        "お手元のGoogleアカウントに本ファイルのコピーが作成されます。  \n",
        "（つまり、コレをご覧になっているということは、コピーをご覧になっています）    \n",
        "そのコピーは、あなただけのファイルとして生成されるため、    \n",
        "書籍をお買い求め済みの方は、自由に変更したり実行したり保存したりして問題ありません。   \n",
        "\n",
        "初期状態では、ご参考までに筆者が実行した出力結果を残してあります。  \n",
        "ご自身で実行する際には、「編集」⇒「出力を全て消去」により、  \n",
        "出力結果を消去してから実行なさると良いでしょう。  \n",
        "\n",
        "※注：Googleの公式が作成したファイルではないため、実行時に  \n",
        "「警告: このノートブックは Google が作成したものではありません。」  \n",
        "という警告が出ます。  \n",
        "気になる方は、ご自身の環境に都度コードをコピーして実行しても良いでしょう。\n",
        "\n"
      ]
    },
    {
      "cell_type": "code",
      "metadata": {
        "id": "qBAvmOn17t_n"
      },
      "source": [],
      "execution_count": null,
      "outputs": []
    },
    {
      "cell_type": "markdown",
      "metadata": {
        "id": "biWM5Obi77Ly"
      },
      "source": [
        "■ 青空文庫からのダウンロード＆加工用共通コード"
      ]
    },
    {
      "cell_type": "code",
      "metadata": {
        "colab": {
          "base_uri": "https://localhost:8080/"
        },
        "id": "ZMktn9Gl78ei",
        "outputId": "7eeb4fd4-dc1d-4b9a-a956-aeb6184a1ceb"
      },
      "source": [
        "# 青空文庫からのダウンロードzip展開＆テキスト抽出\n",
        "\n",
        "import re\n",
        "import zipfile\n",
        "import urllib.request\n",
        "import os.path,glob\n",
        "# 青空文庫のURLから小説テキストデータを得る関数\n",
        "def get_flat_text_from_aozora(zip_url):\n",
        "  # zipファイル名の取得\n",
        "  zip_file_name = re.split(r'/', zip_url)[-1]\n",
        "  print(zip_file_name)\n",
        "  \n",
        "  # 既にダウンロード済みか確認後、URLからファイルを取得\n",
        "  if not os.path.exists(zip_file_name):\n",
        "    print('Download URL = ',zip_url)\n",
        "    data = urllib.request.urlopen(zip_url).read()\n",
        "    with open(zip_file_name, mode=\"wb\") as f:\n",
        "      f.write(data)\n",
        "  else:\n",
        "    print('May be already exists')\n",
        "  \n",
        "  # 拡張子を除いた名前で、展開用フォルダを作成\n",
        "  dir, ext = os.path.splitext(zip_file_name)\n",
        "  if not os.path.exists(dir):\n",
        "    os.makedirs(dir)\n",
        "  \n",
        "  # zipファイルの中身を全て、展開用フォルダに展開\n",
        "  unzipped_data = zipfile.ZipFile(zip_file_name, 'r')\n",
        "  unzipped_data.extractall(dir)\n",
        "  unzipped_data.close()\n",
        "  \n",
        "  # zipファイルの削除\n",
        "  os.remove(zip_file_name)\n",
        "  # 注：展開フォルダの削除は入れていない\n",
        "  \n",
        "  # テキストファイル(.txt)の抽出\n",
        "  wild_path = os.path.join(dir,'*.txt')\n",
        "  # テキストファイルは原則一つ同梱。最初の一つを取得\n",
        "  txt_file_path = glob.glob(wild_path)[0]\n",
        "\n",
        "  print(txt_file_path)\n",
        "  # 青空文庫はshift_jisのためデコードしてutf8にする\n",
        "  binary_data = open(txt_file_path, 'rb').read()\n",
        "  main_text = binary_data.decode('shift_jis')\n",
        "\n",
        "  # 取得したutf8のテキストデータを返す\n",
        "  return main_text\n",
        "\n",
        "\n",
        "# 青空文庫のデータを加工して扱いやすくするコード\n",
        "\n",
        "# 外字データ変換のための準備\n",
        "# 外字変換のための対応表（jisx0213対応表）のダウンロード\n",
        "# ※事前にダウンロード済みであれば飛ばしても良い\n",
        "!wget http://x0213.org/codetable/jisx0213-2004-std.txt\n",
        "\n",
        "import re\n",
        "\n",
        "# 外字変換のための対応表（jisx0213対応表）の読み込み\n",
        "with open('jisx0213-2004-std.txt') as f:\n",
        "  #ms = (re.match(r'(\\d-\\w{4})\\s+U\\+(\\w{4})', l) for l in f if l[0] != '#')\n",
        "  # 追加：jisx0213-2004-std.txtには5桁のUnicodeもあるため対応\n",
        "  ms = (re.match(r'(\\d-\\w{4})\\s+U\\+(\\w{4,5})', l) for l in f if l[0] != '#')\n",
        "  gaiji_table = {m[1]: chr(int(m[2], 16)) for m in ms if m}\n",
        "\n",
        "# 外字データの置き換えのための関数\n",
        "def get_gaiji(s):\n",
        "  # ※［＃「弓＋椁のつくり」、第3水準1-84-22］の形式を変換\n",
        "  m = re.search(r'第(\\d)水準\\d-(\\d{1,2})-(\\d{1,2})', s)\n",
        "  if m:\n",
        "    key = f'{m[1]}-{int(m[2])+32:2X}{int(m[3])+32:2X}'\n",
        "    return gaiji_table.get(key, s)\n",
        "  # ※［＃「身＋單」、U+8EC3、56-1］の形式を変換\n",
        "  m = re.search(r'U\\+(\\w{4})', s)\n",
        "  if m:\n",
        "    return chr(int(m[1], 16))\n",
        "  # ※［＃二の字点、1-2-22］、［＃感嘆符二つ、1-8-75］の形式を変換\n",
        "  m = re.search(r'.*?(\\d)-(\\d{1,2})-(\\d{1,2})', s)\n",
        "  if m:\n",
        "    key = f'{int(m[1])+2}-{int(m[2])+32:2X}{int(m[3])+32:2X}'\n",
        "    return gaiji_table.get(key, s)\n",
        "  # 不明な形式の場合、もとの文字列をそのまま返す\n",
        "  return s\n",
        "\n",
        "# 青空文庫の外字データ置き換え＆注釈＆ルビ除去などを行う加工関数\n",
        "def flatten_aozora(text):\n",
        "  # textの外字データ表記を漢字に置き換える処理\n",
        "  text = re.sub(r'※［＃.+?］', lambda m: get_gaiji(m[0]), text)\n",
        "  # 注釈文や、ルビなどの除去\n",
        "  text = re.split(r'\\-{5,}', text)[2]\n",
        "  text = re.split(r'底本：', text)[0]\n",
        "  text = re.sub(r'《.+?》', '', text)\n",
        "  text = re.sub(r'［＃.+?］', '', text)\n",
        "  text = text.strip()\n",
        "  return text\n",
        "\n",
        "\n",
        "# 複数ファイルのダウンロードや加工を一括実行する関数\n",
        "\n",
        "import time\n",
        "# ZIP-URLのリストから全てのデータをダウンロード＆加工する関数\n",
        "def get_all_flat_text_from_zip_list(zip_list):\n",
        "  all_flat_text = \"\"\n",
        "  for zip_url in zip_list: \n",
        "    # ダウンロードや解凍の失敗があり得るためTry文を使う\n",
        "    # 十分なデータ量があるため数件の失敗はスキップで良い\n",
        "    try:\n",
        "      # 青空文庫からダウンロードする関数を実行\n",
        "      aozora_dl_text = get_flat_text_from_aozora(zip_url)\n",
        "      # 青空文庫のテキストを加工する関数を実行\n",
        "      flat_text = flatten_aozora(aozora_dl_text) \n",
        "      # 結果を追記して改行。\n",
        "      all_flat_text += flat_text + (\"\\n\")\n",
        "      print(zip_url+\" : 取得＆加工完了\")\n",
        "    except:\n",
        "      # エラー時の詳細ログが出るおまじない\n",
        "      import traceback\n",
        "      traceback.print_exc()\n",
        "      print(zip_url+\" : 取得or解凍エラーのためスキップ\")\n",
        "    \n",
        "    # 青空文庫サーバに負荷をかけすぎないように１秒まってから次の小説へ\n",
        "    time.sleep(1)\n",
        "  \n",
        "  # 全部がつながった大きなテキストデータを返す\n",
        "  return all_flat_text\n"
      ],
      "execution_count": null,
      "outputs": [
        {
          "output_type": "stream",
          "name": "stdout",
          "text": [
            "--2021-11-28 14:46:07--  http://x0213.org/codetable/jisx0213-2004-std.txt\n",
            "Resolving x0213.org (x0213.org)... 59.106.19.103\n",
            "Connecting to x0213.org (x0213.org)|59.106.19.103|:80... connected.\n",
            "HTTP request sent, awaiting response... 200 OK\n",
            "Length: 311997 (305K) [text/plain]\n",
            "Saving to: ‘jisx0213-2004-std.txt’\n",
            "\n",
            "jisx0213-2004-std.t 100%[===================>] 304.68K   398KB/s    in 0.8s    \n",
            "\n",
            "2021-11-28 14:46:08 (398 KB/s) - ‘jisx0213-2004-std.txt’ saved [311997/311997]\n",
            "\n"
          ]
        }
      ]
    },
    {
      "cell_type": "markdown",
      "metadata": {
        "id": "l2q3izoS8B_a"
      },
      "source": [
        "■ 走れメロスのデータをダウンロード＆加工"
      ]
    },
    {
      "cell_type": "code",
      "metadata": {
        "colab": {
          "base_uri": "https://localhost:8080/"
        },
        "id": "YLRV37ck8E3z",
        "outputId": "17a3330e-754a-4476-e8b4-ac4a7bd9b8b6"
      },
      "source": [
        "# ダウンロードしたいURLを入力する\n",
        "ZIP_URL = 'https://www.aozora.gr.jp/cards/000035/files/1567_ruby_4948.zip'\n",
        "\n",
        "# 青空文庫からダウンロードする関数を実行\n",
        "aozora_dl_text = get_flat_text_from_aozora(ZIP_URL)\n",
        "\n",
        "# 途中経過を見たい場合以下のコメントを解除\n",
        "# 冒頭1000文字を出力\n",
        "# print(aozora_dl_text[0:1000])\n",
        "\n",
        "# 青空文庫のテキストを加工する関数を実行\n",
        "flat_text = flatten_aozora(aozora_dl_text)\n",
        "\n",
        "# 冒頭1000文字を出力\n",
        "print(flat_text[0:1000])"
      ],
      "execution_count": null,
      "outputs": [
        {
          "output_type": "stream",
          "name": "stdout",
          "text": [
            "1567_ruby_4948.zip\n",
            "Download URL =  https://www.aozora.gr.jp/cards/000035/files/1567_ruby_4948.zip\n",
            "1567_ruby_4948/hashire_merosu.txt\n",
            "メロスは激怒した。必ず、かの邪智暴虐の王を除かなければならぬと決意した。メロスには政治がわからぬ。メロスは、村の牧人である。笛を吹き、羊と遊んで暮して来た。けれども邪悪に対しては、人一倍に敏感であった。きょう未明メロスは村を出発し、野を越え山越え、十里はなれた此のシラクスの市にやって来た。メロスには父も、母も無い。女房も無い。十六の、内気な妹と二人暮しだ。この妹は、村の或る律気な一牧人を、近々、花婿として迎える事になっていた。結婚式も間近かなのである。メロスは、それゆえ、花嫁の衣裳やら祝宴の御馳走やらを買いに、はるばる市にやって来たのだ。先ず、その品々を買い集め、それから都の大路をぶらぶら歩いた。メロスには竹馬の友があった。セリヌンティウスである。今は此のシラクスの市で、石工をしている。その友を、これから訪ねてみるつもりなのだ。久しく逢わなかったのだから、訪ねて行くのが楽しみである。歩いているうちにメロスは、まちの様子を怪しく思った。ひっそりしている。もう既に日も落ちて、まちの暗いのは当りまえだが、けれども、なんだか、夜のせいばかりでは無く、市全体が、やけに寂しい。のんきなメロスも、だんだん不安になって来た。路で逢った若い衆をつかまえて、何かあったのか、二年まえに此の市に来たときは、夜でも皆が歌をうたって、まちは賑やかであった筈だが、と質問した。若い衆は、首を振って答えなかった。しばらく歩いて老爺に逢い、こんどはもっと、語勢を強くして質問した。老爺は答えなかった。メロスは両手で老爺のからだをゆすぶって質問を重ねた。老爺は、あたりをはばかる低声で、わずか答えた。\n",
            "「王様は、人を殺します。」\n",
            "「なぜ殺すのだ。」\n",
            "「悪心を抱いている、というのですが、誰もそんな、悪心を持っては居りませぬ。」\n",
            "「たくさんの人を殺したのか。」\n",
            "「はい、はじめは王様の妹婿さまを。それから、御自身のお世嗣を。それから、妹さまを。それから、妹さまの御子さまを。それから、皇后さまを。それから、賢臣のアレキス様を。」\n",
            "「おどろいた。国王は乱心か。」\n",
            "「いいえ、乱心ではございませぬ。人を、信ずる事が出来ぬ、というのです。このごろは、臣下の心をも、お疑いになり、少しく派手な暮しをしている者には、人質ひとりずつ差し出すことを命じて居ります。御命令を拒めば十字架にかけられて、殺されます。きょうは、\n"
          ]
        }
      ]
    },
    {
      "cell_type": "markdown",
      "metadata": {
        "id": "rRmGXEam8Hsz"
      },
      "source": [
        "■ 三国志全巻のデータを一気にダウンロード＆加工"
      ]
    },
    {
      "cell_type": "code",
      "metadata": {
        "colab": {
          "base_uri": "https://localhost:8080/"
        },
        "id": "E3Qe0IUm8MJj",
        "outputId": "bb422d88-6d6a-49af-fd52-8f847a8c2908"
      },
      "source": [
        "import time\n",
        "\n",
        "sangokusi_zip_list = [\n",
        "\"https://www.aozora.gr.jp/cards/001562/files/52410_ruby_51060.zip\",\n",
        "\"https://www.aozora.gr.jp/cards/001562/files/52411_ruby_50077.zip\",\n",
        "\"https://www.aozora.gr.jp/cards/001562/files/52412_ruby_50316.zip\",\n",
        "\"https://www.aozora.gr.jp/cards/001562/files/52413_ruby_50406.zip\",\n",
        "\"https://www.aozora.gr.jp/cards/001562/files/52414_ruby_50488.zip\",\n",
        "\"https://www.aozora.gr.jp/cards/001562/files/52415_ruby_50559.zip\",\n",
        "\"https://www.aozora.gr.jp/cards/001562/files/52416_ruby_50636.zip\",\n",
        "\"https://www.aozora.gr.jp/cards/001562/files/52417_ruby_50818.zip\",\n",
        "\"https://www.aozora.gr.jp/cards/001562/files/52418_ruby_50895.zip\",\n",
        "\"https://www.aozora.gr.jp/cards/001562/files/52419_ruby_51044.zip\",\n",
        "\"https://www.aozora.gr.jp/cards/001562/files/52420_ruby_51054.zip\",\n",
        "]\n",
        "\n",
        "# 三国志の全データを取得する\n",
        "sangokusi_org_text = get_all_flat_text_from_zip_list(sangokusi_zip_list)\n",
        "\n",
        "# 冒頭1000文字を出力\n",
        "print(sangokusi_org_text [0:1000])"
      ],
      "execution_count": null,
      "outputs": [
        {
          "output_type": "stream",
          "name": "stdout",
          "text": [
            "52410_ruby_51060.zip\n",
            "Download URL =  https://www.aozora.gr.jp/cards/001562/files/52410_ruby_51060.zip\n",
            "52410_ruby_51060/02toenno_maki.txt\n",
            "https://www.aozora.gr.jp/cards/001562/files/52410_ruby_51060.zip : 取得＆加工完了\n",
            "52411_ruby_50077.zip\n",
            "Download URL =  https://www.aozora.gr.jp/cards/001562/files/52411_ruby_50077.zip\n",
            "52411_ruby_50077/03gunseino_maki.txt\n",
            "https://www.aozora.gr.jp/cards/001562/files/52411_ruby_50077.zip : 取得＆加工完了\n",
            "52412_ruby_50316.zip\n",
            "Download URL =  https://www.aozora.gr.jp/cards/001562/files/52412_ruby_50316.zip\n",
            "52412_ruby_50316/04somono_maki.txt\n",
            "https://www.aozora.gr.jp/cards/001562/files/52412_ruby_50316.zip : 取得＆加工完了\n",
            "52413_ruby_50406.zip\n",
            "Download URL =  https://www.aozora.gr.jp/cards/001562/files/52413_ruby_50406.zip\n",
            "52413_ruby_50406/05shidono_maki.txt\n",
            "https://www.aozora.gr.jp/cards/001562/files/52413_ruby_50406.zip : 取得＆加工完了\n",
            "52414_ruby_50488.zip\n",
            "Download URL =  https://www.aozora.gr.jp/cards/001562/files/52414_ruby_50488.zip\n",
            "52414_ruby_50488/06komeino_maki.txt\n",
            "https://www.aozora.gr.jp/cards/001562/files/52414_ruby_50488.zip : 取得＆加工完了\n",
            "52415_ruby_50559.zip\n",
            "Download URL =  https://www.aozora.gr.jp/cards/001562/files/52415_ruby_50559.zip\n",
            "52415_ruby_50559/07sekihekino_maki.txt\n",
            "https://www.aozora.gr.jp/cards/001562/files/52415_ruby_50559.zip : 取得＆加工完了\n",
            "52416_ruby_50636.zip\n",
            "Download URL =  https://www.aozora.gr.jp/cards/001562/files/52416_ruby_50636.zip\n",
            "52416_ruby_50636/08boshokuno_maki.txt\n",
            "https://www.aozora.gr.jp/cards/001562/files/52416_ruby_50636.zip : 取得＆加工完了\n",
            "52417_ruby_50818.zip\n",
            "Download URL =  https://www.aozora.gr.jp/cards/001562/files/52417_ruby_50818.zip\n",
            "52417_ruby_50818/09tonanno_maki.txt\n",
            "https://www.aozora.gr.jp/cards/001562/files/52417_ruby_50818.zip : 取得＆加工完了\n",
            "52418_ruby_50895.zip\n",
            "Download URL =  https://www.aozora.gr.jp/cards/001562/files/52418_ruby_50895.zip\n",
            "52418_ruby_50895/10suishino_maki.txt\n",
            "https://www.aozora.gr.jp/cards/001562/files/52418_ruby_50895.zip : 取得＆加工完了\n",
            "52419_ruby_51044.zip\n",
            "Download URL =  https://www.aozora.gr.jp/cards/001562/files/52419_ruby_51044.zip\n",
            "52419_ruby_51044/11gojogenno_maki.txt\n",
            "https://www.aozora.gr.jp/cards/001562/files/52419_ruby_51044.zip : 取得＆加工完了\n",
            "52420_ruby_51054.zip\n",
            "Download URL =  https://www.aozora.gr.jp/cards/001562/files/52420_ruby_51054.zip\n",
            "52420_ruby_51054/12hengaiyoroku.txt\n",
            "https://www.aozora.gr.jp/cards/001562/files/52420_ruby_51054.zip : 取得＆加工完了\n",
            "黄巾賊\n",
            "\n",
            "一\n",
            "\n",
            "　後漢の建寧元年のころ。\n",
            "　今から約千七百八十年ほど前のことである。\n",
            "　一人の旅人があった。\n",
            "　腰に、一剣を佩いているほか、身なりはいたって見すぼらしいが、眉は秀で、唇は紅く、とりわけ聡明そうな眸や、豊かな頬をしていて、つねにどこかに微笑をふくみ、総じて賤しげな容子がなかった。\n",
            "　年の頃は二十四、五。\n",
            "　草むらの中に、ぽつねんと坐って、膝をかかえこんでいた。\n",
            "　悠久と水は行く――\n",
            "　微風は爽やかに鬢をなでる。\n",
            "　涼秋の八月だ。\n",
            "　そしてそこは、黄河の畔の――黄土層の低い断り岸であった。\n",
            "「おーい」\n",
            "　誰か河でよんだ。\n",
            "「――そこの若い者ウ。なにを見ているんだい。いくら待っていても、そこは渡し舟の着く所じゃないぞ」\n",
            "　小さな漁船から漁夫がいうのだった。\n",
            "　青年は笑くぼを送って、\n",
            "「ありがとう」と、少し頭を下げた。\n",
            "　漁船は、下流へ流れ去った。けれど青年は、同じ所に、同じ姿をしていた。膝をかかえて坐ったまま遠心的な眼をうごかさなかった。\n",
            "「おい、おい、旅の者」\n",
            "　こんどは、後ろを通った人間が呼びかけた。近村の百姓であろう。ひとりは鶏の足をつかんでさげ、ひとりは農具をかついでいた。\n",
            "「――そんな所で、今朝からなにを待っているんだね。このごろは、黄巾賊とかいう悪徒が立ち廻るからな。役人衆に怪しまれるぞよ」\n",
            "　青年は、振りかえって、\n",
            "「はい、どうも」\n",
            "　おとなしい会釈をかえした。\n",
            "　けれどなお、腰を上げようとはしなかった。\n",
            "　そして、幾千万年も、こうして流れているのかと思われる黄河の水を、飽かずに眺めていた。\n",
            "（――どうしてこの河の水は、こんなに黄色いのか？）\n",
            "　汀の水を、仔細に見ると、それは水その物が黄色いのではなく、砥石を粉にくだいたような黄色い沙の微粒が、水に混じっていちめんにおどっているため、濁って見えるのであった。\n",
            "「ああ……、この土も」\n",
            "　青年は、大地の土を、一つかみ掌に掬った。そして眼を――はるか西北の空へじっと放った。\n",
            "　支那の大地を作ったのも、黄河の水を黄色くしたのも、みなこの沙の微粒である。そしてこの沙は中央｜亜細亜の沙漠から吹いてきた物である。まだ人類の生活も始まらなかった何万年も前の大昔から――不断に吹き送られて、積り積った大地である。この広い黄土と黄河の流れであった。\n"
          ]
        }
      ]
    },
    {
      "cell_type": "markdown",
      "metadata": {
        "id": "1pYd_-8g8Mwa"
      },
      "source": [
        "以下詳細解説のサンプルコード"
      ]
    },
    {
      "cell_type": "markdown",
      "metadata": {
        "id": "ePL-Dcyl8QJy"
      },
      "source": [
        "■ zipファイル名の取得"
      ]
    },
    {
      "cell_type": "code",
      "metadata": {
        "colab": {
          "base_uri": "https://localhost:8080/"
        },
        "id": "1CDuLvbv8V6y",
        "outputId": "f8bb3df6-d1c5-4d0a-b4c9-16935cac136a"
      },
      "source": [
        "import re\n",
        "zip_url = \"https://www.aozora.gr.jp/cards/001562/files/52410_ruby_51060.zip\"\n",
        "zip_file_name = re.split(r'/', zip_url)[-1]\n",
        "print(zip_file_name)"
      ],
      "execution_count": null,
      "outputs": [
        {
          "output_type": "stream",
          "name": "stdout",
          "text": [
            "52410_ruby_51060.zip\n"
          ]
        }
      ]
    },
    {
      "cell_type": "markdown",
      "metadata": {
        "id": "ZrJzAutO8Zb5"
      },
      "source": [
        "■ URLからファイルを取得\n"
      ]
    },
    {
      "cell_type": "code",
      "metadata": {
        "id": "acenrX4M8dmi"
      },
      "source": [
        "import urllib.request\n",
        "zip_url = \"https://www.aozora.gr.jp/cards/001562/files/52410_ruby_51060.zip\"\n",
        "zip_file_name = \"52410_ruby_51060.zip\"\n",
        "data = urllib.request.urlopen(zip_url).read()\n",
        "with open(zip_file_name, mode=\"wb\") as f:\n",
        "  f.write(data)\n"
      ],
      "execution_count": null,
      "outputs": []
    },
    {
      "cell_type": "markdown",
      "metadata": {
        "id": "9mkChLNK8fXz"
      },
      "source": [
        "■ Colaboratory以外の環境でも、ファイルの有無を見るコード"
      ]
    },
    {
      "cell_type": "code",
      "metadata": {
        "colab": {
          "base_uri": "https://localhost:8080/"
        },
        "id": "ZbSqluCO8iar",
        "outputId": "ac9f95e5-cfca-406d-9868-0fa634c2f05b"
      },
      "source": [
        "import os\n",
        "import glob\n",
        "cwd_path = os.getcwd()\n",
        "print(cwd_path)\n",
        "cwd_file_dir_list = glob.glob(cwd_path + os.sep + \"*\")\n",
        "print(cwd_file_dir_list)"
      ],
      "execution_count": null,
      "outputs": [
        {
          "output_type": "stream",
          "name": "stdout",
          "text": [
            "/content\n",
            "['/content/52420_ruby_51054', '/content/52412_ruby_50316', '/content/52418_ruby_50895', '/content/52419_ruby_51044', '/content/52411_ruby_50077', '/content/52416_ruby_50636', '/content/52410_ruby_51060.zip', '/content/52413_ruby_50406', '/content/52417_ruby_50818', '/content/1567_ruby_4948', '/content/52414_ruby_50488', '/content/52410_ruby_51060', '/content/52415_ruby_50559', '/content/jisx0213-2004-std.txt', '/content/sample_data']\n"
          ]
        }
      ]
    },
    {
      "cell_type": "markdown",
      "metadata": {
        "id": "0s1rxwhy8krS"
      },
      "source": [
        "■ 拡張子を除いた名前で、展開用フォルダを作成"
      ]
    },
    {
      "cell_type": "code",
      "metadata": {
        "colab": {
          "base_uri": "https://localhost:8080/"
        },
        "id": "Pmpdpbb28m66",
        "outputId": "719fae87-227f-4dae-d998-f69166c7d20f"
      },
      "source": [
        "import os.path\n",
        "zip_file_name = \"52410_ruby_51060.zip\"\n",
        "dir, ext = os.path.splitext(zip_file_name)\n",
        "print(dir)\n",
        "print(ext)\n",
        "\n",
        "if not os.path.exists(dir):\n",
        "  os.makedirs(dir)"
      ],
      "execution_count": null,
      "outputs": [
        {
          "output_type": "stream",
          "name": "stdout",
          "text": [
            "52410_ruby_51060\n",
            ".zip\n"
          ]
        }
      ]
    },
    {
      "cell_type": "markdown",
      "metadata": {
        "id": "rp-4WjT28pbp"
      },
      "source": [
        "■ zipファイルの中身を全て、展開用フォルダに展開"
      ]
    },
    {
      "cell_type": "code",
      "metadata": {
        "id": "2I5wC_758otC"
      },
      "source": [
        "import zipfile\n",
        "zip_file_name = \"52410_ruby_51060.zip\"\n",
        "dir = \"52410_ruby_51060\"\n",
        "# zipファイルの中身を全て、展開用フォルダに展開\n",
        "unzipped_data = zipfile.ZipFile(zip_file_name, 'r')\n",
        "unzipped_data.extractall(dir)\n",
        "unzipped_data.close()"
      ],
      "execution_count": null,
      "outputs": []
    },
    {
      "cell_type": "markdown",
      "metadata": {
        "id": "ipSL13Mm8ydz"
      },
      "source": [
        "■ テキストファイル(.txt)の抽出"
      ]
    },
    {
      "cell_type": "code",
      "metadata": {
        "colab": {
          "base_uri": "https://localhost:8080/"
        },
        "id": "-cRUg0y18zKx",
        "outputId": "edb79f1b-29df-4666-a336-76f03d3a9643"
      },
      "source": [
        "import os.path,glob\n",
        "dir = \"52410_ruby_51060\"\n",
        "# テキストファイル(.txt)の抽出\n",
        "wild_path = os.path.join(dir,'*.txt')\n",
        "print(wild_path)\n",
        " # テキストファイルは原則一つ同梱。最初の一つを取得\n",
        "txt_file_path = glob.glob(wild_path)[0]\n",
        "print(txt_file_path)"
      ],
      "execution_count": null,
      "outputs": [
        {
          "output_type": "stream",
          "name": "stdout",
          "text": [
            "52410_ruby_51060/*.txt\n",
            "52410_ruby_51060/02toenno_maki.txt\n"
          ]
        }
      ]
    },
    {
      "cell_type": "markdown",
      "metadata": {
        "id": "K8WZuB9490XR"
      },
      "source": [
        "■ デコードしてutf8にしたテキストを取得"
      ]
    },
    {
      "cell_type": "code",
      "metadata": {
        "colab": {
          "base_uri": "https://localhost:8080/"
        },
        "id": "zaX_1vEY8zRx",
        "outputId": "dc1abc8d-4719-4891-db38-2dcc531e2d35"
      },
      "source": [
        "txt_file_path = \"52410_ruby_51060/02toenno_maki.txt\"\n",
        "# 青空文庫はshift_jisのためデコードしてutf8にする\n",
        "binary_data = open(txt_file_path, 'rb').read()\n",
        "main_text = binary_data.decode('shift_jis')\n",
        "print(main_text[0:270])"
      ],
      "execution_count": null,
      "outputs": [
        {
          "output_type": "stream",
          "name": "stdout",
          "text": [
            "三国志\r\n",
            "桃園の巻\r\n",
            "吉川英治\r\n",
            "\r\n",
            "-------------------------------------------------------\r\n",
            "【テキスト中に現れる記号について】\r\n",
            "\r\n",
            "《》：ルビ\r\n",
            "（例）黄巾賊《こうきんぞく》\r\n",
            "\r\n",
            "｜：ルビの付く文字列の始まりを特定する記号\r\n",
            "（例）中央｜亜細亜《アジア》\r\n",
            "\r\n",
            "［＃］：入力者注　主に外字の説明や、傍点の位置の指定\r\n",
            "　　　（数字は、JIS X 0213の面区点番号またはUnicode、底本のページと行数）\r\n",
            "（例）※［＃「さんずい＋（冢−冖）」、第3水準1-86-80］\r\n"
          ]
        }
      ]
    },
    {
      "cell_type": "markdown",
      "metadata": {
        "id": "mgFYsTBB_yRJ"
      },
      "source": [
        "■ 正規表現によるタグ削除の例"
      ]
    },
    {
      "cell_type": "code",
      "metadata": {
        "colab": {
          "base_uri": "https://localhost:8080/"
        },
        "id": "bOhADCM0AIEd",
        "outputId": "ee50e017-cc7b-48e0-d8e1-3f654b56aa84"
      },
      "source": [
        "import re\n",
        "text = \"すべての人類《くりーちゃー》を破壊《はかい》する。［＃５字下げ］それらは再生《さいせい》できない。\"\n",
        "text = re.sub(r'《.+?》', '', text)\n",
        "text = re.sub(r'［＃.+?］', '', text)\n",
        "print(text)"
      ],
      "execution_count": null,
      "outputs": [
        {
          "output_type": "stream",
          "name": "stdout",
          "text": [
            "すべての人類を破壊する。それらは再生できない。\n"
          ]
        }
      ]
    },
    {
      "cell_type": "markdown",
      "metadata": {
        "id": "wHmK2oZXAYEz"
      },
      "source": [
        "■ 「D.外字」の変換方法 / ひらがなをカタカナに直す関数"
      ]
    },
    {
      "cell_type": "code",
      "metadata": {
        "colab": {
          "base_uri": "https://localhost:8080/"
        },
        "id": "K2jwGPedAdwD",
        "outputId": "7bcd02aa-5b54-4aba-d8d3-18a7a47fba88"
      },
      "source": [
        "import re\n",
        "\n",
        "# ひらがなをカタカナに直す関数\n",
        "def hira_to_kata(input_str):\n",
        "  return \"\".join([chr(ord(ch) + 96) if (\"ぁ\" <= ch <= \"ん\") else ch for ch in input_str])\n",
        "\n",
        "text = \"すべての人類《くりーちゃー》を破壊《はかい》する。それらは再生《さいせい》できない。\"\n",
        "text = re.sub(r'《.+?》', lambda m: hira_to_kata(m[0]), text)\n",
        "print(text)"
      ],
      "execution_count": null,
      "outputs": [
        {
          "output_type": "stream",
          "name": "stdout",
          "text": [
            "すべての人類《クリーチャー》を破壊《ハカイ》する。それらは再生《サイセイ》できない。\n"
          ]
        }
      ]
    },
    {
      "cell_type": "markdown",
      "metadata": {
        "id": "lqCSNWdPAhzq"
      },
      "source": [
        "■ 外字変換のための対応表（jisx0213対応表）のダウンロード"
      ]
    },
    {
      "cell_type": "code",
      "metadata": {
        "colab": {
          "base_uri": "https://localhost:8080/"
        },
        "id": "lgVv39nsAipj",
        "outputId": "30dd2304-304e-4fdd-bb6f-8671249274f4"
      },
      "source": [
        "!wget http://x0213.org/codetable/jisx0213-2004-std.txt"
      ],
      "execution_count": null,
      "outputs": [
        {
          "output_type": "stream",
          "name": "stdout",
          "text": [
            "--2021-11-28 14:55:28--  http://x0213.org/codetable/jisx0213-2004-std.txt\n",
            "Resolving x0213.org (x0213.org)... 59.106.19.103\n",
            "Connecting to x0213.org (x0213.org)|59.106.19.103|:80... connected.\n",
            "HTTP request sent, awaiting response... 200 OK\n",
            "Length: 311997 (305K) [text/plain]\n",
            "Saving to: ‘jisx0213-2004-std.txt.1’\n",
            "\n",
            "jisx0213-2004-std.t 100%[===================>] 304.68K   489KB/s    in 0.6s    \n",
            "\n",
            "2021-11-28 14:55:29 (489 KB/s) - ‘jisx0213-2004-std.txt.1’ saved [311997/311997]\n",
            "\n"
          ]
        }
      ]
    },
    {
      "cell_type": "code",
      "metadata": {
        "id": "strQh1KLCzZE"
      },
      "source": [],
      "execution_count": null,
      "outputs": []
    }
  ]
}