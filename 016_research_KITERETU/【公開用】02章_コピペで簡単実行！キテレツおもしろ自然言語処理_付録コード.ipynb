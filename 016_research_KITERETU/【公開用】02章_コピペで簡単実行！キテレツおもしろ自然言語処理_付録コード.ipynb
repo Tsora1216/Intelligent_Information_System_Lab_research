{
  "nbformat": 4,
  "nbformat_minor": 0,
  "metadata": {
    "colab": {
      "provenance": []
    },
    "kernelspec": {
      "name": "python3",
      "display_name": "Python 3"
    }
  },
  "cells": [
    {
      "cell_type": "code",
      "metadata": {
        "id": "zR_9iEECuecG"
      },
      "source": [],
      "execution_count": null,
      "outputs": []
    },
    {
      "cell_type": "markdown",
      "metadata": {
        "id": "MeCuaM9rujgp"
      },
      "source": [
        "ここに掲載されているコードは、  \n",
        "『コピペで簡単実行！キテレツおもしろ自然言語処理～PythonとColaboratoryで身につく基礎の基礎』書籍の付録です。    \n",
        "本ファイルの公開用URLや、本ファイル内のコードを、みだりに他の人へ共有しないでください。  \n",
        "\n",
        "本ファイルは、書籍に記載のコードのコピペの手間を省くために作られました。  \n",
        "本ファイルの公開用URLにアクセスすると、  \n",
        "お手元のGoogleアカウントに本ファイルのコピーが作成されます。  \n",
        "（つまり、コレをご覧になっているということは、コピーをご覧になっています）    \n",
        "そのコピーは、あなただけのファイルとして生成されるため、    \n",
        "書籍をお買い求め済みの方は、自由に変更したり実行したり保存したりして問題ありません。   \n",
        "\n",
        "初期状態では、ご参考までに筆者が実行した出力結果を残してあります。  \n",
        "ご自身で実行する際には、「編集」⇒「出力を全て消去」により、  \n",
        "出力結果を消去してから実行なさると良いでしょう。  \n",
        "\n",
        "※注：Googleの公式が作成したファイルではないため、実行時に  \n",
        "「警告: このノートブックは Google が作成したものではありません。」  \n",
        "という警告が出ます。  \n",
        "気になる方は、ご自身の環境に都度コードをコピーして実行しても良いでしょう。\n",
        "\n",
        "\n"
      ]
    },
    {
      "cell_type": "code",
      "metadata": {
        "id": "_0t1mvlduqCj"
      },
      "source": [],
      "execution_count": null,
      "outputs": []
    },
    {
      "cell_type": "markdown",
      "metadata": {
        "id": "m75JOo2furY5"
      },
      "source": [
        "■ Janomeのインストール："
      ]
    },
    {
      "cell_type": "code",
      "metadata": {
        "colab": {
          "base_uri": "https://localhost:8080/"
        },
        "id": "mxGqk35Oury5",
        "outputId": "15ebea63-ff69-4fd8-9003-274e7bb430e0"
      },
      "source": [
        "!pip install janome\n",
        "# !pip install janome==0.4.1"
      ],
      "execution_count": null,
      "outputs": [
        {
          "output_type": "stream",
          "name": "stdout",
          "text": [
            "Collecting janome\n",
            "  Downloading Janome-0.4.1-py2.py3-none-any.whl (19.7 MB)\n",
            "\u001b[K     |████████████████████████████████| 19.7 MB 1.2 MB/s \n",
            "\u001b[?25hInstalling collected packages: janome\n",
            "Successfully installed janome-0.4.1\n"
          ]
        }
      ]
    },
    {
      "cell_type": "markdown",
      "metadata": {
        "id": "vbJscx84u-l_"
      },
      "source": [
        "■ 原始的な形態素解析の第一歩："
      ]
    },
    {
      "cell_type": "code",
      "metadata": {
        "colab": {
          "base_uri": "https://localhost:8080/"
        },
        "id": "z7m-Y8HXu_Ek",
        "outputId": "0cf62688-0509-40c4-a95f-922d06b3f694"
      },
      "source": [
        "# Janomeのロード\n",
        "from janome.tokenizer import Tokenizer\n",
        "\n",
        "# Tokenizerインスタンスの生成 \n",
        "tokenizer = Tokenizer()\n",
        "\n",
        "# 形態素解析の実施\n",
        "tokens = tokenizer.tokenize(\"肉を食べよう！\")\n",
        "\n",
        "# 解析結果の出力：複数の結果が入っておりループ処理で順番に出す\n",
        "for token in tokens:\n",
        "  print(token) # 各単語の全情報"
      ],
      "execution_count": null,
      "outputs": [
        {
          "output_type": "stream",
          "name": "stdout",
          "text": [
            "肉\t名詞,一般,*,*,*,*,肉,ニク,ニク\n",
            "を\t助詞,格助詞,一般,*,*,*,を,ヲ,ヲ\n",
            "食べよ\t動詞,自立,*,*,一段,未然ウ接続,食べる,タベヨ,タベヨ\n",
            "う\t助動詞,*,*,*,不変化型,基本形,う,ウ,ウ\n",
            "！\t記号,一般,*,*,*,*,！,！,！\n"
          ]
        }
      ]
    },
    {
      "cell_type": "markdown",
      "metadata": {
        "id": "eW-UrIr3u_VJ"
      },
      "source": [
        "■ Janomeの使い方確認："
      ]
    },
    {
      "cell_type": "code",
      "metadata": {
        "colab": {
          "base_uri": "https://localhost:8080/"
        },
        "id": "Kd_8xNRXu_eg",
        "outputId": "293eecd3-ca11-4da7-90f5-c1740526159b"
      },
      "source": [
        "# Janomeのロード\n",
        "from janome.tokenizer import Tokenizer\n",
        "\n",
        "# Tokenizerインスタンスの生成 \n",
        "tokenizer = Tokenizer()\n",
        "\n",
        "# 形態素解析の実施\n",
        "tokens = tokenizer.tokenize(\"肉を食べよう！\")\n",
        "\n",
        "# 解析結果の出力\n",
        "for token in tokens:\n",
        "  print(token) # 各単語の全情報\n",
        "  # print(token.surface) #元の単語そのまま ⇒ 出力を省略\n",
        "  print(token.reading) # ヨミガナ\n",
        "  print(token.base_form) # (動詞などの)原形\n",
        "  print(token.part_of_speech) # 品詞情報\n",
        "  print(token.part_of_speech.split(','))  # 品詞情報をカンマで区切り、リスト形式に加工\n",
        "  print(token.part_of_speech.split(',')[0]) # [0]でリストの先頭の要素を参照\n",
        "  print(\"-----\") # わかりやすいように単語ごとに仕切りを入れる\n"
      ],
      "execution_count": null,
      "outputs": [
        {
          "output_type": "stream",
          "name": "stdout",
          "text": [
            "肉\t名詞,一般,*,*,*,*,肉,ニク,ニク\n",
            "ニク\n",
            "肉\n",
            "名詞,一般,*,*\n",
            "['名詞', '一般', '*', '*']\n",
            "名詞\n",
            "-----\n",
            "を\t助詞,格助詞,一般,*,*,*,を,ヲ,ヲ\n",
            "ヲ\n",
            "を\n",
            "助詞,格助詞,一般,*\n",
            "['助詞', '格助詞', '一般', '*']\n",
            "助詞\n",
            "-----\n",
            "食べよ\t動詞,自立,*,*,一段,未然ウ接続,食べる,タベヨ,タベヨ\n",
            "タベヨ\n",
            "食べる\n",
            "動詞,自立,*,*\n",
            "['動詞', '自立', '*', '*']\n",
            "動詞\n",
            "-----\n",
            "う\t助動詞,*,*,*,不変化型,基本形,う,ウ,ウ\n",
            "ウ\n",
            "う\n",
            "助動詞,*,*,*\n",
            "['助動詞', '*', '*', '*']\n",
            "助動詞\n",
            "-----\n",
            "！\t記号,一般,*,*,*,*,！,！,！\n",
            "！\n",
            "！\n",
            "記号,一般,*,*\n",
            "['記号', '一般', '*', '*']\n",
            "記号\n",
            "-----\n"
          ]
        }
      ]
    },
    {
      "cell_type": "markdown",
      "metadata": {
        "id": "5QAVY_z9u_mp"
      },
      "source": [
        "■ ゲンシゴツール："
      ]
    },
    {
      "cell_type": "code",
      "metadata": {
        "colab": {
          "base_uri": "https://localhost:8080/"
        },
        "id": "464Ma-vtu_ue",
        "outputId": "c25d9343-4f39-43e1-8d63-416beadb54ad"
      },
      "source": [
        "# Janomeのロード\n",
        "from janome.tokenizer import Tokenizer\n",
        "\n",
        "# Tokenizerインスタンスの生成 \n",
        "tokenizer = Tokenizer()\n",
        "\n",
        "# 形態素解析の実施\n",
        "tokens = tokenizer.tokenize(\"これでみんなで原始人。肉を食べよう！\")\n",
        "\n",
        "# tokenが助詞の場合は空文字列、それ以外はヨミガナを返す関数の定義\n",
        "def token2gensigo(input_token):\n",
        "  if input_token.part_of_speech.split(',')[0] == \"助詞\":\n",
        "    return \"\"\n",
        "  else:\n",
        "    return input_token.reading\n",
        "\n",
        "# 各tokenの変換結果を\" \"（半角スペース) でつなげる\n",
        "result_str = \"\"\n",
        "# 全てのtokenに、上でdef( 定義) したtoken2gensigo 関数を実行\n",
        "for token in tokens:\n",
        "  result_str += token2gensigo(token) + \" \"\n",
        "\n",
        "print(result_str)\n"
      ],
      "execution_count": null,
      "outputs": [
        {
          "output_type": "stream",
          "name": "stdout",
          "text": [
            "コレ  ミンナ  ゲンシ ジン 。 ニク  タベヨ ウ ！ \n"
          ]
        }
      ]
    },
    {
      "cell_type": "markdown",
      "metadata": {
        "id": "EeH-2_sFu_2M"
      },
      "source": [
        "■ ゲンシジンがいっぱい襲来してきたときのためのコード："
      ]
    },
    {
      "cell_type": "code",
      "metadata": {
        "colab": {
          "base_uri": "https://localhost:8080/",
          "height": 385
        },
        "id": "039cxBt9u_-H",
        "outputId": "295e8509-fde5-4ce4-db47-f00c59f4f14f"
      },
      "source": [
        "# Janomeのロード\n",
        "from janome.tokenizer import Tokenizer\n",
        "\n",
        "# Tokenizerインスタンスの生成 \n",
        "tokenizer = Tokenizer()\n",
        "\n",
        "# 日本語をゲンシゴにする関数\n",
        "def nihongo2gensigo(input_str):\n",
        "  # 形態素解析の実施\n",
        "  tokens = tokenizer.tokenize(input_str)\n",
        "  # 各token の変換結果を\" \"（半角スペース) でつなげる\n",
        "  result_str = \"\"\n",
        "  for token in tokens:\n",
        "    result_str += token2gensigo(token) + \" \"\n",
        "  return result_str\n",
        "\n",
        "# tokenが助詞の場合は空文字列、それ以外はヨミガナを返す関数\n",
        "def token2gensigo(input_token):\n",
        "  if input_token.part_of_speech.split(',')[0] == \"助詞\":\n",
        "    return \"\"\n",
        "  else:\n",
        "    return input_token.reading\n",
        "\n",
        "print(nihongo2gensigo(\"これで今日からみんな原始人になる\"))\n",
        "print(nihongo2gensigo(\"人民の人民による人民のための政治\"))\n",
        "print(nihongo2gensigo(\"大いなる力には大いなる責任が伴う\"))\n"
      ],
      "execution_count": null,
      "outputs": [
        {
          "output_type": "error",
          "ename": "ModuleNotFoundError",
          "evalue": "ignored",
          "traceback": [
            "\u001b[0;31m---------------------------------------------------------------------------\u001b[0m",
            "\u001b[0;31mModuleNotFoundError\u001b[0m                       Traceback (most recent call last)",
            "\u001b[0;32m<ipython-input-1-f13ff469303b>\u001b[0m in \u001b[0;36m<module>\u001b[0;34m()\u001b[0m\n\u001b[1;32m      1\u001b[0m \u001b[0;31m# Janomeのロード\u001b[0m\u001b[0;34m\u001b[0m\u001b[0;34m\u001b[0m\u001b[0;34m\u001b[0m\u001b[0m\n\u001b[0;32m----> 2\u001b[0;31m \u001b[0;32mfrom\u001b[0m \u001b[0mjanome\u001b[0m\u001b[0;34m.\u001b[0m\u001b[0mtokenizer\u001b[0m \u001b[0;32mimport\u001b[0m \u001b[0mTokenizer\u001b[0m\u001b[0;34m\u001b[0m\u001b[0;34m\u001b[0m\u001b[0m\n\u001b[0m\u001b[1;32m      3\u001b[0m \u001b[0;34m\u001b[0m\u001b[0m\n\u001b[1;32m      4\u001b[0m \u001b[0;31m# Tokenizerインスタンスの生成\u001b[0m\u001b[0;34m\u001b[0m\u001b[0;34m\u001b[0m\u001b[0;34m\u001b[0m\u001b[0m\n\u001b[1;32m      5\u001b[0m \u001b[0mtokenizer\u001b[0m \u001b[0;34m=\u001b[0m \u001b[0mTokenizer\u001b[0m\u001b[0;34m(\u001b[0m\u001b[0;34m)\u001b[0m\u001b[0;34m\u001b[0m\u001b[0;34m\u001b[0m\u001b[0m\n",
            "\u001b[0;31mModuleNotFoundError\u001b[0m: No module named 'janome'",
            "",
            "\u001b[0;31m---------------------------------------------------------------------------\u001b[0;32m\nNOTE: If your import is failing due to a missing package, you can\nmanually install dependencies using either !pip or !apt.\n\nTo view examples of installing some common dependencies, click the\n\"Open Examples\" button below.\n\u001b[0;31m---------------------------------------------------------------------------\u001b[0m\n"
          ],
          "errorDetails": {
            "actions": [
              {
                "action": "open_url",
                "actionText": "Open Examples",
                "url": "/notebooks/snippets/importing_libraries.ipynb"
              }
            ]
          }
        }
      ]
    },
    {
      "cell_type": "markdown",
      "metadata": {
        "id": "IRa7Szr2vAFW"
      },
      "source": [
        "■ 1回実行後、以降はこれだけで済む："
      ]
    },
    {
      "cell_type": "code",
      "metadata": {
        "colab": {
          "base_uri": "https://localhost:8080/"
        },
        "id": "MJoMIuYXvAMo",
        "outputId": "daa4603d-1d8b-4bad-9293-6d492645a6bd"
      },
      "source": [
        "print(nihongo2gensigo(\"これで何回でも原始人になれる！\"))"
      ],
      "execution_count": null,
      "outputs": [
        {
          "output_type": "stream",
          "name": "stdout",
          "text": [
            "コレ  ナン カイ  ゲンシ ジン  ナレル ！ \n"
          ]
        }
      ]
    },
    {
      "cell_type": "markdown",
      "metadata": {
        "id": "9766BIfWvAUI"
      },
      "source": [
        "■ ひらがなをカタカナに直す関数："
      ]
    },
    {
      "cell_type": "code",
      "metadata": {
        "colab": {
          "base_uri": "https://localhost:8080/"
        },
        "id": "yI7tYdnFvAbh",
        "outputId": "5bb4e255-b339-4405-b9f6-723e7b821695"
      },
      "source": [
        "# ひらがなをカタカナに直す関数\n",
        "def hira_to_kata(input_str):\n",
        "    return \"\".join([chr(ord(ch) + 96) if (\"ぁ\" <= ch <= \"ん\") else ch for ch in input_str])\n",
        "\n",
        "print(hira_to_kata(\"ここに入れた文章のひらがなをカタカナに変えるよ\"))\n"
      ],
      "execution_count": null,
      "outputs": [
        {
          "output_type": "stream",
          "name": "stdout",
          "text": [
            "ココニ入レタ文章ノヒラガナヲカタカナニ変エルヨ\n"
          ]
        }
      ]
    },
    {
      "cell_type": "markdown",
      "metadata": {
        "id": "ED97okVbvAih"
      },
      "source": [
        "■ 魏延降臨："
      ]
    },
    {
      "cell_type": "code",
      "metadata": {
        "colab": {
          "base_uri": "https://localhost:8080/"
        },
        "id": "ZsewQOVdvApp",
        "outputId": "0f661d67-3f44-48c1-a34f-07c3ff37f38a"
      },
      "source": [
        "# Janomeのロード\n",
        "from janome.tokenizer import Tokenizer\n",
        "\n",
        "# Tokenizerインスタンスの生成 \n",
        "tokenizer = Tokenizer()\n",
        "\n",
        "#日本語を魏延語にする関数\n",
        "def nihongo2giengo(input_str):\n",
        "  # 形態素解析の実施\n",
        "  tokens = tokenizer.tokenize(input_str)\n",
        "  # 各tokenを魏延語変換器にかける\n",
        "  result_str = \"\"\n",
        "  for token in tokens:\n",
        "    result_str += token2giengo(token) + \" \"\n",
        "  return result_str\n",
        "\n",
        "# ひらがなをカタカナに直す関数\n",
        "def hira_to_kata(input_str):\n",
        "    return \"\".join([chr(ord(ch) + 96) if (\"ぁ\" <= ch <= \"ん\") else ch for ch in input_str])\n",
        "\n",
        "# tokenが助詞の場合は空文字列、それ以外は\n",
        "# 元の単語のひらがなをカタカナにする関数\n",
        "def token2giengo(input_token):\n",
        "  if input_token.part_of_speech.split(',')[0] == \"助詞\":\n",
        "    return \"\"\n",
        "  else:\n",
        "    # 「ひらがな」を「カタカナ」に変える関数を元の単語に適用\n",
        "    return hira_to_kata(input_token.surface)\n",
        "\n",
        "print(nihongo2giengo(\"これで今日からみんな原始人になる\"))\n",
        "print(nihongo2giengo(\"人民の人民による人民のための政治\"))\n",
        "print(nihongo2giengo(\"大いなる力には大いなる責任が伴う\"))\n"
      ],
      "execution_count": null,
      "outputs": [
        {
          "output_type": "stream",
          "name": "stdout",
          "text": [
            "コレ  今日  ミンナ 原始 人  ナル \n",
            "人民  人民  人民  タメ  政治 \n",
            "大イナル 力   大イナル 責任  伴ウ \n"
          ]
        }
      ]
    },
    {
      "cell_type": "markdown",
      "metadata": {
        "id": "qSXKz66-vAwT"
      },
      "source": [
        "■ 戦闘民族の血をインストール：  \n",
        "※実行後、要「RESTART RUNTIME」\n"
      ]
    },
    {
      "cell_type": "code",
      "metadata": {
        "colab": {
          "base_uri": "https://localhost:8080/",
          "height": 929
        },
        "id": "a6kzx9UVvA3U",
        "outputId": "707549b6-e2ed-450b-a1f3-d477ca23d1b1"
      },
      "source": [
        "!pip install janome==0.3.7\n",
        "!pip install pykakasi==0.94\n",
        "!pip install semidbm==0.5.1\n",
        "!pip install six==1.12.0\n",
        "!pip install gokulang==1.0.2\n"
      ],
      "execution_count": null,
      "outputs": [
        {
          "output_type": "stream",
          "name": "stdout",
          "text": [
            "Collecting janome==0.3.7\n",
            "  Downloading Janome-0.3.7-py27.py3-none-any.whl (20.7 MB)\n",
            "\u001b[K     |████████████████████████████████| 20.7 MB 69.7 MB/s \n",
            "\u001b[?25hInstalling collected packages: janome\n",
            "  Attempting uninstall: janome\n",
            "    Found existing installation: Janome 0.4.1\n",
            "    Uninstalling Janome-0.4.1:\n",
            "      Successfully uninstalled Janome-0.4.1\n",
            "Successfully installed janome-0.3.7\n"
          ]
        },
        {
          "output_type": "display_data",
          "data": {
            "application/vnd.colab-display-data+json": {
              "pip_warning": {
                "packages": [
                  "janome"
                ]
              }
            }
          },
          "metadata": {}
        },
        {
          "output_type": "stream",
          "name": "stdout",
          "text": [
            "Collecting pykakasi==0.94\n",
            "  Downloading pykakasi-0.94-py3-none-any.whl (2.6 MB)\n",
            "\u001b[K     |████████████████████████████████| 2.6 MB 5.1 MB/s \n",
            "\u001b[?25hRequirement already satisfied: six in /usr/local/lib/python3.7/dist-packages (from pykakasi==0.94) (1.15.0)\n",
            "Collecting semidbm\n",
            "  Downloading semidbm-0.5.1-py2.py3-none-any.whl (13 kB)\n",
            "Installing collected packages: semidbm, pykakasi\n",
            "Successfully installed pykakasi-0.94 semidbm-0.5.1\n",
            "Requirement already satisfied: semidbm==0.5.1 in /usr/local/lib/python3.7/dist-packages (0.5.1)\n",
            "Collecting six==1.12.0\n",
            "  Downloading six-1.12.0-py2.py3-none-any.whl (10 kB)\n",
            "Installing collected packages: six\n",
            "  Attempting uninstall: six\n",
            "    Found existing installation: six 1.15.0\n",
            "    Uninstalling six-1.15.0:\n",
            "      Successfully uninstalled six-1.15.0\n",
            "\u001b[31mERROR: pip's dependency resolver does not currently take into account all the packages that are installed. This behaviour is the source of the following dependency conflicts.\n",
            "tensorflow 2.6.0 requires six~=1.15.0, but you have six 1.12.0 which is incompatible.\n",
            "google-colab 1.0.0 requires six~=1.15.0, but you have six 1.12.0 which is incompatible.\n",
            "google-api-python-client 1.12.8 requires six<2dev,>=1.13.0, but you have six 1.12.0 which is incompatible.\n",
            "google-api-core 1.26.3 requires six>=1.13.0, but you have six 1.12.0 which is incompatible.\n",
            "datascience 0.10.6 requires folium==0.2.1, but you have folium 0.8.3 which is incompatible.\n",
            "albumentations 0.1.12 requires imgaug<0.2.7,>=0.2.5, but you have imgaug 0.2.9 which is incompatible.\u001b[0m\n",
            "Successfully installed six-1.12.0\n"
          ]
        },
        {
          "output_type": "display_data",
          "data": {
            "application/vnd.colab-display-data+json": {
              "pip_warning": {
                "packages": [
                  "six"
                ]
              }
            }
          },
          "metadata": {}
        },
        {
          "output_type": "stream",
          "name": "stdout",
          "text": [
            "Collecting gokulang==1.0.2\n",
            "  Downloading gokulang-1.0.2-py3-none-any.whl (7.2 kB)\n",
            "Requirement already satisfied: six in /usr/local/lib/python3.7/dist-packages (from gokulang==1.0.2) (1.12.0)\n",
            "Requirement already satisfied: janome in /usr/local/lib/python3.7/dist-packages (from gokulang==1.0.2) (0.3.7)\n",
            "Requirement already satisfied: pykakasi in /usr/local/lib/python3.7/dist-packages (from gokulang==1.0.2) (0.94)\n",
            "Requirement already satisfied: semidbm in /usr/local/lib/python3.7/dist-packages (from gokulang==1.0.2) (0.5.1)\n",
            "Installing collected packages: gokulang\n",
            "Successfully installed gokulang-1.0.2\n"
          ]
        }
      ]
    },
    {
      "cell_type": "markdown",
      "metadata": {
        "id": "zELzZ1jDvA-V"
      },
      "source": [
        "■ 戦闘民族の誇りにかけて実行してみる："
      ]
    },
    {
      "cell_type": "code",
      "metadata": {
        "colab": {
          "base_uri": "https://localhost:8080/"
        },
        "id": "KQmkZbUkvBFq",
        "outputId": "f8b0e206-54b9-49f2-f340-8e270f45ccb8"
      },
      "source": [
        "from gokulang.gokulang import GokuLang\n",
        "g = GokuLang()\n",
        "print(g.translate('案外簡単に戦闘民族になれてすごいぞ'))\n",
        "print(g.translate('汚い花火だ'))\n",
        "print(g.translate('パイソンに慣れたか？今のお前なら大丈夫だ'))"
      ],
      "execution_count": null,
      "outputs": [
        {
          "output_type": "stream",
          "name": "stdout",
          "text": [
            "あんげぇ簡単に戦闘民族になれてすげぇぞ\n",
            "きたねぇ花火だ\n",
            "ぺぇそんに慣れたか？今のおめぇならでぇじょうぶだ\n"
          ]
        }
      ]
    },
    {
      "cell_type": "markdown",
      "metadata": {
        "id": "SUVtVm8owDQc"
      },
      "source": [
        "■ お嬢様コトバに変換して差し上げますわ（超簡易版）："
      ]
    },
    {
      "cell_type": "code",
      "metadata": {
        "colab": {
          "base_uri": "https://localhost:8080/"
        },
        "id": "5ElknH65wDfX",
        "outputId": "d606fae2-93e5-4019-db00-87193b323fbf"
      },
      "source": [
        "# 変換用の辞書定義\n",
        "ojyou_dict = {\n",
        "    \"こんにちは\" : \"ごきげんよう\",\n",
        "    \"すみません\": \"恐れ入ります\",\n",
        "    \"ああそう\" : \"さようでございますか\",\n",
        "    \"おなら\" : \"天使のため息\",\n",
        "    \"ぶっとばすぞ\" : \"快適な空の旅をお楽しみください\",\n",
        "}\n",
        "\n",
        "# 変換用の辞書に応じた変換処理を行う関数\n",
        "def ippansimin2ojyou(input_str):\n",
        "  result_str = input_str\n",
        "  for key,value in ojyou_dict.items():\n",
        "    result_str = result_str.replace(key, value)\n",
        "  return result_str\n",
        "\n",
        "print(ippansimin2ojyou(\"こんにちは、調子はどう？\"))\n",
        "print(ippansimin2ojyou(\"すみません、おならが出そうです\"))\n",
        "print(ippansimin2ojyou(\"ああそう、ぶっとばすぞ\"))\n"
      ],
      "execution_count": null,
      "outputs": [
        {
          "output_type": "stream",
          "name": "stdout",
          "text": [
            "ごきげんよう、調子はどう？\n",
            "恐れ入ります、天使のため息が出そうです\n",
            "さようでございますか、快適な空の旅をお楽しみください\n"
          ]
        }
      ]
    },
    {
      "cell_type": "code",
      "metadata": {
        "id": "F186iTfGwD8T"
      },
      "source": [],
      "execution_count": null,
      "outputs": []
    }
  ]
}