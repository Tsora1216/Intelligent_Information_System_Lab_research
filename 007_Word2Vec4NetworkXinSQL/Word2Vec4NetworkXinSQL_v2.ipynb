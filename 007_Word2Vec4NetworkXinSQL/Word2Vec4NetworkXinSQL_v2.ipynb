{
 "cells": [
  {
   "attachments": {},
   "cell_type": "markdown",
   "metadata": {},
   "source": [
    "教授にプレゼン後、データの保存をし、テーブルとして値を持つ必要があることがわかった\n",
    "大きなデータになるので保存方法を考慮する必要があった。\n",
    "CSV、Excel、バイナリ、HDF5が候補として挙がった。\n",
    "HDF5形式は大容量のデータセットを効率的に保存するためのファイル形式であるため、採択。\n",
    "参考サイトの少なさから一時的にSQLを採択\n",
    "SQLをテストし、全語句のデータの保存をしてみた\n",
    "SQLでは、VisualStudioCodeの拡張機能が使いづらく、SQLite3に変更した\n",
    "SQLite->dataframe->変更->dataframe->変更を保存->SQLiteの完成\n",
    "上記の方法では変更件数に関わらず、全件で1分30秒かかる。\n",
    "変更に時間がかかりすぎな点が課題であるため、データの更新方法を検討\n",
    "SQLからPythonに値を渡さず、直接書き込むことで一件当たり0.1秒以内"
   ]
  },
  {
   "cell_type": "code",
   "execution_count": 5,
   "metadata": {},
   "outputs": [],
   "source": [
    "import pandas as pd\n",
    "from gensim.models import Word2Vec\n",
    "import seaborn as sns\n",
    "import pandas as pd\n",
    "import numpy as np\n",
    "import matplotlib as mpl\n",
    "import matplotlib.pyplot as plt\n",
    "import japanize_matplotlib\n",
    "import pandas as pd\n",
    "import networkx as nx\n",
    "import matplotlib.pyplot as plt\n",
    "\n",
    "# 学習済みモデルのロード\n",
    "model_file_path = '../../KITERETU/gw2v160.model'\n",
    "model = Word2Vec.load(model_file_path)"
   ]
  },
  {
   "cell_type": "code",
   "execution_count": 4,
   "metadata": {},
   "outputs": [],
   "source": [
    "from gensim.models import Word2Vec\n",
    "import sqlite3\n",
    "\n",
    "# データベースに接続し、カーソルを作成する\n",
    "conn = sqlite3.connect('database.sqlite')\n",
    "cursor = conn.cursor()\n",
    "\n",
    "# テーブルが存在しない場合のみ作成する\n",
    "cursor.execute('''CREATE TABLE IF NOT EXISTS words (word TEXT, value REAL)''')\n",
    "\n",
    "# モデル内のすべての単語と値をデータベースに保存する\n",
    "for word in model.wv.key_to_index:\n",
    "    cursor.execute('''INSERT INTO words VALUES (?, ?)''', (word, 0.000000))\n",
    "\n",
    "# コミットして変更を確定する\n",
    "conn.commit()\n",
    "\n",
    "# データベース接続を閉じる\n",
    "conn.close()\n"
   ]
  },
  {
   "cell_type": "code",
   "execution_count": 7,
   "metadata": {},
   "outputs": [
    {
     "ename": "KeyboardInterrupt",
     "evalue": "",
     "output_type": "error",
     "traceback": [
      "\u001b[1;31m---------------------------------------------------------------------------\u001b[0m",
      "\u001b[1;31mKeyboardInterrupt\u001b[0m                         Traceback (most recent call last)",
      "Cell \u001b[1;32mIn[7], line 22\u001b[0m\n\u001b[0;32m     20\u001b[0m \u001b[39m# DataFrameの内容をデータベースに保存する\u001b[39;00m\n\u001b[0;32m     21\u001b[0m \u001b[39mfor\u001b[39;00m index, row \u001b[39min\u001b[39;00m df\u001b[39m.\u001b[39miterrows():\n\u001b[1;32m---> 22\u001b[0m     cursor\u001b[39m.\u001b[39;49mexecute(\u001b[39m'''\u001b[39;49m\u001b[39mINSERT INTO words VALUES (?, ?)\u001b[39;49m\u001b[39m'''\u001b[39;49m, (row[\u001b[39m'\u001b[39;49m\u001b[39mword\u001b[39;49m\u001b[39m'\u001b[39;49m], row[\u001b[39m'\u001b[39;49m\u001b[39mvalue\u001b[39;49m\u001b[39m'\u001b[39;49m]))\n\u001b[0;32m     24\u001b[0m \u001b[39m# コミットして変更を確定する\u001b[39;00m\n\u001b[0;32m     25\u001b[0m conn\u001b[39m.\u001b[39mcommit()\n",
      "\u001b[1;31mKeyboardInterrupt\u001b[0m: "
     ]
    }
   ],
   "source": [
    "# SQLiteからデータを取得し、DataFrameに格納する\n",
    "import pandas as pd\n",
    "\n",
    "conn = sqlite3.connect('database.sqlite')\n",
    "df = pd.read_sql_query(\"SELECT * FROM words\", conn)\n",
    "\n",
    "# キーを使ってデータを変更する\n",
    "df.loc[df['word'] == '使用', 'value'] = 0.10000\n",
    "\n",
    "# DataFrameの変更をSQLiteに反映する\n",
    "conn = sqlite3.connect('database.sqlite')\n",
    "cursor = conn.cursor()\n",
    "\n",
    "# データベース内のテーブルを一旦削除する\n",
    "cursor.execute('''DROP TABLE IF EXISTS words''')\n",
    "\n",
    "# テーブルを再作成する\n",
    "cursor.execute('''CREATE TABLE words (word TEXT, value REAL)''')\n",
    "\n",
    "# DataFrameの内容をデータベースに保存する\n",
    "for index, row in df.iterrows():\n",
    "    cursor.execute('''INSERT INTO words VALUES (?, ?)''', (row['word'], row['value']))\n",
    "\n",
    "# コミットして変更を確定する\n",
    "conn.commit()\n",
    "\n",
    "# データベース接続を閉じる\n",
    "conn.close()"
   ]
  },
  {
   "cell_type": "code",
   "execution_count": 9,
   "metadata": {},
   "outputs": [],
   "source": [
    "import sqlite3\n",
    "\n",
    "# データベースに接続する\n",
    "conn = sqlite3.connect('database.sqlite')\n",
    "cursor = conn.cursor()\n",
    "\n",
    "# データの更新を行う\n",
    "cursor.execute(\"UPDATE words SET value = ? WHERE word = ?\", (0.10000, '其の'))\n",
    "\n",
    "# コミットして変更を確定する\n",
    "conn.commit()\n",
    "\n",
    "# データベース接続を閉じる\n",
    "conn.close()\n"
   ]
  },
  {
   "cell_type": "code",
   "execution_count": null,
   "metadata": {},
   "outputs": [],
   "source": [
    "import sqlite3\n",
    "\n",
    "# データベースに接続する\n",
    "conn = sqlite3.connect('database.sqlite')\n",
    "cursor = conn.cursor()\n",
    "\n",
    "# データの更新を行う\n",
    "cursor.execute(\"UPDATE words SET value = ? WHERE word = ?\", (0.10000, '其の'))\n",
    "\n",
    "# コミットして変更を確定する\n",
    "conn.commit()\n",
    "\n",
    "# データベース接続を閉じる\n",
    "conn.close()\n"
   ]
  }
 ],
 "metadata": {
  "kernelspec": {
   "display_name": "base",
   "language": "python",
   "name": "python3"
  },
  "language_info": {
   "codemirror_mode": {
    "name": "ipython",
    "version": 3
   },
   "file_extension": ".py",
   "mimetype": "text/x-python",
   "name": "python",
   "nbconvert_exporter": "python",
   "pygments_lexer": "ipython3",
   "version": "3.10.9"
  },
  "orig_nbformat": 4
 },
 "nbformat": 4,
 "nbformat_minor": 2
}
