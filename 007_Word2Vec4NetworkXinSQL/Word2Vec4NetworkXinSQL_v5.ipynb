{
 "cells": [
  {
   "attachments": {},
   "cell_type": "markdown",
   "metadata": {},
   "source": [
    "教授にプレゼン後、データの保存をし、テーブルとして値を持つ必要があることがわかった\n",
    "大きなデータになるので保存方法を考慮する必要があった。\n",
    "CSV、Excel、バイナリ、HDF5が候補として挙がった。\n",
    "HDF5形式は大容量のデータセットを効率的に保存するためのファイル形式であるため、採択。\n",
    "参考サイトの少なさから一時的にSQLを採択\n",
    "SQLをテストし、全語句のデータの保存をしてみた\n",
    "SQLでは、VisualStudioCodeの拡張機能が使いづらく、SQLite3に変更した\n",
    "SQLite->dataframe->変更->dataframe->変更を保存->SQLiteの完成\n",
    "上記の方法では変更件数に関わらず、全件で1分30秒かかる。\n",
    "変更に時間がかかりすぎな点が課題であるため、データの更新方法を検討\n",
    "SQLからPythonに値を渡さず、直接書き込むことで一件当たり0.1秒以内\n",
    "また、拡散ネットワークを作るために、関連文字列に拡散し、ループ一回を拡散と見なしたとき、一回目の入力を除き、n=3の時,3,9,27"
   ]
  },
  {
   "cell_type": "code",
   "execution_count": 4,
   "metadata": {},
   "outputs": [],
   "source": [
    "import pandas as pd\n",
    "from gensim.models import Word2Vec\n",
    "import seaborn as sns\n",
    "import pandas as pd\n",
    "import numpy as np\n",
    "import matplotlib as mpl\n",
    "import matplotlib.pyplot as plt\n",
    "import japanize_matplotlib\n",
    "import pandas as pd\n",
    "import networkx as nx\n",
    "import matplotlib.pyplot as plt\n",
    "\n",
    "# 学習済みモデルのロード\n",
    "model_file_path = '../../KITERETU/gw2v160.model'\n",
    "model = Word2Vec.load(model_file_path)"
   ]
  },
  {
   "cell_type": "code",
   "execution_count": 3,
   "metadata": {},
   "outputs": [
    {
     "name": "stdout",
     "output_type": "stream",
     "text": [
      "[['']]\n"
     ]
    },
    {
     "ename": "KeyError",
     "evalue": "\"Key '' not present in vocabulary\"",
     "output_type": "error",
     "traceback": [
      "\u001b[1;31m---------------------------------------------------------------------------\u001b[0m",
      "\u001b[1;31mKeyError\u001b[0m                                  Traceback (most recent call last)",
      "Cell \u001b[1;32mIn[3], line 15\u001b[0m\n\u001b[0;32m     13\u001b[0m ans\u001b[39m.\u001b[39mappend([])\n\u001b[0;32m     14\u001b[0m \u001b[39mfor\u001b[39;00m j \u001b[39min\u001b[39;00m \u001b[39mrange\u001b[39m(\u001b[39mlen\u001b[39m(ans[i])):\n\u001b[1;32m---> 15\u001b[0m     out \u001b[39m=\u001b[39m model\u001b[39m.\u001b[39;49mwv\u001b[39m.\u001b[39;49mmost_similar(positive\u001b[39m=\u001b[39;49m[ans[i][j]], topn\u001b[39m=\u001b[39;49m\u001b[39m3\u001b[39;49m)\n\u001b[0;32m     16\u001b[0m     \u001b[39mfor\u001b[39;00m prefecture, value \u001b[39min\u001b[39;00m out:\n\u001b[0;32m     17\u001b[0m         ans[i\u001b[39m+\u001b[39m\u001b[39m1\u001b[39m]\u001b[39m.\u001b[39mappend(prefecture)\n",
      "File \u001b[1;32mc:\\Users\\IRSL27\\anaconda3\\lib\\site-packages\\gensim\\models\\keyedvectors.py:841\u001b[0m, in \u001b[0;36mKeyedVectors.most_similar\u001b[1;34m(self, positive, negative, topn, clip_start, clip_end, restrict_vocab, indexer)\u001b[0m\n\u001b[0;32m    838\u001b[0m         weight[idx] \u001b[39m=\u001b[39m item[\u001b[39m1\u001b[39m]\n\u001b[0;32m    840\u001b[0m \u001b[39m# compute the weighted average of all keys\u001b[39;00m\n\u001b[1;32m--> 841\u001b[0m mean \u001b[39m=\u001b[39m \u001b[39mself\u001b[39;49m\u001b[39m.\u001b[39;49mget_mean_vector(keys, weight, pre_normalize\u001b[39m=\u001b[39;49m\u001b[39mTrue\u001b[39;49;00m, post_normalize\u001b[39m=\u001b[39;49m\u001b[39mTrue\u001b[39;49;00m, ignore_missing\u001b[39m=\u001b[39;49m\u001b[39mFalse\u001b[39;49;00m)\n\u001b[0;32m    842\u001b[0m all_keys \u001b[39m=\u001b[39m [\n\u001b[0;32m    843\u001b[0m     \u001b[39mself\u001b[39m\u001b[39m.\u001b[39mget_index(key) \u001b[39mfor\u001b[39;00m key \u001b[39min\u001b[39;00m keys \u001b[39mif\u001b[39;00m \u001b[39misinstance\u001b[39m(key, _KEY_TYPES) \u001b[39mand\u001b[39;00m \u001b[39mself\u001b[39m\u001b[39m.\u001b[39mhas_index_for(key)\n\u001b[0;32m    844\u001b[0m ]\n\u001b[0;32m    846\u001b[0m \u001b[39mif\u001b[39;00m indexer \u001b[39mis\u001b[39;00m \u001b[39mnot\u001b[39;00m \u001b[39mNone\u001b[39;00m \u001b[39mand\u001b[39;00m \u001b[39misinstance\u001b[39m(topn, \u001b[39mint\u001b[39m):\n",
      "File \u001b[1;32mc:\\Users\\IRSL27\\anaconda3\\lib\\site-packages\\gensim\\models\\keyedvectors.py:518\u001b[0m, in \u001b[0;36mKeyedVectors.get_mean_vector\u001b[1;34m(self, keys, weights, pre_normalize, post_normalize, ignore_missing)\u001b[0m\n\u001b[0;32m    516\u001b[0m         total_weight \u001b[39m+\u001b[39m\u001b[39m=\u001b[39m \u001b[39mabs\u001b[39m(weights[idx])\n\u001b[0;32m    517\u001b[0m     \u001b[39melif\u001b[39;00m \u001b[39mnot\u001b[39;00m ignore_missing:\n\u001b[1;32m--> 518\u001b[0m         \u001b[39mraise\u001b[39;00m \u001b[39mKeyError\u001b[39;00m(\u001b[39mf\u001b[39m\u001b[39m\"\u001b[39m\u001b[39mKey \u001b[39m\u001b[39m'\u001b[39m\u001b[39m{\u001b[39;00mkey\u001b[39m}\u001b[39;00m\u001b[39m'\u001b[39m\u001b[39m not present in vocabulary\u001b[39m\u001b[39m\"\u001b[39m)\n\u001b[0;32m    520\u001b[0m \u001b[39mif\u001b[39;00m total_weight \u001b[39m>\u001b[39m \u001b[39m0\u001b[39m:\n\u001b[0;32m    521\u001b[0m     mean \u001b[39m=\u001b[39m mean \u001b[39m/\u001b[39m total_weight\n",
      "\u001b[1;31mKeyError\u001b[0m: \"Key '' not present in vocabulary\""
     ]
    }
   ],
   "source": [
    "import pandas as pd\n",
    "import sqlite3\n",
    "import itertools\n",
    "\n",
    "conn = sqlite3.connect('database.sqlite')\n",
    "df = pd.read_sql_query(\"SELECT * FROM words\", conn)\n",
    "\n",
    "ans = []\n",
    "ans.append([input(\"意味類似度ネットワークを作りたい単語を入力してください===>\")])\n",
    "print(ans)\n",
    "\n",
    "for i in range(1):\n",
    "    ans.append([])\n",
    "    for j in range(len(ans[i])):\n",
    "        out = model.wv.most_similar(positive=[ans[i][j]], topn=3)\n",
    "        for prefecture, value in out:\n",
    "            ans[i+1].append(prefecture)\n",
    "\n",
    "print(ans)\n",
    "for i in range(len(ans)):\n",
    "    print(len(ans[i]))"
   ]
  },
  {
   "cell_type": "code",
   "execution_count": 5,
   "metadata": {},
   "outputs": [
    {
     "name": "stdout",
     "output_type": "stream",
     "text": [
      "['群馬']\n",
      "['群馬', ['クレード', '環', 'ホモロジー', '駿馬', '鞍', '良馬']]\n",
      "2\n",
      "6\n"
     ]
    }
   ],
   "source": [
    "import pandas as pd\n",
    "import sqlite3\n",
    "import itertools\n",
    "\n",
    "conn = sqlite3.connect('database.sqlite')\n",
    "df = pd.read_sql_query(\"SELECT * FROM words\", conn)\n",
    "\n",
    "ans = []\n",
    "ans.append(\"群馬\")\n",
    "print(ans)\n",
    "\n",
    "for i in range(1):\n",
    "    ans.append([])\n",
    "    for j in range(len(ans[i])):\n",
    "        out = model.wv.most_similar(positive=[ans[i][j]], topn=3)\n",
    "        for prefecture, value in out:\n",
    "            ans[i+1].append(prefecture)\n",
    "\n",
    "print(ans)\n",
    "for i in range(len(ans)):\n",
    "    print(len(ans[i]))"
   ]
  },
  {
   "cell_type": "code",
   "execution_count": null,
   "metadata": {},
   "outputs": [],
   "source": [
    "import pandas as pd\n",
    "import sqlite3\n",
    "import itertools\n",
    "\n",
    "conn = sqlite3.connect('database.sqlite')\n",
    "df = pd.read_sql_query(\"SELECT * FROM words\", conn)\n",
    "\n",
    "ans = []\n",
    "ans.append(\"群馬\")\n",
    "print(ans)\n",
    "\n",
    "for i in range(1):\n",
    "    ans.append([])\n",
    "    for j in range(len(ans[i])):\n",
    "        out = model.wv.most_similar(positive=[ans[i][j]], topn=3)\n",
    "        for prefecture, value in out:\n",
    "            ans[i+1].append(prefecture)\n",
    "\n",
    "print(ans)\n",
    "for i in range(len(ans)):\n",
    "    print(len(ans[i]))"
   ]
  },
  {
   "cell_type": "code",
   "execution_count": null,
   "metadata": {},
   "outputs": [],
   "source": [
    "import pandas as pd\n",
    "import sqlite3\n",
    "import itertools\n",
    "\n",
    "conn = sqlite3.connect('database.sqlite')\n",
    "df = pd.read_sql_query(\"SELECT * FROM words\", conn)\n",
    "\n",
    "ans = []\n",
    "ans.append(\"群馬\")\n",
    "print(ans)\n",
    "\n",
    "for i in range(1):\n",
    "    ans.append([])\n",
    "    for j in range(len(ans[i])):\n",
    "        out = model.wv.most_similar(positive=[ans[i][j]], topn=3)\n",
    "        for prefecture, value in out:\n",
    "            ans[i+1].append(prefecture)\n",
    "\n",
    "print(ans)\n",
    "for i in range(len(ans)):\n",
    "    print(len(ans[i]))"
   ]
  },
  {
   "cell_type": "code",
   "execution_count": null,
   "metadata": {},
   "outputs": [],
   "source": [
    "import pandas as pd\n",
    "import sqlite3\n",
    "import itertools\n",
    "\n",
    "conn = sqlite3.connect('database.sqlite')\n",
    "df = pd.read_sql_query(\"SELECT * FROM words\", conn)\n",
    "\n",
    "ans = []\n",
    "ans.append(\"群馬\")\n",
    "print(ans)\n",
    "\n",
    "for i in range(1):\n",
    "    ans.append([])\n",
    "    for j in range(len(ans[i])):\n",
    "        out = model.wv.most_similar(positive=[ans[i][j]], topn=3)\n",
    "        for prefecture, value in out:\n",
    "            ans[i+1].append(prefecture)\n",
    "\n",
    "print(ans)\n",
    "for i in range(len(ans)):\n",
    "    print(len(ans[i]))"
   ]
  },
  {
   "cell_type": "code",
   "execution_count": null,
   "metadata": {},
   "outputs": [],
   "source": [
    "import pandas as pd\n",
    "import sqlite3\n",
    "import itertools\n",
    "\n",
    "conn = sqlite3.connect('database.sqlite')\n",
    "df = pd.read_sql_query(\"SELECT * FROM words\", conn)\n",
    "\n",
    "ans = []\n",
    "ans.append(\"群馬\")\n",
    "print(ans)\n",
    "\n",
    "for i in range(1):\n",
    "    ans.append([])\n",
    "    for j in range(len(ans[i])):\n",
    "        out = model.wv.most_similar(positive=[ans[i][j]], topn=3)\n",
    "        for prefecture, value in out:\n",
    "            ans[i+1].append(prefecture)\n",
    "\n",
    "print(ans)\n",
    "for i in range(len(ans)):\n",
    "    print(len(ans[i]))"
   ]
  },
  {
   "cell_type": "code",
   "execution_count": null,
   "metadata": {},
   "outputs": [],
   "source": [
    "import pandas as pd\n",
    "import sqlite3\n",
    "import itertools\n",
    "\n",
    "conn = sqlite3.connect('database.sqlite')\n",
    "df = pd.read_sql_query(\"SELECT * FROM words\", conn)\n",
    "\n",
    "ans = []\n",
    "ans.append(\"群馬\")\n",
    "print(ans)\n",
    "\n",
    "for i in range(1):\n",
    "    ans.append([])\n",
    "    for j in range(len(ans[i])):\n",
    "        out = model.wv.most_similar(positive=[ans[i][j]], topn=3)\n",
    "        for prefecture, value in out:\n",
    "            ans[i+1].append(prefecture)\n",
    "\n",
    "print(ans)\n",
    "for i in range(len(ans)):\n",
    "    print(len(ans[i]))"
   ]
  }
 ],
 "metadata": {
  "kernelspec": {
   "display_name": "base",
   "language": "python",
   "name": "python3"
  },
  "language_info": {
   "codemirror_mode": {
    "name": "ipython",
    "version": 3
   },
   "file_extension": ".py",
   "mimetype": "text/x-python",
   "name": "python",
   "nbconvert_exporter": "python",
   "pygments_lexer": "ipython3",
   "version": "3.10.9"
  },
  "orig_nbformat": 4
 },
 "nbformat": 4,
 "nbformat_minor": 2
}
