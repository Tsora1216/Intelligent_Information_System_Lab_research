{
 "cells": [
  {
   "attachments": {},
   "cell_type": "markdown",
   "metadata": {},
   "source": [
    "教授にプレゼン後、データの保存をし、テーブルとして値を持つ必要があることがわかった\n",
    "大きなデータになるので保存方法を考慮する必要があった。\n",
    "CSV、Excel、バイナリ、HDF5が候補として挙がった。\n",
    "HDF5形式は大容量のデータセットを効率的に保存するためのファイル形式であるため、採択。\n",
    "参考サイトの少なさから一時的にSQLを採択\n",
    "SQLをテストし、全語句のデータの保存をしてみた\n",
    "SQLでは、VisualStudioCodeの拡張機能が使いづらく、SQLite3に変更した\n",
    "SQLite->dataframe->変更->dataframe->変更を保存->SQLiteの完成\n",
    "上記の方法では変更件数に関わらず、全件で1分30秒かかる。\n",
    "変更に時間がかかりすぎな点が課題であるため、データの更新方法を検討\n",
    "SQLからPythonに値を渡さず、直接書き込むことで一件当たり0.1秒以内\n",
    "また、拡散ネットワークを作るために、関連文字列に拡散し、ループ一回を拡散と見なしたとき、一回目の入力を除き、n=3の時,3,9,27"
   ]
  },
  {
   "cell_type": "code",
   "execution_count": 1,
   "metadata": {},
   "outputs": [
    {
     "name": "stdout",
     "output_type": "stream",
     "text": [
      "Defaulting to user installation because normal site-packages is not writeable\n",
      "Requirement already satisfied: gensim in c:\\users\\owner\\appdata\\roaming\\python\\python310\\site-packages (4.3.1)\n",
      "Requirement already satisfied: numpy>=1.18.5 in c:\\users\\owner\\appdata\\roaming\\python\\python310\\site-packages (from gensim) (1.23.1)\n",
      "Requirement already satisfied: scipy>=1.7.0 in c:\\users\\owner\\appdata\\roaming\\python\\python310\\site-packages (from gensim) (1.8.1)\n",
      "Requirement already satisfied: smart-open>=1.8.1 in c:\\users\\owner\\appdata\\roaming\\python\\python310\\site-packages (from gensim) (6.3.0)\n",
      "Defaulting to user installation because normal site-packages is not writeable\n",
      "Requirement already satisfied: japanize_matplotlib in c:\\users\\owner\\appdata\\roaming\\python\\python310\\site-packages (1.1.3)\n",
      "Requirement already satisfied: matplotlib in c:\\users\\owner\\appdata\\roaming\\python\\python310\\site-packages (from japanize_matplotlib) (3.5.1)\n",
      "Requirement already satisfied: cycler>=0.10 in c:\\users\\owner\\appdata\\roaming\\python\\python310\\site-packages (from matplotlib->japanize_matplotlib) (0.11.0)\n",
      "Requirement already satisfied: fonttools>=4.22.0 in c:\\users\\owner\\appdata\\roaming\\python\\python310\\site-packages (from matplotlib->japanize_matplotlib) (4.29.1)\n",
      "Requirement already satisfied: kiwisolver>=1.0.1 in c:\\users\\owner\\appdata\\roaming\\python\\python310\\site-packages (from matplotlib->japanize_matplotlib) (1.3.2)\n",
      "Requirement already satisfied: numpy>=1.17 in c:\\users\\owner\\appdata\\roaming\\python\\python310\\site-packages (from matplotlib->japanize_matplotlib) (1.23.1)\n",
      "Requirement already satisfied: packaging>=20.0 in c:\\users\\owner\\appdata\\roaming\\python\\python310\\site-packages (from matplotlib->japanize_matplotlib) (21.3)\n",
      "Requirement already satisfied: pillow>=6.2.0 in c:\\users\\owner\\appdata\\roaming\\python\\python310\\site-packages (from matplotlib->japanize_matplotlib) (9.0.1)\n",
      "Requirement already satisfied: pyparsing>=2.2.1 in c:\\users\\owner\\appdata\\roaming\\python\\python310\\site-packages (from matplotlib->japanize_matplotlib) (3.0.7)\n",
      "Requirement already satisfied: python-dateutil>=2.7 in c:\\users\\owner\\appdata\\roaming\\python\\python310\\site-packages (from matplotlib->japanize_matplotlib) (2.8.2)\n",
      "Requirement already satisfied: six>=1.5 in c:\\users\\owner\\appdata\\roaming\\python\\python310\\site-packages (from python-dateutil>=2.7->matplotlib->japanize_matplotlib) (1.16.0)\n"
     ]
    }
   ],
   "source": [
    "!pip install gensim\n",
    "!pip install japanize_matplotlib"
   ]
  },
  {
   "cell_type": "code",
   "execution_count": 2,
   "metadata": {},
   "outputs": [],
   "source": [
    "import pandas as pd\n",
    "from gensim.models import Word2Vec\n",
    "import seaborn as sns\n",
    "import pandas as pd\n",
    "import numpy as np\n",
    "import matplotlib as mpl\n",
    "import matplotlib.pyplot as plt\n",
    "import japanize_matplotlib\n",
    "import pandas as pd\n",
    "import networkx as nx\n",
    "import matplotlib.pyplot as plt\n",
    "\n",
    "# 学習済みモデルのロード\n",
    "model_file_path = '../../KITERETU/gw2v160.model'\n",
    "model = Word2Vec.load(model_file_path)"
   ]
  },
  {
   "cell_type": "code",
   "execution_count": 3,
   "metadata": {},
   "outputs": [
    {
     "name": "stdout",
     "output_type": "stream",
     "text": [
      "[['赤']]\n",
      "[['赤'], ['青', '黄色', '白'], ['赤', '青色', '白', '橙色', '緑色', '赤色', '黒', '青', '赤'], ['青', '黄色', '白', '黄色', '赤色', '緑色', '黒', '青', '赤', '黄色', '白色', '赤色', '黄色', '青色', '紫色', '黄色', '青色', '白色', '白', '赤', 'buta', '赤', '青色', '白', '青', '黄色', '白'], ['赤', '青色', '白', '橙色', '緑色', '赤色', '黒', '青', '赤', '橙色', '緑色', '赤色', '黄色', '青色', '白色', '黄色', '青色', '紫色', '白', '赤', 'buta', '赤', '青色', '白', '青', '黄色', '白', '橙色', '緑色', '赤色', '赤色', '黒色', '黄色', '黄色', '青色', '白色', '橙色', '緑色', '赤色', '黄色', '赤色', '緑色', '緑色', '黄緑色', '黄色', '橙色', '緑色', '赤色', '黄色', '赤色', '緑色', '赤色', '黒色', '黄色', '黒', '青', '赤', '青', '黄色', '白', '黒', '青', '闥', '青', '黄色', '白', '黄色', '赤色', '緑色', '黒', '青', '赤', '赤', '青色', '白', '橙色', '緑色', '赤色', '黒', '青', '赤'], ['青', '黄色', '白', '黄色', '赤色', '緑色', '黒', '青', '赤', '黄色', '白色', '赤色', '黄色', '青色', '紫色', '黄色', '青色', '白色', '白', '赤', 'buta', '赤', '青色', '白', '青', '黄色', '白', '黄色', '白色', '赤色', '黄色', '青色', '紫色', '黄色', '青色', '白色', '橙色', '緑色', '赤色', '黄色', '赤色', '緑色', '赤色', '黒色', '黄色', '橙色', '緑色', '赤色', '黄色', '赤色', '緑色', '緑色', '黄緑色', '黄色', '黒', '青', '赤', '青', '黄色', '白', '黒', '青', '闥', '青', '黄色', '白', '黄色', '赤色', '緑色', '黒', '青', '赤', '赤', '青色', '白', '橙色', '緑色', '赤色', '黒', '青', '赤', '黄色', '白色', '赤色', '黄色', '青色', '紫色', '黄色', '青色', '白色', '黄色', '青色', '白色', '白色', '赤色', '黄色', '橙色', '緑色', '赤色', '橙色', '緑色', '赤色', '黄色', '赤色', '緑色', '赤色', '黒色', '黄色', '黄色', '白色', '赤色', '黄色', '青色', '紫色', '黄色', '青色', '白色', '橙色', '緑色', '赤色', '黄色', '青色', '白色', '黄色', '青色', '紫色', '黄色', '青色', '紫色', '紫色', '緑色', '黄色', '橙色', '緑色', '赤色', '黄色', '白色', '赤色', '黄色', '青色', '紫色', '黄色', '青色', '白色', '橙色', '緑色', '赤色', '黄色', '青色', '白色', '黄色', '青色', '紫色', '黄色', '青色', '白色', '白色', '赤色', '黄色', '橙色', '緑色', '赤色', '白', '赤', 'buta', '赤', '青色', '白', '青', '黄色', '白', '赤', '青色', '白', '橙色', '緑色', '赤色', '黒', '青', '赤', '白', '赤', 'buta', '赤', '青色', '白', '帝城', 'buta', '黒', '赤', '青色', '白', '橙色', '緑色', '赤色', '黒', '青', '赤', '橙色', '緑色', '赤色', '黄色', '青色', '白色', '黄色', '青色', '紫色', '白', '赤', 'buta', '赤', '青色', '白', '青', '黄色', '白', '青', '黄色', '白', '黄色', '赤色', '緑色', '黒', '青', '赤', '黄色', '白色', '赤色', '黄色', '青色', '紫色', '黄色', '青色', '白色', '白', '赤', 'buta', '赤', '青色', '白', '青', '黄色', '白']]\n",
      "1\n",
      "3\n",
      "9\n",
      "27\n",
      "81\n",
      "243\n"
     ]
    }
   ],
   "source": [
    "import pandas as pd\n",
    "import sqlite3\n",
    "import itertools\n",
    "\n",
    "conn = sqlite3.connect('database.sqlite')\n",
    "df = pd.read_sql_query(\"SELECT * FROM words\", conn)\n",
    "\n",
    "ans = []\n",
    "ans.append([input(\"意味類似度ネットワークを作りたい単語を入力してください===>\")])\n",
    "print(ans)\n",
    "\n",
    "for i in range(5):\n",
    "    ans.append([])\n",
    "    for j in range(len(ans[i])):\n",
    "        out = model.wv.most_similar(positive=[ans[i][j]], topn=3)\n",
    "        for prefecture, value in out:\n",
    "            ans[i+1].append(prefecture)\n",
    "\n",
    "print(ans)\n",
    "for i in range(len(ans)):\n",
    "    print(len(ans[i]))"
   ]
  },
  {
   "cell_type": "code",
   "execution_count": 4,
   "metadata": {},
   "outputs": [
    {
     "name": "stdout",
     "output_type": "stream",
     "text": [
      "['群馬']\n",
      "['群馬', ['クレード', '環', 'ホモロジー', '駿馬', '鞍', '良馬']]\n",
      "2\n",
      "6\n"
     ]
    }
   ],
   "source": [
    "import pandas as pd\n",
    "import sqlite3\n",
    "import itertools\n",
    "\n",
    "conn = sqlite3.connect('database.sqlite')\n",
    "df = pd.read_sql_query(\"SELECT * FROM words\", conn)\n",
    "\n",
    "ans = []\n",
    "ans.append(\"群馬\")\n",
    "print(ans)\n",
    "\n",
    "for i in range(1):\n",
    "    ans.append([])\n",
    "    for j in range(len(ans[i])):\n",
    "        out = model.wv.most_similar(positive=[ans[i][j]], topn=3)\n",
    "        for prefecture, value in out:\n",
    "            ans[i+1].append(prefecture)\n",
    "\n",
    "print(ans)\n",
    "for i in range(len(ans)):\n",
    "    print(len(ans[i]))"
   ]
  },
  {
   "cell_type": "code",
   "execution_count": 5,
   "metadata": {},
   "outputs": [
    {
     "name": "stdout",
     "output_type": "stream",
     "text": [
      "['群馬']\n",
      "['群馬', ['クレード', '環', 'ホモロジー', '駿馬', '鞍', '良馬']]\n",
      "2\n",
      "6\n"
     ]
    }
   ],
   "source": [
    "import pandas as pd\n",
    "import sqlite3\n",
    "import itertools\n",
    "\n",
    "conn = sqlite3.connect('database.sqlite')\n",
    "df = pd.read_sql_query(\"SELECT * FROM words\", conn)\n",
    "\n",
    "ans = []\n",
    "ans.append(\"群馬\")\n",
    "print(ans)\n",
    "\n",
    "for i in range(1):\n",
    "    ans.append([])\n",
    "    for j in range(len(ans[i])):\n",
    "        out = model.wv.most_similar(positive=[ans[i][j]], topn=3)\n",
    "        for prefecture, value in out:\n",
    "            ans[i+1].append(prefecture)\n",
    "\n",
    "print(ans)\n",
    "for i in range(len(ans)):\n",
    "    print(len(ans[i]))"
   ]
  },
  {
   "cell_type": "code",
   "execution_count": 6,
   "metadata": {},
   "outputs": [
    {
     "name": "stdout",
     "output_type": "stream",
     "text": [
      "['群馬']\n",
      "['群馬', ['クレード', '環', 'ホモロジー', '駿馬', '鞍', '良馬']]\n",
      "2\n",
      "6\n"
     ]
    }
   ],
   "source": [
    "import pandas as pd\n",
    "import sqlite3\n",
    "import itertools\n",
    "\n",
    "conn = sqlite3.connect('database.sqlite')\n",
    "df = pd.read_sql_query(\"SELECT * FROM words\", conn)\n",
    "\n",
    "ans = []\n",
    "ans.append(\"群馬\")\n",
    "print(ans)\n",
    "\n",
    "for i in range(1):\n",
    "    ans.append([])\n",
    "    for j in range(len(ans[i])):\n",
    "        out = model.wv.most_similar(positive=[ans[i][j]], topn=3)\n",
    "        for prefecture, value in out:\n",
    "            ans[i+1].append(prefecture)\n",
    "\n",
    "print(ans)\n",
    "for i in range(len(ans)):\n",
    "    print(len(ans[i]))"
   ]
  },
  {
   "cell_type": "code",
   "execution_count": 7,
   "metadata": {},
   "outputs": [
    {
     "name": "stdout",
     "output_type": "stream",
     "text": [
      "['群馬']\n",
      "['群馬', ['クレード', '環', 'ホモロジー', '駿馬', '鞍', '良馬']]\n",
      "2\n",
      "6\n"
     ]
    }
   ],
   "source": [
    "import pandas as pd\n",
    "import sqlite3\n",
    "import itertools\n",
    "\n",
    "conn = sqlite3.connect('database.sqlite')\n",
    "df = pd.read_sql_query(\"SELECT * FROM words\", conn)\n",
    "\n",
    "ans = []\n",
    "ans.append(\"群馬\")\n",
    "print(ans)\n",
    "\n",
    "for i in range(1):\n",
    "    ans.append([])\n",
    "    for j in range(len(ans[i])):\n",
    "        out = model.wv.most_similar(positive=[ans[i][j]], topn=3)\n",
    "        for prefecture, value in out:\n",
    "            ans[i+1].append(prefecture)\n",
    "\n",
    "print(ans)\n",
    "for i in range(len(ans)):\n",
    "    print(len(ans[i]))"
   ]
  },
  {
   "cell_type": "code",
   "execution_count": 8,
   "metadata": {},
   "outputs": [
    {
     "name": "stdout",
     "output_type": "stream",
     "text": [
      "['群馬']\n",
      "['群馬', ['クレード', '環', 'ホモロジー', '駿馬', '鞍', '良馬']]\n",
      "2\n",
      "6\n"
     ]
    }
   ],
   "source": [
    "import pandas as pd\n",
    "import sqlite3\n",
    "import itertools\n",
    "\n",
    "conn = sqlite3.connect('database.sqlite')\n",
    "df = pd.read_sql_query(\"SELECT * FROM words\", conn)\n",
    "\n",
    "ans = []\n",
    "ans.append(\"群馬\")\n",
    "print(ans)\n",
    "\n",
    "for i in range(1):\n",
    "    ans.append([])\n",
    "    for j in range(len(ans[i])):\n",
    "        out = model.wv.most_similar(positive=[ans[i][j]], topn=3)\n",
    "        for prefecture, value in out:\n",
    "            ans[i+1].append(prefecture)\n",
    "\n",
    "print(ans)\n",
    "for i in range(len(ans)):\n",
    "    print(len(ans[i]))"
   ]
  },
  {
   "cell_type": "code",
   "execution_count": 9,
   "metadata": {},
   "outputs": [
    {
     "name": "stdout",
     "output_type": "stream",
     "text": [
      "['群馬']\n",
      "['群馬', ['クレード', '環', 'ホモロジー', '駿馬', '鞍', '良馬']]\n",
      "2\n",
      "6\n"
     ]
    }
   ],
   "source": [
    "import pandas as pd\n",
    "import sqlite3\n",
    "import itertools\n",
    "\n",
    "conn = sqlite3.connect('database.sqlite')\n",
    "df = pd.read_sql_query(\"SELECT * FROM words\", conn)\n",
    "\n",
    "ans = []\n",
    "ans.append(\"群馬\")\n",
    "print(ans)\n",
    "\n",
    "for i in range(1):\n",
    "    ans.append([])\n",
    "    for j in range(len(ans[i])):\n",
    "        out = model.wv.most_similar(positive=[ans[i][j]], topn=3)\n",
    "        for prefecture, value in out:\n",
    "            ans[i+1].append(prefecture)\n",
    "\n",
    "print(ans)\n",
    "for i in range(len(ans)):\n",
    "    print(len(ans[i]))"
   ]
  }
 ],
 "metadata": {
  "kernelspec": {
   "display_name": "base",
   "language": "python",
   "name": "python3"
  },
  "language_info": {
   "codemirror_mode": {
    "name": "ipython",
    "version": 3
   },
   "file_extension": ".py",
   "mimetype": "text/x-python",
   "name": "python",
   "nbconvert_exporter": "python",
   "pygments_lexer": "ipython3",
   "version": "3.10.2"
  },
  "orig_nbformat": 4
 },
 "nbformat": 4,
 "nbformat_minor": 2
}
