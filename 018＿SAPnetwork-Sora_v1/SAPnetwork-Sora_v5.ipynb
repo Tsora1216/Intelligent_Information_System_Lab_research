{
 "cells": [
  {
   "attachments": {},
   "cell_type": "markdown",
   "metadata": {},
   "source": [
    "二次元マップで中心にエージェントを仮想的に配置した\n",
    "10個のランダムな距離と中心からの角度を生成し、それらを点P群とした\n",
    "それらの点P群は距離は0～500cm(5m)で、角度は0～360°の値をとっている\n",
    "それらの点P群を二次元マップに書き込んで表示している\n",
    "さらに線を追加して中心からの距離を可視化\n",
    "\n",
    "SQLiteを使用して、データベースによる情報の保持テストを開始した。\n",
    "まずはデータベースを作成するプログラムを組んだ。\n",
    "その中でもSQLファイルが存在しない環境下のみ動作するように変更を行った。\n"
   ]
  },
  {
   "cell_type": "code",
   "execution_count": 1,
   "metadata": {},
   "outputs": [],
   "source": [
    "import sqlite3\n",
    "\n",
    "database_file = 'database.sqlite'\n",
    "\n",
    "# SQLiteデータベースの作成と接続\n",
    "conn = sqlite3.connect(database_file)\n",
    "c = conn.cursor()\n",
    "\n",
    "# knowledgeテーブルが存在しない場合のみ作成\n",
    "c.execute('''CREATE TABLE IF NOT EXISTS knowledge\n",
    "             (id INTEGER PRIMARY KEY AUTOINCREMENT,\n",
    "             topic TEXT,\n",
    "             details TEXT)''')\n",
    "\n",
    "# activity_valueテーブルが存在しない場合のみ作成\n",
    "c.execute('''CREATE TABLE IF NOT EXISTS activity_value\n",
    "             (id INTEGER PRIMARY KEY AUTOINCREMENT,\n",
    "             value TEXT)''')\n",
    "\n",
    "# データベース接続の終了\n",
    "conn.close()\n"
   ]
  }
 ],
 "metadata": {
  "kernelspec": {
   "display_name": "Python 3",
   "language": "python",
   "name": "python3"
  },
  "language_info": {
   "codemirror_mode": {
    "name": "ipython",
    "version": 3
   },
   "file_extension": ".py",
   "mimetype": "text/x-python",
   "name": "python",
   "nbconvert_exporter": "python",
   "pygments_lexer": "ipython3",
   "version": "3.10.9"
  },
  "orig_nbformat": 4
 },
 "nbformat": 4,
 "nbformat_minor": 2
}
