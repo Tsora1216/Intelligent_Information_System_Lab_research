{
 "cells": [
  {
   "cell_type": "code",
   "execution_count": 2,
   "metadata": {},
   "outputs": [
    {
     "name": "stderr",
     "output_type": "stream",
     "text": [
      "  % Total    % Received % Xferd  Average Speed   Time    Time     Time  Current\n",
      "                                 Dload  Upload   Total   Spent    Left  Speed\n",
      "\n",
      "  0     0    0     0    0     0      0      0 --:--:-- --:--:-- --:--:--     0\n",
      "  0     0    0     0    0     0      0      0 --:--:--  0:00:01 --:--:--     0\n",
      "  3 19.1M    3  657k    0     0   336k      0  0:00:58  0:00:01  0:00:57  336k\n",
      " 37 19.1M   37 7373k    0     0  2498k      0  0:00:07  0:00:02  0:00:05 2499k\n",
      " 76 19.1M   76 14.6M    0     0  3793k      0  0:00:05  0:00:03  0:00:02 3794k\n",
      "100 19.1M  100 19.1M    0     0  4288k      0  0:00:04  0:00:04 --:--:-- 4291k\n",
      "  % Total    % Received % Xferd  Average Speed   Time    Time     Time  Current\n",
      "                                 Dload  Upload   Total   Spent    Left  Speed\n",
      "\n",
      "  0     0    0     0    0     0      0      0 --:--:-- --:--:-- --:--:--     0\n",
      "  0     0    0     0    0     0      0      0 --:--:--  0:00:01 --:--:--     0\n",
      "  0  179M    0 20766    0     0  14748      0  3:32:27  0:00:01  3:32:26 14748\n",
      "  0  179M    0 1182k    0     0   507k      0  0:06:02  0:00:02  0:06:00  507k\n",
      "  4  179M    4 8701k    0     0  2611k      0  0:01:10  0:00:03  0:01:07 2611k\n",
      "  8  179M    8 15.8M    0     0  3753k      0  0:00:48  0:00:04  0:00:44 3754k\n",
      " 12  179M   12 22.3M    0     0  4293k      0  0:00:42  0:00:05  0:00:37 5650k\n",
      " 16  179M   16 29.7M    0     0  4815k      0  0:00:38  0:00:06  0:00:32 6187k\n",
      " 20  179M   20 37.0M    0     0  5177k      0  0:00:35  0:00:07  0:00:28 7356k\n",
      " 24  179M   24 44.5M    0     0  5469k      0  0:00:33  0:00:08  0:00:25 7376k\n",
      " 28  179M   28 51.9M    0     0  5698k      0  0:00:32  0:00:09  0:00:23 7383k\n",
      " 32  179M   32 58.8M    0     0  5834k      0  0:00:31  0:00:10  0:00:21 7478k\n",
      " 36  179M   36 65.7M    0     0  5939k      0  0:00:30  0:00:11  0:00:19 7363k\n",
      " 40  179M   40 73.1M    0     0  6075k      0  0:00:30  0:00:12  0:00:18 7392k\n",
      " 44  179M   44 80.6M    0     0  6190k      0  0:00:29  0:00:13  0:00:16 7392k\n",
      " 49  179M   49 87.9M    0     0  6285k      0  0:00:29  0:00:14  0:00:15 7382k\n",
      " 53  179M   53 95.4M    0     0  6373k      0  0:00:28  0:00:15  0:00:13 7488k\n",
      " 56  179M   56  102M    0     0  6395k      0  0:00:28  0:00:16  0:00:12 7430k\n",
      " 61  179M   61  109M    0     0  6463k      0  0:00:28  0:00:17  0:00:11 7420k\n",
      " 65  179M   65  116M    0     0  6518k      0  0:00:28  0:00:18  0:00:10 7392k\n",
      " 69  179M   69  124M    0     0  6574k      0  0:00:27  0:00:19  0:00:08 7401k\n",
      " 73  179M   73  131M    0     0  6623k      0  0:00:27  0:00:20  0:00:07 7388k\n",
      " 76  179M   76  137M    0     0  6619k      0  0:00:27  0:00:21  0:00:06 7350k\n",
      " 81  179M   81  145M    0     0  6663k      0  0:00:27  0:00:22  0:00:05 7356k\n",
      " 85  179M   85  152M    0     0  6703k      0  0:00:27  0:00:23  0:00:04 7382k\n",
      " 89  179M   89  160M    0     0  6736k      0  0:00:27  0:00:24  0:00:03 7366k\n",
      " 93  179M   93  167M    0     0  6771k      0  0:00:27  0:00:25  0:00:02 7376k\n",
      " 97  179M   97  173M    0     0  6764k      0  0:00:27  0:00:26  0:00:01 7382k\n",
      "100  179M  100  179M    0     0  6787k      0  0:00:27  0:00:27 --:--:-- 7376k\n",
      "  % Total    % Received % Xferd  Average Speed   Time    Time     Time  Current\n",
      "                                 Dload  Upload   Total   Spent    Left  Speed\n",
      "\n",
      "  0     0    0     0    0     0      0      0 --:--:-- --:--:-- --:--:--     0\n",
      "  0     0    0     0    0     0      0      0 --:--:--  0:00:01 --:--:--     0\n",
      "  0  179M    0 16596    0     0  13219      0  3:57:02  0:00:01  3:57:01 13234\n",
      "  0  179M    0 1662k    0     0   745k      0  0:04:06  0:00:02  0:04:04  746k\n",
      "  5  179M    5 9226k    0     0  2857k      0  0:01:04  0:00:03  0:01:01 2858k\n",
      "  9  179M    9 16.4M    0     0  3986k      0  0:00:46  0:00:04  0:00:42 3987k\n",
      " 13  179M   13 24.0M    0     0  4680k      0  0:00:39  0:00:05  0:00:34 5996k\n",
      " 17  179M   17 31.1M    0     0  5128k      0  0:00:35  0:00:06  0:00:29 6419k\n",
      " 21  179M   21 38.0M    0     0  5393k      0  0:00:34  0:00:07  0:00:27 7464k\n",
      " 25  179M   25 44.9M    0     0  5587k      0  0:00:32  0:00:08  0:00:24 7350k\n",
      " 29  179M   29 52.3M    0     0  5803k      0  0:00:31  0:00:09  0:00:22 7340k\n",
      " 33  179M   33 59.7M    0     0  5982k      0  0:00:30  0:00:10  0:00:20 7356k\n",
      " 37  179M   37 67.0M    0     0  6116k      0  0:00:30  0:00:11  0:00:19 7347k\n",
      " 41  179M   41 74.4M    0     0  6235k      0  0:00:29  0:00:12  0:00:17 7452k\n",
      " 45  179M   45 80.9M    0     0  6267k      0  0:00:29  0:00:13  0:00:16 7385k\n",
      " 49  179M   49 88.3M    0     0  6360k      0  0:00:28  0:00:14  0:00:14 7388k\n",
      " 53  179M   53 95.8M    0     0  6443k      0  0:00:28  0:00:15  0:00:13 7385k\n",
      " 57  179M   57  103M    0     0  6515k      0  0:00:28  0:00:16  0:00:12 7411k\n",
      " 61  179M   61  110M    0     0  6577k      0  0:00:27  0:00:17  0:00:10 7414k\n",
      " 65  179M   65  117M    0     0  6586k      0  0:00:27  0:00:18  0:00:09 7430k\n",
      " 69  179M   69  124M    0     0  6637k      0  0:00:27  0:00:19  0:00:08 7424k\n",
      " 73  179M   73  131M    0     0  6681k      0  0:00:27  0:00:20  0:00:07 7408k\n",
      " 77  179M   77  139M    0     0  6726k      0  0:00:27  0:00:21  0:00:06 7411k\n",
      " 81  179M   81  146M    0     0  6766k      0  0:00:27  0:00:22  0:00:05 7417k\n",
      " 85  179M   85  153M    0     0  6758k      0  0:00:27  0:00:23  0:00:04 7388k\n",
      " 89  179M   89  160M    0     0  6793k      0  0:00:27  0:00:24  0:00:03 7395k\n",
      " 93  179M   93  168M    0     0  6825k      0  0:00:26  0:00:25  0:00:01 7408k\n",
      " 97  179M   97  175M    0     0  6851k      0  0:00:26  0:00:26 --:--:-- 7382k\n",
      "100  179M  100  179M    0     0  6866k      0  0:00:26  0:00:26 --:--:-- 7358k\n"
     ]
    }
   ],
   "source": [
    "# Word2Vecの学習済みモデルをそのフォルダにダウンロードする（3ファイルで1セット:400MB弱ほど）\n",
    "!curl -o \"../../KITERETU/gw2v160.model\" https://storage.googleapis.com/nlp_youwht/w2v/gw2v160.model\n",
    "\n",
    "!curl -o \"../../KITERETU/gw2v160.model.trainables.syn1neg.npy\" https://storage.googleapis.com/nlp_youwht/w2v/gw2v160.model.trainables.syn1neg.npy\n",
    "\n",
    "!curl -o \"../../KITERETU/gw2v160.model.wv.vectors.npy\" https://storage.googleapis.com/nlp_youwht/w2v/gw2v160.model.wv.vectors.npy"
   ]
  },
  {
   "cell_type": "code",
   "execution_count": 3,
   "metadata": {},
   "outputs": [
    {
     "name": "stdout",
     "output_type": "stream",
     "text": [
      "Requirement already satisfied: gensim in c:\\users\\irsl27\\anaconda3\\lib\\site-packages (4.3.0)\n",
      "Requirement already satisfied: scipy>=1.7.0 in c:\\users\\irsl27\\anaconda3\\lib\\site-packages (from gensim) (1.10.1)\n",
      "Requirement already satisfied: numpy>=1.18.5 in c:\\users\\irsl27\\anaconda3\\lib\\site-packages (from gensim) (1.24.3)\n",
      "Requirement already satisfied: FuzzyTM>=0.4.0 in c:\\users\\irsl27\\anaconda3\\lib\\site-packages (from gensim) (2.0.5)\n",
      "Requirement already satisfied: smart-open>=1.8.1 in c:\\users\\irsl27\\anaconda3\\lib\\site-packages (from gensim) (5.2.1)\n",
      "Requirement already satisfied: pandas in c:\\users\\irsl27\\anaconda3\\lib\\site-packages (from FuzzyTM>=0.4.0->gensim) (2.0.1)\n",
      "Requirement already satisfied: pyfume in c:\\users\\irsl27\\anaconda3\\lib\\site-packages (from FuzzyTM>=0.4.0->gensim) (0.2.25)\n",
      "Requirement already satisfied: python-dateutil>=2.8.2 in c:\\users\\irsl27\\anaconda3\\lib\\site-packages (from pandas->FuzzyTM>=0.4.0->gensim) (2.8.2)\n",
      "Requirement already satisfied: tzdata>=2022.1 in c:\\users\\irsl27\\anaconda3\\lib\\site-packages (from pandas->FuzzyTM>=0.4.0->gensim) (2023.3)\n",
      "Requirement already satisfied: pytz>=2020.1 in c:\\users\\irsl27\\anaconda3\\lib\\site-packages (from pandas->FuzzyTM>=0.4.0->gensim) (2022.7)\n",
      "Requirement already satisfied: simpful in c:\\users\\irsl27\\anaconda3\\lib\\site-packages (from pyfume->FuzzyTM>=0.4.0->gensim) (2.11.0)\n",
      "Requirement already satisfied: fst-pso in c:\\users\\irsl27\\anaconda3\\lib\\site-packages (from pyfume->FuzzyTM>=0.4.0->gensim) (1.8.1)\n",
      "Requirement already satisfied: six>=1.5 in c:\\users\\irsl27\\anaconda3\\lib\\site-packages (from python-dateutil>=2.8.2->pandas->FuzzyTM>=0.4.0->gensim) (1.16.0)\n",
      "Requirement already satisfied: miniful in c:\\users\\irsl27\\anaconda3\\lib\\site-packages (from fst-pso->pyfume->FuzzyTM>=0.4.0->gensim) (0.0.6)\n",
      "Note: you may need to restart the kernel to use updated packages.\n"
     ]
    }
   ],
   "source": [
    "pip install gensim"
   ]
  },
  {
   "cell_type": "code",
   "execution_count": 4,
   "metadata": {},
   "outputs": [
    {
     "name": "stdout",
     "output_type": "stream",
     "text": [
      "293753\n",
      "[('群馬県', 0.7760874032974243), ('栃木', 0.7456161379814148), ('前橋', 0.7389767169952393), ('埼玉', 0.7216979265213013), ('高崎', 0.6891007423400879), ('伊勢崎', 0.6693983674049377), ('茨城', 0.6651455163955688)]\n"
     ]
    }
   ],
   "source": [
    "from gensim.models import Word2Vec\n",
    "\n",
    "# 学習済みモデルのロード\n",
    "model_file_path = '../../KITERETU/gw2v160.model'\n",
    "model = Word2Vec.load(model_file_path)\n",
    "\n",
    "# モデル内に登録されている単語リストの長さをlen関数で見る（＝単語数）\n",
    "print(len(model.wv.key_to_index))\n",
    "\n",
    "# 「群馬」に似ている単語TOP7を書き出す\n",
    "out = model.wv.most_similar(positive=[u'群馬'], topn=7)\n",
    "print(out)\n"
   ]
  },
  {
   "cell_type": "code",
   "execution_count": 5,
   "metadata": {},
   "outputs": [
    {
     "name": "stdout",
     "output_type": "stream",
     "text": [
      "[('群馬県', 0.7760874032974243), ('栃木', 0.7456161379814148), ('前橋', 0.7389767169952393), ('埼玉', 0.7216979265213013), ('高崎', 0.6891007423400879), ('伊勢崎', 0.6693983674049377), ('茨城', 0.6651455163955688)]\n",
      "群馬県 0.7760874032974243\n",
      "栃木 0.7456161379814148\n",
      "前橋 0.7389767169952393\n",
      "埼玉 0.7216979265213013\n",
      "高崎 0.6891007423400879\n",
      "伊勢崎 0.6693983674049377\n",
      "茨城 0.6651455163955688\n"
     ]
    }
   ],
   "source": [
    "print(out)\n",
    "\n",
    "#AtCoderでよく使う辞書処理を使って県と数値を取り出す\n",
    "for prefecture, value in out:\n",
    "    print(prefecture, value)"
   ]
  },
  {
   "cell_type": "code",
   "execution_count": 6,
   "metadata": {},
   "outputs": [
    {
     "name": "stdout",
     "output_type": "stream",
     "text": [
      "293753\n",
      "['群馬県', '栃木', '前橋', '埼玉', '高崎', '伊勢崎', '茨城', '高崎市', '群馬県前橋市', '栃木県']\n"
     ]
    }
   ],
   "source": [
    "from gensim.models import Word2Vec\n",
    "\n",
    "# 学習済みモデルのロード\n",
    "model_file_path = '../../KITERETU/gw2v160.model'\n",
    "model = Word2Vec.load(model_file_path)\n",
    "\n",
    "# モデル内に登録されている単語リストの長さをlen関数で見る（＝単語数）\n",
    "print(len(model.wv.key_to_index))\n",
    "\n",
    "# 「群馬」に似ている単語のうち、類似度が0.5以上の単語を書き出す\n",
    "out = [word for word, similarity in model.wv.most_similar(positive=[u'群馬']) if similarity >= 0.5]\n",
    "print(out)"
   ]
  },
  {
   "attachments": {},
   "cell_type": "markdown",
   "metadata": {},
   "source": [
    "\n",
    "「？？」－「群馬」＝「宇都宮」－「栃木」\n",
    "それぞれ県庁所在地から県を引いています。そのため、群馬の県庁所在地がどこか、機械が求める必要がある。\n",
    "式を移行し\n",
    "「？？」＝「宇都宮」－「栃木」＋「群馬」\n",
    "この式の右辺を元に、さきほどの.wv.most_similarの引数として、positiveにプラスとする単語、negativeにマイナスとする単語を入れるだけで、「ベクトル同士の足し算・引き算の結果に最も似ている単語」を出力する"
   ]
  },
  {
   "cell_type": "code",
   "execution_count": 7,
   "metadata": {},
   "outputs": [
    {
     "name": "stdout",
     "output_type": "stream",
     "text": [
      "[('前橋', 0.7003206014633179)]\n"
     ]
    }
   ],
   "source": [
    "out = model.wv.most_similar(positive=[u'宇都宮', u'群馬'], negative=[u'栃木'], topn=1)\n",
    "print(out)"
   ]
  },
  {
   "cell_type": "code",
   "execution_count": 8,
   "metadata": {},
   "outputs": [
    {
     "name": "stdout",
     "output_type": "stream",
     "text": [
      "[('前橋', 0.7003206014633179), ('高崎', 0.678109347820282), ('上野', 0.6506083607673645), ('伊勢崎', 0.6436746716499329), ('館林', 0.6416027545928955), ('群馬県', 0.598270058631897), ('川越', 0.5848405361175537)]\n"
     ]
    }
   ],
   "source": [
    "out = model.wv.most_similar(positive=[u'宇都宮', u'群馬'], negative=[u'栃木'], topn=7)\n",
    "print(out)"
   ]
  },
  {
   "cell_type": "code",
   "execution_count": 9,
   "metadata": {},
   "outputs": [
    {
     "name": "stdout",
     "output_type": "stream",
     "text": [
      "[('笠間', 0.6847708821296692), ('土浦', 0.642802894115448), ('茨城県', 0.6273864507675171), ('水戸', 0.6049696803092957), ('下妻', 0.5987839102745056), ('常陸', 0.5964324474334717), ('千葉', 0.5857217311859131)]\n"
     ]
    }
   ],
   "source": [
    "#ついでに東北地方の茨城県もやっておく\n",
    "#「？？」＝「宇都宮」－「栃木」＋「茨城」\n",
    "out = model.wv.most_similar(positive=[u'宇都宮', u'茨城'], negative=[u'栃木'], topn=7)\n",
    "print(out)"
   ]
  }
 ],
 "metadata": {
  "kernelspec": {
   "display_name": "Python 3",
   "language": "python",
   "name": "python3"
  },
  "language_info": {
   "codemirror_mode": {
    "name": "ipython",
    "version": 3
   },
   "file_extension": ".py",
   "mimetype": "text/x-python",
   "name": "python",
   "nbconvert_exporter": "python",
   "pygments_lexer": "ipython3",
   "version": "3.10.9"
  },
  "orig_nbformat": 4
 },
 "nbformat": 4,
 "nbformat_minor": 2
}
