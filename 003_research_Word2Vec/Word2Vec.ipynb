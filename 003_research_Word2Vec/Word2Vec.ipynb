{
 "cells": [
  {
   "cell_type": "code",
   "execution_count": 4,
   "metadata": {},
   "outputs": [
    {
     "name": "stderr",
     "output_type": "stream",
     "text": [
      "�T�u�f�B���N�g���܂��̓t�@�C�� ./KITERETU �͊��ɑ��݂��܂��B\n"
     ]
    }
   ],
   "source": [
    "#KITERETUフォルダ作成\n",
    "!mkdir \"./KITERETU\""
   ]
  },
  {
   "cell_type": "code",
   "execution_count": 10,
   "metadata": {},
   "outputs": [
    {
     "name": "stderr",
     "output_type": "stream",
     "text": [
      "  % Total    % Received % Xferd  Average Speed   Time    Time     Time  Current\n",
      "                                 Dload  Upload   Total   Spent    Left  Speed\n",
      "\n",
      "  0     0    0     0    0     0      0      0 --:--:-- --:--:-- --:--:--     0\n",
      "  0 19.1M    0 47985    0     0  40925      0  0:08:10  0:00:01  0:08:09 41224\n",
      " 51 19.1M   51  9.8M    0     0  1894k      0  0:00:10  0:00:05  0:00:05 1897k\n",
      "100 19.1M  100 19.1M    0     0  2514k      0  0:00:07  0:00:07 --:--:-- 2516k\n",
      "100 19.1M  100 19.1M    0     0  2514k      0  0:00:07  0:00:07 --:--:-- 2516k\n",
      "  % Total    % Received % Xferd  Average Speed   Time    Time     Time  Current\n",
      "                                 Dload  Upload   Total   Spent    Left  Speed\n",
      "\n",
      "  0     0    0     0    0     0      0      0 --:--:-- --:--:-- --:--:--     0\n",
      "  0  179M    0 15213    0     0  13850      0  3:46:14  0:00:01  3:46:13 13969\n",
      "  0  179M    0  222k    0     0   132k      0  0:23:07  0:00:01  0:23:06  132k\n",
      "  5  179M    5 9920k    0     0  2338k      0  0:01:18  0:00:04  0:01:14 2344k\n",
      " 10  179M   10 19.1M    0     0  3036k      0  0:01:00  0:00:06  0:00:54 3040k\n",
      " 15  179M   15 28.6M    0     0  3368k      0  0:00:54  0:00:08  0:00:46 3371k\n",
      " 21  179M   21 38.0M    0     0  3573k      0  0:00:51  0:00:10  0:00:41 3971k\n",
      " 23  179M   23 42.0M    0     0  3651k      0  0:00:50  0:00:11  0:00:39 4238k\n",
      " 28  179M   28 51.4M    0     0  3771k      0  0:00:48  0:00:13  0:00:35 4395k\n",
      " 33  179M   33 60.9M    0     0  3857k      0  0:00:47  0:00:16  0:00:31 4403k\n",
      " 36  179M   36 64.6M    0     0  3897k      0  0:00:47  0:00:16  0:00:31 4451k\n",
      " 41  179M   41 74.0M    0     0  3767k      0  0:00:48  0:00:20  0:00:28 3998k\n",
      " 46  179M   46 83.5M    0     0  3846k      0  0:00:47  0:00:22  0:00:25 4065k\n",
      " 51  179M   51 92.6M    0     0  3892k      0  0:00:47  0:00:24  0:00:23 4054k\n",
      " 56  179M   56  102M    0     0  3926k      0  0:00:46  0:00:26  0:00:20 4034k\n",
      " 62  179M   62  111M    0     0  3969k      0  0:00:46  0:00:28  0:00:18 4074k\n",
      " 67  179M   67  121M    0     0  4001k      0  0:00:45  0:00:30  0:00:15 4433k\n",
      " 73  179M   73  132M    0     0  4032k      0  0:00:45  0:00:33  0:00:12 4398k\n",
      " 78  179M   78  141M    0     0  4044k      0  0:00:45  0:00:35  0:00:10 4367k\n",
      " 85  179M   85  154M    0     0  4073k      0  0:00:45  0:00:38  0:00:07 4396k\n",
      " 91  179M   91  163M    0     0  4081k      0  0:00:44  0:00:41  0:00:03 4342k\n",
      " 93  179M   93  166M    0     0  4090k      0  0:00:44  0:00:41  0:00:03 4347k\n",
      " 98  179M   98  176M    0     0  4108k      0  0:00:44  0:00:43  0:00:01 4354k\n",
      "100  179M  100  179M    0     0  4113k      0  0:00:44  0:00:44 --:--:-- 4394k\n",
      "  % Total    % Received % Xferd  Average Speed   Time    Time     Time  Current\n",
      "                                 Dload  Upload   Total   Spent    Left  Speed\n",
      "\n",
      "  0     0    0     0    0     0      0      0 --:--:-- --:--:-- --:--:--     0\n",
      "  0  179M    0 15211    0     0  13460      0  3:52:47  0:00:01  3:52:46 13569\n",
      "  0  179M    0  494k    0     0   252k      0  0:12:06  0:00:01  0:12:05  253k\n",
      "  5  179M    5 9392k    0     0  2039k      0  0:01:30  0:00:04  0:01:26 2043k\n",
      " 10  179M   10 18.6M    0     0  2822k      0  0:01:05  0:00:06  0:00:59 2826k\n",
      " 15  179M   15 28.1M    0     0  3208k      0  0:00:57  0:00:08  0:00:49 3211k\n",
      " 20  179M   20 37.5M    0     0  3320k      0  0:00:55  0:00:11  0:00:44 3678k\n",
      " 21  179M   21 39.3M    0     0  3356k      0  0:00:54  0:00:11  0:00:43 3962k\n",
      " 27  179M   27 48.7M    0     0  3511k      0  0:00:52  0:00:14  0:00:38 4215k\n",
      " 32  179M   32 58.2M    0     0  3613k      0  0:00:50  0:00:16  0:00:34 4161k\n",
      " 37  179M   37 67.7M    0     0  3711k      0  0:00:49  0:00:18  0:00:31 4175k\n",
      " 43  179M   43 77.1M    0     0  3787k      0  0:00:48  0:00:20  0:00:28 4370k\n",
      " 48  179M   48 86.6M    0     0  3837k      0  0:00:47  0:00:23  0:00:24 4355k\n",
      " 53  179M   53 96.1M    0     0  3851k      0  0:00:47  0:00:25  0:00:22 4278k\n",
      " 58  179M   58  105M    0     0  3883k      0  0:00:47  0:00:27  0:00:20 4277k\n",
      " 64  179M   64  115M    0     0  3896k      0  0:00:47  0:00:30  0:00:17 4195k\n",
      " 67  179M   67  121M    0     0  3878k      0  0:00:47  0:00:32  0:00:15 4047k\n",
      " 73  179M   73  130M    0     0  3899k      0  0:00:47  0:00:34  0:00:13 4026k\n",
      " 78  179M   78  140M    0     0  3919k      0  0:00:46  0:00:36  0:00:10 4077k\n",
      " 83  179M   83  149M    0     0  3882k      0  0:00:47  0:00:39  0:00:08 3880k\n",
      " 88  179M   88  159M    0     0  3905k      0  0:00:47  0:00:41  0:00:06 3929k\n",
      " 94  179M   94  168M    0     0  3924k      0  0:00:46  0:00:44  0:00:02 4046k\n",
      " 99  179M   99  178M    0     0  3936k      0  0:00:46  0:00:46 --:--:-- 4044k\n",
      "100  179M  100  179M    0     0  3941k      0  0:00:46  0:00:46 --:--:-- 4022k\n"
     ]
    }
   ],
   "source": [
    "# Word2Vecの学習済みモデルをそのフォルダにダウンロードする（3ファイルで1セット:400MB弱ほど）\n",
    "!curl -o \"./KITERETU/gw2v160.model\" https://storage.googleapis.com/nlp_youwht/w2v/gw2v160.model\n",
    "\n",
    "!curl -o \"./KITERETU/gw2v160.model.trainables.syn1neg.npy\" https://storage.googleapis.com/nlp_youwht/w2v/gw2v160.model.trainables.syn1neg.npy\n",
    "\n",
    "!curl -o \"./KITERETU/gw2v160.model.wv.vectors.npy\" https://storage.googleapis.com/nlp_youwht/w2v/gw2v160.model.wv.vectors.npy"
   ]
  },
  {
   "cell_type": "code",
   "execution_count": 7,
   "metadata": {},
   "outputs": [
    {
     "name": "stdout",
     "output_type": "stream",
     "text": [
      "Defaulting to user installation because normal site-packages is not writeable\n",
      "Collecting gensim\n",
      "  Downloading gensim-4.3.1-cp311-cp311-win_amd64.whl (23.9 MB)\n",
      "                                              0.0/23.9 MB ? eta -:--:--\n",
      "                                              0.3/23.9 MB 9.6 MB/s eta 0:00:03\n",
      "     -                                        0.7/23.9 MB 8.5 MB/s eta 0:00:03\n",
      "     -                                        1.0/23.9 MB 8.2 MB/s eta 0:00:03\n",
      "     --                                       1.4/23.9 MB 7.8 MB/s eta 0:00:03\n",
      "     --                                       1.7/23.9 MB 7.8 MB/s eta 0:00:03\n",
      "     ---                                      2.1/23.9 MB 7.8 MB/s eta 0:00:03\n",
      "     ----                                     2.5/23.9 MB 7.8 MB/s eta 0:00:03\n",
      "     ----                                     2.8/23.9 MB 7.8 MB/s eta 0:00:03\n",
      "     -----                                    3.2/23.9 MB 7.8 MB/s eta 0:00:03\n",
      "     -----                                    3.5/23.9 MB 7.8 MB/s eta 0:00:03\n",
      "     ------                                   3.9/23.9 MB 7.8 MB/s eta 0:00:03\n",
      "     -------                                  4.3/23.9 MB 7.8 MB/s eta 0:00:03\n",
      "     -------                                  4.6/23.9 MB 7.8 MB/s eta 0:00:03\n",
      "     --------                                 5.0/23.9 MB 7.7 MB/s eta 0:00:03\n",
      "     --------                                 5.3/23.9 MB 7.8 MB/s eta 0:00:03\n",
      "     ---------                                5.7/23.9 MB 7.7 MB/s eta 0:00:03\n",
      "     ----------                               6.1/23.9 MB 7.7 MB/s eta 0:00:03\n",
      "     ----------                               6.4/23.9 MB 7.7 MB/s eta 0:00:03\n",
      "     -----------                              6.8/23.9 MB 7.7 MB/s eta 0:00:03\n",
      "     -----------                              7.1/23.9 MB 7.7 MB/s eta 0:00:03\n",
      "     ------------                             7.5/23.9 MB 7.7 MB/s eta 0:00:03\n",
      "     -------------                            7.8/23.9 MB 7.7 MB/s eta 0:00:03\n",
      "     -------------                            8.2/23.9 MB 7.7 MB/s eta 0:00:03\n",
      "     --------------                           8.6/23.9 MB 7.7 MB/s eta 0:00:02\n",
      "     --------------                           8.9/23.9 MB 7.7 MB/s eta 0:00:02\n",
      "     ---------------                          9.3/23.9 MB 7.8 MB/s eta 0:00:02\n",
      "     ----------------                         9.6/23.9 MB 7.7 MB/s eta 0:00:02\n",
      "     ----------------                         10.0/23.9 MB 7.8 MB/s eta 0:00:02\n",
      "     -----------------                        10.4/23.9 MB 7.8 MB/s eta 0:00:02\n",
      "     -----------------                        10.7/23.9 MB 7.8 MB/s eta 0:00:02\n",
      "     ------------------                       11.1/23.9 MB 7.7 MB/s eta 0:00:02\n",
      "     -------------------                      11.4/23.9 MB 7.8 MB/s eta 0:00:02\n",
      "     -------------------                      11.8/23.9 MB 7.8 MB/s eta 0:00:02\n",
      "     --------------------                     12.2/23.9 MB 7.8 MB/s eta 0:00:02\n",
      "     --------------------                     12.5/23.9 MB 7.8 MB/s eta 0:00:02\n",
      "     ---------------------                    12.9/23.9 MB 7.8 MB/s eta 0:00:02\n",
      "     ----------------------                   13.3/23.9 MB 7.8 MB/s eta 0:00:02\n",
      "     ----------------------                   13.6/23.9 MB 7.9 MB/s eta 0:00:02\n",
      "     -----------------------                  14.0/23.9 MB 7.8 MB/s eta 0:00:02\n",
      "     -----------------------                  14.4/23.9 MB 7.8 MB/s eta 0:00:02\n",
      "     ------------------------                 14.7/23.9 MB 7.8 MB/s eta 0:00:02\n",
      "     -------------------------                15.1/23.9 MB 7.8 MB/s eta 0:00:02\n",
      "     -------------------------                15.5/23.9 MB 7.8 MB/s eta 0:00:02\n",
      "     --------------------------               15.8/23.9 MB 7.8 MB/s eta 0:00:02\n",
      "     --------------------------               16.1/23.9 MB 7.8 MB/s eta 0:00:02\n",
      "     ---------------------------              16.5/23.9 MB 7.8 MB/s eta 0:00:01\n",
      "     ----------------------------             16.9/23.9 MB 7.8 MB/s eta 0:00:01\n",
      "     ----------------------------             17.2/23.9 MB 7.8 MB/s eta 0:00:01\n",
      "     -----------------------------            17.6/23.9 MB 7.8 MB/s eta 0:00:01\n",
      "     ------------------------------           18.0/23.9 MB 7.8 MB/s eta 0:00:01\n",
      "     ------------------------------           18.3/23.9 MB 7.8 MB/s eta 0:00:01\n",
      "     -------------------------------          18.7/23.9 MB 7.8 MB/s eta 0:00:01\n",
      "     -------------------------------          19.0/23.9 MB 7.7 MB/s eta 0:00:01\n",
      "     --------------------------------         19.4/23.9 MB 7.7 MB/s eta 0:00:01\n",
      "     --------------------------------         19.7/23.9 MB 7.7 MB/s eta 0:00:01\n",
      "     ---------------------------------        20.1/23.9 MB 7.7 MB/s eta 0:00:01\n",
      "     ----------------------------------       20.4/23.9 MB 7.7 MB/s eta 0:00:01\n",
      "     ----------------------------------       20.8/23.9 MB 7.7 MB/s eta 0:00:01\n",
      "     -----------------------------------      21.2/23.9 MB 7.7 MB/s eta 0:00:01\n",
      "     -----------------------------------      21.5/23.9 MB 7.7 MB/s eta 0:00:01\n",
      "     ------------------------------------     21.9/23.9 MB 7.7 MB/s eta 0:00:01\n",
      "     -------------------------------------    22.2/23.9 MB 7.7 MB/s eta 0:00:01\n",
      "     -------------------------------------    22.6/23.9 MB 7.7 MB/s eta 0:00:01\n",
      "     --------------------------------------   23.0/23.9 MB 7.8 MB/s eta 0:00:01\n",
      "     --------------------------------------   23.3/23.9 MB 7.8 MB/s eta 0:00:01\n",
      "     ---------------------------------------  23.7/23.9 MB 7.8 MB/s eta 0:00:01\n",
      "     ---------------------------------------  23.9/23.9 MB 7.9 MB/s eta 0:00:01\n",
      "     ---------------------------------------  23.9/23.9 MB 7.9 MB/s eta 0:00:01\n",
      "     ---------------------------------------- 23.9/23.9 MB 7.3 MB/s eta 0:00:00\n",
      "Requirement already satisfied: numpy>=1.18.5 in c:\\users\\de\\appdata\\roaming\\python\\python311\\site-packages (from gensim) (1.24.2)\n",
      "Requirement already satisfied: scipy>=1.7.0 in c:\\users\\de\\appdata\\roaming\\python\\python311\\site-packages (from gensim) (1.10.1)\n",
      "Collecting smart-open>=1.8.1 (from gensim)\n",
      "  Downloading smart_open-6.3.0-py3-none-any.whl (56 kB)\n",
      "                                              0.0/56.8 kB ? eta -:--:--\n",
      "     ---------------------------------------- 56.8/56.8 kB 2.9 MB/s eta 0:00:00\n",
      "Installing collected packages: smart-open, gensim\n",
      "Successfully installed gensim-4.3.1 smart-open-6.3.0\n",
      "Note: you may need to restart the kernel to use updated packages.\n"
     ]
    },
    {
     "name": "stderr",
     "output_type": "stream",
     "text": [
      "\n",
      "[notice] A new release of pip is available: 23.1 -> 23.1.2\n",
      "[notice] To update, run: python.exe -m pip install --upgrade pip\n"
     ]
    }
   ],
   "source": [
    "pip install gensim"
   ]
  },
  {
   "cell_type": "code",
   "execution_count": 11,
   "metadata": {},
   "outputs": [
    {
     "ename": "AttributeError",
     "evalue": "The vocab attribute was removed from KeyedVector in Gensim 4.0.0.\nUse KeyedVector's .key_to_index dict, .index_to_key list, and methods .get_vecattr(key, attr) and .set_vecattr(key, attr, new_val) instead.\nSee https://github.com/RaRe-Technologies/gensim/wiki/Migrating-from-Gensim-3.x-to-4",
     "output_type": "error",
     "traceback": [
      "\u001b[1;31m---------------------------------------------------------------------------\u001b[0m",
      "\u001b[1;31mAttributeError\u001b[0m                            Traceback (most recent call last)",
      "Cell \u001b[1;32mIn[11], line 8\u001b[0m\n\u001b[0;32m      5\u001b[0m model \u001b[39m=\u001b[39m Word2Vec\u001b[39m.\u001b[39mload(model_file_path)\n\u001b[0;32m      7\u001b[0m \u001b[39m# モデル内に登録されている単語リストの長さをlen関数で見る（＝単語数）\u001b[39;00m\n\u001b[1;32m----> 8\u001b[0m \u001b[39mprint\u001b[39m(\u001b[39mlen\u001b[39m(model\u001b[39m.\u001b[39;49mwv\u001b[39m.\u001b[39;49mvocab\u001b[39m.\u001b[39mkeys()))\n\u001b[0;32m     10\u001b[0m \u001b[39m# 「群馬」に似ている単語TOP7を書き出す\u001b[39;00m\n\u001b[0;32m     11\u001b[0m out \u001b[39m=\u001b[39m model\u001b[39m.\u001b[39mwv\u001b[39m.\u001b[39mmost_similar(positive\u001b[39m=\u001b[39m[\u001b[39mu\u001b[39m\u001b[39m'\u001b[39m\u001b[39m群馬\u001b[39m\u001b[39m'\u001b[39m], topn\u001b[39m=\u001b[39m\u001b[39m7\u001b[39m)\n",
      "File \u001b[1;32m~\\AppData\\Roaming\\Python\\Python311\\site-packages\\gensim\\models\\keyedvectors.py:734\u001b[0m, in \u001b[0;36mKeyedVectors.vocab\u001b[1;34m(self)\u001b[0m\n\u001b[0;32m    732\u001b[0m \u001b[39m@property\u001b[39m\n\u001b[0;32m    733\u001b[0m \u001b[39mdef\u001b[39;00m \u001b[39mvocab\u001b[39m(\u001b[39mself\u001b[39m):\n\u001b[1;32m--> 734\u001b[0m     \u001b[39mraise\u001b[39;00m \u001b[39mAttributeError\u001b[39;00m(\n\u001b[0;32m    735\u001b[0m         \u001b[39m\"\u001b[39m\u001b[39mThe vocab attribute was removed from KeyedVector in Gensim 4.0.0.\u001b[39m\u001b[39m\\n\u001b[39;00m\u001b[39m\"\u001b[39m\n\u001b[0;32m    736\u001b[0m         \u001b[39m\"\u001b[39m\u001b[39mUse KeyedVector\u001b[39m\u001b[39m'\u001b[39m\u001b[39ms .key_to_index dict, .index_to_key list, and methods \u001b[39m\u001b[39m\"\u001b[39m\n\u001b[0;32m    737\u001b[0m         \u001b[39m\"\u001b[39m\u001b[39m.get_vecattr(key, attr) and .set_vecattr(key, attr, new_val) instead.\u001b[39m\u001b[39m\\n\u001b[39;00m\u001b[39m\"\u001b[39m\n\u001b[0;32m    738\u001b[0m         \u001b[39m\"\u001b[39m\u001b[39mSee https://github.com/RaRe-Technologies/gensim/wiki/Migrating-from-Gensim-3.x-to-4\u001b[39m\u001b[39m\"\u001b[39m\n\u001b[0;32m    739\u001b[0m     )\n",
      "\u001b[1;31mAttributeError\u001b[0m: The vocab attribute was removed from KeyedVector in Gensim 4.0.0.\nUse KeyedVector's .key_to_index dict, .index_to_key list, and methods .get_vecattr(key, attr) and .set_vecattr(key, attr, new_val) instead.\nSee https://github.com/RaRe-Technologies/gensim/wiki/Migrating-from-Gensim-3.x-to-4"
     ]
    }
   ],
   "source": [
    "from gensim.models.word2vec import Word2Vec\n",
    "\n",
    "# 学習済みモデルのロード\n",
    "model_file_path = './KITERETU/gw2v160.model'\n",
    "model = Word2Vec.load(model_file_path)\n",
    "\n",
    "# モデル内に登録されている単語リストの長さをlen関数で見る（＝単語数）\n",
    "print(len(model.wv.vocab.keys()))\n",
    "\n",
    "# 「群馬」に似ている単語TOP7を書き出す\n",
    "out = model.wv.most_similar(positive=[u'群馬'], topn=7)\n",
    "print(out)"
   ]
  },
  {
   "cell_type": "code",
   "execution_count": 13,
   "metadata": {},
   "outputs": [
    {
     "name": "stdout",
     "output_type": "stream",
     "text": [
      "293753\n",
      "[('群馬県', 0.7760874032974243), ('栃木', 0.7456161379814148), ('前橋', 0.7389767169952393), ('埼玉', 0.7216979265213013), ('高崎', 0.6891007423400879), ('伊勢崎', 0.6693983674049377), ('茨城', 0.6651455163955688)]\n"
     ]
    }
   ],
   "source": [
    "from gensim.models import Word2Vec\n",
    "\n",
    "# 学習済みモデルのロード\n",
    "model_file_path = './KITERETU/gw2v160.model'\n",
    "model = Word2Vec.load(model_file_path)\n",
    "\n",
    "# モデル内に登録されている単語リストの長さをlen関数で見る（＝単語数）\n",
    "print(len(model.wv.key_to_index))\n",
    "\n",
    "# 「群馬」に似ている単語TOP7を書き出す\n",
    "out = model.wv.most_similar(positive=[u'群馬'], topn=7)\n",
    "print(out)\n"
   ]
  },
  {
   "cell_type": "code",
   "execution_count": 19,
   "metadata": {},
   "outputs": [
    {
     "name": "stdout",
     "output_type": "stream",
     "text": [
      "[('群馬県', 0.7760874032974243), ('栃木', 0.7456161379814148), ('前橋', 0.7389767169952393), ('埼玉', 0.7216979265213013), ('高崎', 0.6891007423400879), ('伊勢崎', 0.6693983674049377), ('茨城', 0.6651455163955688)]\n",
      "群馬県 0.7760874032974243\n",
      "栃木 0.7456161379814148\n",
      "前橋 0.7389767169952393\n",
      "埼玉 0.7216979265213013\n",
      "高崎 0.6891007423400879\n",
      "伊勢崎 0.6693983674049377\n",
      "茨城 0.6651455163955688\n"
     ]
    }
   ],
   "source": [
    "print(out)\n",
    "\n",
    "#AtCoderでよく使う辞書処理を使って県と数値を取り出す\n",
    "for prefecture, value in out:\n",
    "    print(prefecture, value)"
   ]
  },
  {
   "cell_type": "code",
   "execution_count": 20,
   "metadata": {},
   "outputs": [
    {
     "name": "stdout",
     "output_type": "stream",
     "text": [
      "293753\n",
      "['群馬県', '栃木', '前橋', '埼玉', '高崎', '伊勢崎', '茨城', '高崎市', '群馬県前橋市', '栃木県']\n"
     ]
    }
   ],
   "source": [
    "from gensim.models import Word2Vec\n",
    "\n",
    "# 学習済みモデルのロード\n",
    "model_file_path = './KITERETU/gw2v160.model'\n",
    "model = Word2Vec.load(model_file_path)\n",
    "\n",
    "# モデル内に登録されている単語リストの長さをlen関数で見る（＝単語数）\n",
    "print(len(model.wv.key_to_index))\n",
    "\n",
    "# 「群馬」に似ている単語のうち、類似度が0.5以上の単語を書き出す\n",
    "out = [word for word, similarity in model.wv.most_similar(positive=[u'群馬']) if similarity >= 0.5]\n",
    "print(out)"
   ]
  },
  {
   "attachments": {},
   "cell_type": "markdown",
   "metadata": {},
   "source": [
    "\n",
    "「？？」－「群馬」＝「宇都宮」－「栃木」\n",
    "それぞれ県庁所在地から県を引いています。そのため、群馬の県庁所在地がどこか、機械が求める必要がある。\n",
    "式を移行し\n",
    "「？？」＝「宇都宮」－「栃木」＋「群馬」\n",
    "この式の右辺を元に、さきほどの.wv.most_similarの引数として、positiveにプラスとする単語、negativeにマイナスとする単語を入れるだけで、「ベクトル同士の足し算・引き算の結果に最も似ている単語」を出力する"
   ]
  },
  {
   "cell_type": "code",
   "execution_count": 31,
   "metadata": {},
   "outputs": [
    {
     "name": "stdout",
     "output_type": "stream",
     "text": [
      "[('前橋', 0.7003206014633179)]\n"
     ]
    }
   ],
   "source": [
    "out = model.wv.most_similar(positive=[u'宇都宮', u'群馬'], negative=[u'栃木'], topn=1)\n",
    "print(out)"
   ]
  },
  {
   "cell_type": "code",
   "execution_count": 22,
   "metadata": {},
   "outputs": [
    {
     "name": "stdout",
     "output_type": "stream",
     "text": [
      "[('前橋', 0.7003206014633179), ('高崎', 0.678109347820282), ('上野', 0.6506083607673645), ('伊勢崎', 0.6436746716499329), ('館林', 0.6416027545928955), ('群馬県', 0.598270058631897), ('川越', 0.5848405361175537)]\n"
     ]
    }
   ],
   "source": [
    "out = model.wv.most_similar(positive=[u'宇都宮', u'群馬'], negative=[u'栃木'], topn=7)\n",
    "print(out)"
   ]
  },
  {
   "cell_type": "code",
   "execution_count": 28,
   "metadata": {},
   "outputs": [
    {
     "name": "stdout",
     "output_type": "stream",
     "text": [
      "[('笠間', 0.6847708821296692), ('土浦', 0.642802894115448), ('茨城県', 0.6273864507675171), ('水戸', 0.6049696803092957), ('下妻', 0.5987839102745056), ('常陸', 0.5964324474334717), ('千葉', 0.5857217311859131)]\n"
     ]
    }
   ],
   "source": [
    "#ついでに東北地方の茨城県もやっておく\n",
    "#「？？」＝「宇都宮」－「栃木」＋「茨城」\n",
    "out = model.wv.most_similar(positive=[u'宇都宮', u'茨城'], negative=[u'栃木'], topn=7)\n",
    "print(out)"
   ]
  }
 ],
 "metadata": {
  "kernelspec": {
   "display_name": "Python 3",
   "language": "python",
   "name": "python3"
  },
  "language_info": {
   "codemirror_mode": {
    "name": "ipython",
    "version": 3
   },
   "file_extension": ".py",
   "mimetype": "text/x-python",
   "name": "python",
   "nbconvert_exporter": "python",
   "pygments_lexer": "ipython3",
   "version": "3.11.3"
  },
  "orig_nbformat": 4
 },
 "nbformat": 4,
 "nbformat_minor": 2
}
