{
 "cells": [
  {
   "cell_type": "code",
   "execution_count": 1,
   "metadata": {},
   "outputs": [
    {
     "name": "stderr",
     "output_type": "stream",
     "text": [
      "�T�u�f�B���N�g���܂��̓t�@�C�� ./KITERETU �͊��ɑ��݂��܂��B\n"
     ]
    }
   ],
   "source": [
    "#KITERETUフォルダ作成\n",
    "!mkdir \"./KITERETU\""
   ]
  },
  {
   "cell_type": "code",
   "execution_count": 2,
   "metadata": {},
   "outputs": [
    {
     "name": "stderr",
     "output_type": "stream",
     "text": [
      "  % Total    % Received % Xferd  Average Speed   Time    Time     Time  Current\n",
      "                                 Dload  Upload   Total   Spent    Left  Speed\n",
      "\n",
      "  0     0    0     0    0     0      0      0 --:--:-- --:--:-- --:--:--     0\n",
      "  0 19.1M    0 14534    0     0  12172      0  0:27:28  0:00:01  0:27:27 12192\n",
      "  1 19.1M    1  233k    0     0   135k      0  0:02:24  0:00:01  0:02:23  136k\n",
      " 13 19.1M   13 2656k    0     0   976k      0  0:00:20  0:00:02  0:00:18  976k\n",
      " 35 19.1M   35 6896k    0     0  1855k      0  0:00:10  0:00:03  0:00:07 1855k\n",
      " 57 19.1M   57 11.0M    0     0  2395k      0  0:00:08  0:00:04  0:00:04 2395k\n",
      " 79 19.1M   79 15.2M    0     0  2740k      0  0:00:07  0:00:05  0:00:02 3460k\n",
      "100 19.1M  100 19.1M    0     0  2962k      0  0:00:06  0:00:06 --:--:-- 3956k\n",
      "  % Total    % Received % Xferd  Average Speed   Time    Time     Time  Current\n",
      "                                 Dload  Upload   Total   Spent    Left  Speed\n",
      "\n",
      "  0     0    0     0    0     0      0      0 --:--:-- --:--:-- --:--:--     0\n",
      "  0     0    0     0    0     0      0      0 --:--:-- --:--:-- --:--:--     0\n",
      "  0  179M    0 15214    0     0  13645      0  3:49:38  0:00:01  3:49:37 13669\n",
      "  0  179M    0  638k    0     0   315k      0  0:09:42  0:00:02  0:09:40  315k\n",
      "  2  179M    2 5085k    0     0  1680k      0  0:01:49  0:00:03  0:01:46 1681k\n",
      "  5  179M    5 9373k    0     0  2328k      0  0:01:18  0:00:04  0:01:14 2330k\n",
      "  7  179M    7 13.3M    0     0  2721k      0  0:01:07  0:00:05  0:01:02 2756k\n",
      "  9  179M    9 17.4M    0     0  2970k      0  0:01:01  0:00:06  0:00:55 3641k\n",
      " 11  179M   11 21.4M    0     0  3124k      0  0:00:58  0:00:07  0:00:51 4262k\n",
      " 14  179M   14 25.3M    0     0  3233k      0  0:00:56  0:00:08  0:00:48 4172k\n",
      " 16  179M   16 29.6M    0     0  3362k      0  0:00:54  0:00:09  0:00:45 4192k\n",
      " 18  179M   18 33.9M    0     0  3469k      0  0:00:52  0:00:10  0:00:42 4220k\n",
      " 21  179M   21 38.1M    0     0  3544k      0  0:00:51  0:00:11  0:00:40 4236k\n",
      " 23  179M   23 42.4M    0     0  3612k      0  0:00:50  0:00:12  0:00:38 4297k\n",
      " 25  179M   25 46.4M    0     0  3650k      0  0:00:50  0:00:13  0:00:37 4320k\n",
      " 28  179M   28 50.6M    0     0  3696k      0  0:00:49  0:00:14  0:00:35 4302k\n",
      " 30  179M   30 54.8M    0     0  3735k      0  0:00:49  0:00:15  0:00:34 4267k\n",
      " 32  179M   32 59.0M    0     0  3772k      0  0:00:48  0:00:16  0:00:32 4272k\n",
      " 34  179M   34 62.4M    0     0  3756k      0  0:00:48  0:00:17  0:00:31 4103k\n",
      " 36  179M   36 65.6M    0     0  3727k      0  0:00:49  0:00:18  0:00:31 3928k\n",
      " 38  179M   38 69.2M    0     0  3724k      0  0:00:49  0:00:19  0:00:30 3804k\n",
      " 40  179M   40 72.9M    0     0  3731k      0  0:00:49  0:00:20  0:00:29 3718k\n",
      " 42  179M   42 76.4M    0     0  3723k      0  0:00:49  0:00:21  0:00:28 3568k\n",
      " 44  179M   44 80.5M    0     0  3744k      0  0:00:49  0:00:22  0:00:27 3703k\n",
      " 47  179M   47 84.6M    0     0  3766k      0  0:00:48  0:00:23  0:00:25 3905k\n",
      " 49  179M   49 88.9M    0     0  3789k      0  0:00:48  0:00:24  0:00:24 4037k\n",
      " 51  179M   51 93.1M    0     0  3810k      0  0:00:48  0:00:25  0:00:23 4128k\n",
      " 53  179M   53 96.6M    0     0  3804k      0  0:00:48  0:00:26  0:00:22 4143k\n",
      " 56  179M   56  100M    0     0  3822k      0  0:00:48  0:00:27  0:00:21 4165k\n",
      " 58  179M   58  105M    0     0  3838k      0  0:00:47  0:00:28  0:00:19 4172k\n",
      " 60  179M   60  109M    0     0  3850k      0  0:00:47  0:00:29  0:00:18 4143k\n",
      " 63  179M   63  113M    0     0  3868k      0  0:00:47  0:00:30  0:00:17 4160k\n",
      " 65  179M   65  117M    0     0  3877k      0  0:00:47  0:00:31  0:00:16 4259k\n",
      " 67  179M   67  121M    0     0  3882k      0  0:00:47  0:00:32  0:00:15 4204k\n",
      " 70  179M   70  125M    0     0  3893k      0  0:00:47  0:00:33  0:00:14 4200k\n",
      " 72  179M   72  129M    0     0  3910k      0  0:00:46  0:00:34  0:00:12 4253k\n",
      " 74  179M   74  134M    0     0  3928k      0  0:00:46  0:00:35  0:00:11 4288k\n",
      " 77  179M   77  138M    0     0  3946k      0  0:00:46  0:00:36  0:00:10 4375k\n",
      " 79  179M   79  142M    0     0  3942k      0  0:00:46  0:00:37  0:00:09 4329k\n",
      " 81  179M   81  146M    0     0  3950k      0  0:00:46  0:00:38  0:00:08 4324k\n",
      " 84  179M   84  150M    0     0  3953k      0  0:00:46  0:00:39  0:00:07 4252k\n",
      " 86  179M   86  154M    0     0  3960k      0  0:00:46  0:00:40  0:00:06 4181k\n",
      " 88  179M   88  158M    0     0  3967k      0  0:00:46  0:00:41  0:00:05 4112k\n",
      " 90  179M   90  163M    0     0  3974k      0  0:00:46  0:00:42  0:00:04 4208k\n",
      " 93  179M   93  167M    0     0  3981k      0  0:00:46  0:00:43  0:00:03 4223k\n",
      " 95  179M   95  171M    0     0  3988k      0  0:00:46  0:00:44  0:00:02 4258k\n",
      " 97  179M   97  175M    0     0  3994k      0  0:00:45  0:00:45 --:--:-- 4265k\n",
      "100  179M  100  179M    0     0  3994k      0  0:00:45  0:00:45 --:--:-- 4222k\n",
      "  % Total    % Received % Xferd  Average Speed   Time    Time     Time  Current\n",
      "                                 Dload  Upload   Total   Spent    Left  Speed\n",
      "\n",
      "  0     0    0     0    0     0      0      0 --:--:-- --:--:-- --:--:--     0\n",
      "  0     0    0     0    0     0      0      0 --:--:--  0:00:01 --:--:--     0\n",
      "  0  179M    0  269k    0     0   134k      0  0:22:49  0:00:02  0:22:47  134k\n",
      "  2  179M    2 3984k    0     0  1329k      0  0:02:18  0:00:02  0:02:16 1330k\n",
      "  4  179M    4 8128k    0     0  2033k      0  0:01:30  0:00:03  0:01:27 2034k\n",
      "  6  179M    6 11.9M    0     0  2440k      0  0:01:15  0:00:04  0:01:11 2440k\n",
      "  8  179M    8 16.0M    0     0  2745k      0  0:01:06  0:00:05  0:01:01 3491k\n",
      " 11  179M   11 20.2M    0     0  2960k      0  0:01:02  0:00:06  0:00:56 4101k\n",
      " 13  179M   13 24.5M    0     0  3143k      0  0:00:58  0:00:08  0:00:50 4228k\n",
      " 15  179M   15 28.2M    0     0  3209k      0  0:00:57  0:00:08  0:00:49 4149k\n",
      " 18  179M   18 32.4M    0     0  3324k      0  0:00:55  0:00:09  0:00:46 4208k\n",
      " 20  179M   20 36.4M    0     0  3395k      0  0:00:54  0:00:11  0:00:43 4174k\n",
      " 22  179M   22 41.0M    0     0  3501k      0  0:00:52  0:00:11  0:00:41 4256k\n",
      " 25  179M   25 45.2M    0     0  3567k      0  0:00:51  0:00:12  0:00:39 4247k\n",
      " 27  179M   27 48.9M    0     0  3578k      0  0:00:51  0:00:14  0:00:37 4241k\n",
      " 29  179M   29 52.4M    0     0  3580k      0  0:00:51  0:00:14  0:00:37 4092k\n",
      " 31  179M   31 56.7M    0     0  3630k      0  0:00:50  0:00:15  0:00:35 4147k\n",
      " 34  179M   34 60.9M    0     0  3673k      0  0:00:49  0:00:16  0:00:33 4086k\n",
      " 36  179M   36 65.2M    0     0  3710k      0  0:00:49  0:00:17  0:00:32 4080k\n",
      " 38  179M   38 69.3M    0     0  3737k      0  0:00:49  0:00:18  0:00:31 4181k\n",
      " 40  179M   40 71.8M    0     0  3638k      0  0:00:50  0:00:20  0:00:30 3805k\n",
      " 41  179M   41 74.0M    0     0  3567k      0  0:00:51  0:00:21  0:00:30 3377k\n",
      " 41  179M   41 75.0M    0     0  3488k      0  0:00:52  0:00:22  0:00:30 2863k\n",
      " 42  179M   42 76.3M    0     0  3398k      0  0:00:54  0:00:23  0:00:31 2276k\n",
      " 43  179M   43 78.8M    0     0  3362k      0  0:00:54  0:00:24  0:00:30 1946k\n",
      " 45  179M   45 82.3M    0     0  3370k      0  0:00:54  0:00:25  0:00:29 2239k\n",
      " 47  179M   47 85.6M    0     0  3351k      0  0:00:54  0:00:26  0:00:28 2416k\n",
      " 49  179M   49 88.7M    0     0  3326k      0  0:00:55  0:00:27  0:00:28 2653k\n",
      " 50  179M   50 91.0M    0     0  3267k      0  0:00:56  0:00:28  0:00:28 2722k\n",
      " 51  179M   51 92.4M    0     0  3226k      0  0:00:56  0:00:29  0:00:27 2611k\n",
      " 53  179M   53 95.2M    0     0  3232k      0  0:00:56  0:00:30  0:00:26 2560k\n",
      " 54  179M   54 97.6M    0     0  3184k      0  0:00:57  0:00:31  0:00:26 2348k\n",
      " 55  179M   55  100M    0     0  3153k      0  0:00:58  0:00:32  0:00:26 2249k\n",
      " 57  179M   57  102M    0     0  3177k      0  0:00:57  0:00:33  0:00:24 2604k\n",
      " 59  179M   59  106M    0     0  3211k      0  0:00:57  0:00:33  0:00:24 3119k\n",
      " 61  179M   61  110M    0     0  3242k      0  0:00:56  0:00:34  0:00:22 3302k\n",
      " 63  179M   63  114M    0     0  3255k      0  0:00:56  0:00:35  0:00:21 3734k\n",
      " 65  179M   65  118M    0     0  3272k      0  0:00:56  0:00:36  0:00:20 4135k\n",
      " 67  179M   67  121M    0     0  3282k      0  0:00:55  0:00:37  0:00:18 3979k\n",
      " 69  179M   69  125M    0     0  3292k      0  0:00:55  0:00:38  0:00:17 3845k\n",
      " 71  179M   71  128M    0     0  3300k      0  0:00:55  0:00:39  0:00:16 3712k\n",
      " 73  179M   73  132M    0     0  3300k      0  0:00:55  0:00:40  0:00:15 3632k\n",
      " 75  179M   75  135M    0     0  3312k      0  0:00:55  0:00:41  0:00:14 3607k\n",
      " 77  179M   77  139M    0     0  3327k      0  0:00:55  0:00:42  0:00:13 3664k\n",
      " 80  179M   80  143M    0     0  3342k      0  0:00:54  0:00:43  0:00:11 3728k\n",
      " 82  179M   82  147M    0     0  3366k      0  0:00:54  0:00:44  0:00:10 3894k\n",
      " 84  179M   84  152M    0     0  3389k      0  0:00:54  0:00:45  0:00:09 4117k\n",
      " 87  179M   87  156M    0     0  3402k      0  0:00:53  0:00:46  0:00:07 4160k\n",
      " 89  179M   89  160M    0     0  3421k      0  0:00:53  0:00:47  0:00:06 4230k\n",
      " 91  179M   91  164M    0     0  3438k      0  0:00:53  0:00:48  0:00:05 4284k\n",
      " 93  179M   93  168M    0     0  3451k      0  0:00:53  0:00:49  0:00:04 4211k\n",
      " 96  179M   96  172M    0     0  3458k      0  0:00:53  0:00:50  0:00:03 4086k\n",
      " 98  179M   98  176M    0     0  3475k      0  0:00:52  0:00:51  0:00:01 4156k\n",
      "100  179M  100  179M    0     0  3483k      0  0:00:52  0:00:52 --:--:-- 4114k\n"
     ]
    }
   ],
   "source": [
    "# Word2Vecの学習済みモデルをそのフォルダにダウンロードする（3ファイルで1セット:400MB弱ほど）\n",
    "!curl -o \"./KITERETU/gw2v160.model\" https://storage.googleapis.com/nlp_youwht/w2v/gw2v160.model\n",
    "\n",
    "!curl -o \"./KITERETU/gw2v160.model.trainables.syn1neg.npy\" https://storage.googleapis.com/nlp_youwht/w2v/gw2v160.model.trainables.syn1neg.npy\n",
    "\n",
    "!curl -o \"./KITERETU/gw2v160.model.wv.vectors.npy\" https://storage.googleapis.com/nlp_youwht/w2v/gw2v160.model.wv.vectors.npy"
   ]
  },
  {
   "cell_type": "code",
   "execution_count": 3,
   "metadata": {},
   "outputs": [
    {
     "name": "stdout",
     "output_type": "stream",
     "text": [
      "Requirement already satisfied: gensim in c:\\users\\irsl27\\anaconda3\\lib\\site-packages (4.3.0)\n",
      "Collecting FuzzyTM>=0.4.0\n",
      "  Downloading FuzzyTM-2.0.5-py3-none-any.whl (29 kB)\n",
      "Requirement already satisfied: scipy>=1.7.0 in c:\\users\\irsl27\\anaconda3\\lib\\site-packages (from gensim) (1.10.1)\n",
      "Requirement already satisfied: numpy>=1.18.5 in c:\\users\\irsl27\\anaconda3\\lib\\site-packages (from gensim) (1.24.3)\n",
      "Requirement already satisfied: smart-open>=1.8.1 in c:\\users\\irsl27\\anaconda3\\lib\\site-packages (from gensim) (5.2.1)\n",
      "Requirement already satisfied: pandas in c:\\users\\irsl27\\anaconda3\\lib\\site-packages (from FuzzyTM>=0.4.0->gensim) (2.0.1)\n",
      "Collecting pyfume\n",
      "  Downloading pyFUME-0.2.25-py3-none-any.whl (67 kB)\n",
      "     ---------------------------------------- 67.1/67.1 kB ? eta 0:00:00\n",
      "Requirement already satisfied: python-dateutil>=2.8.2 in c:\\users\\irsl27\\anaconda3\\lib\\site-packages (from pandas->FuzzyTM>=0.4.0->gensim) (2.8.2)\n",
      "Requirement already satisfied: pytz>=2020.1 in c:\\users\\irsl27\\anaconda3\\lib\\site-packages (from pandas->FuzzyTM>=0.4.0->gensim) (2022.7)\n",
      "Requirement already satisfied: tzdata>=2022.1 in c:\\users\\irsl27\\anaconda3\\lib\\site-packages (from pandas->FuzzyTM>=0.4.0->gensim) (2023.3)\n",
      "Collecting simpful\n",
      "  Downloading simpful-2.11.0-py3-none-any.whl (32 kB)\n",
      "Collecting fst-pso\n",
      "  Downloading fst-pso-1.8.1.tar.gz (18 kB)\n",
      "  Preparing metadata (setup.py): started\n",
      "  Preparing metadata (setup.py): finished with status 'done'\n",
      "Requirement already satisfied: six>=1.5 in c:\\users\\irsl27\\anaconda3\\lib\\site-packages (from python-dateutil>=2.8.2->pandas->FuzzyTM>=0.4.0->gensim) (1.16.0)\n",
      "Collecting miniful\n",
      "  Downloading miniful-0.0.6.tar.gz (2.8 kB)\n",
      "  Preparing metadata (setup.py): started\n",
      "  Preparing metadata (setup.py): finished with status 'done'\n",
      "Building wheels for collected packages: fst-pso, miniful\n",
      "  Building wheel for fst-pso (setup.py): started\n",
      "  Building wheel for fst-pso (setup.py): finished with status 'done'\n",
      "  Created wheel for fst-pso: filename=fst_pso-1.8.1-py3-none-any.whl size=20448 sha256=609554736818007aea9f1a3249f85da5146434de1c13bb5e76195ffdbca55736\n",
      "  Stored in directory: c:\\users\\irsl27\\appdata\\local\\pip\\cache\\wheels\\01\\02\\ee\\df0699282986903a384b69aab4413af9efd26b3612b5dccc9e\n",
      "  Building wheel for miniful (setup.py): started\n",
      "  Building wheel for miniful (setup.py): finished with status 'done'\n",
      "  Created wheel for miniful: filename=miniful-0.0.6-py3-none-any.whl size=3522 sha256=466d2e25c60f9ea8cd73a10a9880d345071c93e9a6000593a89e7f4154b93809\n",
      "  Stored in directory: c:\\users\\irsl27\\appdata\\local\\pip\\cache\\wheels\\43\\aa\\48\\5c66b931ff013ad19774081aa19656637af5c0cc33b5494b30\n",
      "Successfully built fst-pso miniful\n",
      "Installing collected packages: simpful, miniful, fst-pso, pyfume, FuzzyTM\n",
      "Successfully installed FuzzyTM-2.0.5 fst-pso-1.8.1 miniful-0.0.6 pyfume-0.2.25 simpful-2.11.0\n",
      "Note: you may need to restart the kernel to use updated packages.\n"
     ]
    }
   ],
   "source": [
    "pip install gensim"
   ]
  },
  {
   "cell_type": "code",
   "execution_count": 12,
   "metadata": {},
   "outputs": [
    {
     "name": "stdout",
     "output_type": "stream",
     "text": [
      "293753\n",
      "[('群馬県', 0.7760874032974243), ('栃木', 0.7456161379814148), ('前橋', 0.7389767169952393), ('埼玉', 0.7216979265213013), ('高崎', 0.6891007423400879), ('伊勢崎', 0.6693983674049377), ('茨城', 0.6651455163955688)]\n"
     ]
    }
   ],
   "source": [
    "from gensim.models import Word2Vec\n",
    "\n",
    "# 学習済みモデルのロード\n",
    "model_file_path = './KITERETU/gw2v160.model'\n",
    "model = Word2Vec.load(model_file_path)\n",
    "\n",
    "# モデル内に登録されている単語リストの長さをlen関数で見る（＝単語数）\n",
    "print(len(model.wv.key_to_index))\n",
    "\n",
    "# 「群馬」に似ている単語TOP7を書き出す\n",
    "out = model.wv.most_similar(positive=[u'群馬'], topn=7)\n",
    "print(out)\n"
   ]
  },
  {
   "cell_type": "code",
   "execution_count": null,
   "metadata": {},
   "outputs": [],
   "source": [
    "print(out)\n",
    "\n",
    "#AtCoderでよく使う辞書処理を使って県と数値を取り出す\n",
    "for prefecture, value in out:\n",
    "    print(prefecture, value)"
   ]
  },
  {
   "cell_type": "code",
   "execution_count": null,
   "metadata": {},
   "outputs": [],
   "source": [
    "from gensim.models import Word2Vec\n",
    "\n",
    "# 学習済みモデルのロード\n",
    "model_file_path = './KITERETU/gw2v160.model'\n",
    "model = Word2Vec.load(model_file_path)\n",
    "\n",
    "# モデル内に登録されている単語リストの長さをlen関数で見る（＝単語数）\n",
    "print(len(model.wv.key_to_index))\n",
    "\n",
    "# 「群馬」に似ている単語のうち、類似度が0.5以上の単語を書き出す\n",
    "out = [word for word, similarity in model.wv.most_similar(positive=[u'群馬']) if similarity >= 0.5]\n",
    "print(out)"
   ]
  },
  {
   "attachments": {},
   "cell_type": "markdown",
   "metadata": {},
   "source": [
    "\n",
    "「？？」－「群馬」＝「宇都宮」－「栃木」\n",
    "それぞれ県庁所在地から県を引いています。そのため、群馬の県庁所在地がどこか、機械が求める必要がある。\n",
    "式を移行し\n",
    "「？？」＝「宇都宮」－「栃木」＋「群馬」\n",
    "この式の右辺を元に、さきほどの.wv.most_similarの引数として、positiveにプラスとする単語、negativeにマイナスとする単語を入れるだけで、「ベクトル同士の足し算・引き算の結果に最も似ている単語」を出力する"
   ]
  },
  {
   "cell_type": "code",
   "execution_count": null,
   "metadata": {},
   "outputs": [],
   "source": [
    "out = model.wv.most_similar(positive=[u'宇都宮', u'群馬'], negative=[u'栃木'], topn=1)\n",
    "print(out)"
   ]
  },
  {
   "cell_type": "code",
   "execution_count": null,
   "metadata": {},
   "outputs": [],
   "source": [
    "out = model.wv.most_similar(positive=[u'宇都宮', u'群馬'], negative=[u'栃木'], topn=7)\n",
    "print(out)"
   ]
  },
  {
   "cell_type": "code",
   "execution_count": null,
   "metadata": {},
   "outputs": [],
   "source": [
    "#ついでに東北地方の茨城県もやっておく\n",
    "#「？？」＝「宇都宮」－「栃木」＋「茨城」\n",
    "out = model.wv.most_similar(positive=[u'宇都宮', u'茨城'], negative=[u'栃木'], topn=7)\n",
    "print(out)"
   ]
  }
 ],
 "metadata": {
  "kernelspec": {
   "display_name": "Python 3",
   "language": "python",
   "name": "python3"
  },
  "language_info": {
   "codemirror_mode": {
    "name": "ipython",
    "version": 3
   },
   "file_extension": ".py",
   "mimetype": "text/x-python",
   "name": "python",
   "nbconvert_exporter": "python",
   "pygments_lexer": "ipython3",
   "version": "3.10.9"
  },
  "orig_nbformat": 4
 },
 "nbformat": 4,
 "nbformat_minor": 2
}
