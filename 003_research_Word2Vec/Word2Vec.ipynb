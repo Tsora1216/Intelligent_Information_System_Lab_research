{
 "cells": [
  {
   "cell_type": "code",
   "execution_count": 3,
   "metadata": {},
   "outputs": [
    {
     "name": "stderr",
     "output_type": "stream",
     "text": [
      "  % Total    % Received % Xferd  Average Speed   Time    Time     Time  Current\n",
      "                                 Dload  Upload   Total   Spent    Left  Speed\n",
      "\n",
      "  0     0    0     0    0     0      0      0 --:--:-- --:--:-- --:--:--     0\n",
      "  0     0    0     0    0     0      0      0 --:--:-- --:--:-- --:--:--     0\n",
      "  0 19.1M    0 35740    0     0  33261      0  0:10:03  0:00:01  0:10:02 33495\n",
      " 10 19.1M   10 1998k    0     0   970k      0  0:00:20  0:00:02  0:00:18  973k\n",
      " 48 19.1M   48 9584k    0     0  3131k      0  0:00:06  0:00:03  0:00:03 3139k\n",
      " 87 19.1M   87 16.7M    0     0  4220k      0  0:00:04  0:00:04 --:--:-- 4227k\n",
      "100 19.1M  100 19.1M    0     0  4470k      0  0:00:04  0:00:04 --:--:-- 4533k\n",
      "  % Total    % Received % Xferd  Average Speed   Time    Time     Time  Current\n",
      "                                 Dload  Upload   Total   Spent    Left  Speed\n",
      "\n",
      "  0     0    0     0    0     0      0      0 --:--:-- --:--:-- --:--:--     0\n",
      "  0  179M    0 15214    0     0  14083      0  3:42:29  0:00:01  3:42:28 14205\n",
      "  0  179M    0  160k    0     0  99707      0  0:31:25  0:00:01  0:31:24   97k\n",
      "  2  179M    2 5104k    0     0  1938k      0  0:01:34  0:00:02  0:01:32 1944k\n",
      "  6  179M    6 12.4M    0     0  3498k      0  0:00:52  0:00:03  0:00:49 3505k\n",
      " 11  179M   11 19.8M    0     0  4387k      0  0:00:41  0:00:04  0:00:37 4394k\n",
      " 15  179M   15 27.2M    0     0  4960k      0  0:00:37  0:00:05  0:00:32 6133k\n",
      " 19  179M   19 34.6M    0     0  5353k      0  0:00:34  0:00:06  0:00:28 7087k\n",
      " 22  179M   22 41.0M    0     0  5505k      0  0:00:33  0:00:07  0:00:26 7383k\n",
      " 27  179M   27 48.4M    0     0  5749k      0  0:00:31  0:00:08  0:00:23 7385k\n",
      " 31  179M   31 55.6M    0     0  5917k      0  0:00:31  0:00:09  0:00:22 7334k\n",
      " 34  179M   34 62.1M    0     0  5986k      0  0:00:30  0:00:10  0:00:20 7142k\n",
      " 38  179M   38 69.0M    0     0  6078k      0  0:00:30  0:00:11  0:00:19 7040k\n",
      " 42  179M   42 75.4M    0     0  6116k      0  0:00:30  0:00:12  0:00:18 7049k\n",
      " 46  179M   46 82.9M    0     0  6227k      0  0:00:29  0:00:13  0:00:16 7052k\n",
      " 50  179M   50 90.3M    0     0  6322k      0  0:00:29  0:00:14  0:00:15 7104k\n",
      " 54  179M   54 97.7M    0     0  6405k      0  0:00:28  0:00:15  0:00:13 7296k\n",
      " 58  179M   58  105M    0     0  6477k      0  0:00:28  0:00:16  0:00:12 7404k\n",
      " 61  179M   61  110M    0     0  6441k      0  0:00:28  0:00:17  0:00:11 7261k\n",
      " 65  179M   65  116M    0     0  6425k      0  0:00:28  0:00:18  0:00:10 6963k\n",
      " 69  179M   69  124M    0     0  6475k      0  0:00:28  0:00:19  0:00:09 6921k\n",
      " 73  179M   73  131M    0     0  6529k      0  0:00:28  0:00:20  0:00:08 6918k\n",
      " 77  179M   77  138M    0     0  6578k      0  0:00:27  0:00:21  0:00:06 6915k\n",
      " 81  179M   81  146M    0     0  6624k      0  0:00:27  0:00:22  0:00:05 7269k\n",
      " 85  179M   85  152M    0     0  6624k      0  0:00:27  0:00:23  0:00:04 7369k\n",
      " 89  179M   89  160M    0     0  6665k      0  0:00:27  0:00:24  0:00:03 7411k\n",
      " 91  179M   91  164M    0     0  6586k      0  0:00:27  0:00:25  0:00:02 6822k\n",
      " 95  179M   95  171M    0     0  6612k      0  0:00:27  0:00:26  0:00:01 6758k\n",
      "100  179M  100  179M    0     0  6648k      0  0:00:27  0:00:27 --:--:-- 6759k\n",
      "  % Total    % Received % Xferd  Average Speed   Time    Time     Time  Current\n",
      "                                 Dload  Upload   Total   Spent    Left  Speed\n",
      "\n",
      "  0     0    0     0    0     0      0      0 --:--:-- --:--:-- --:--:--     0\n",
      "  0     0    0     0    0     0      0      0 --:--:--  0:00:01 --:--:--     0\n",
      "  0     0    0     0    0     0      0      0 --:--:--  0:00:02 --:--:--     0\n",
      "  0  179M    0 15204    0     0   4727      0 11:02:51  0:00:03 11:02:48  4742\n",
      "  0  179M    0  341k    0     0  88256      0  0:35:30  0:00:03  0:35:27 88464\n",
      "  3  179M    3 6653k    0     0  1340k      0  0:02:16  0:00:04  0:02:12 1343k\n",
      "  7  179M    7 13.3M    0     0  2290k      0  0:01:20  0:00:05  0:01:15 2825k\n",
      "  9  179M    9 17.7M    0     0  2616k      0  0:01:10  0:00:06  0:01:04 3750k\n",
      " 14  179M   14 25.1M    0     0  3238k      0  0:00:56  0:00:07  0:00:49 5428k\n",
      " 18  179M   18 32.3M    0     0  3698k      0  0:00:49  0:00:08  0:00:41 6561k\n",
      " 22  179M   22 39.8M    0     0  4093k      0  0:00:44  0:00:09  0:00:35 6825k\n",
      " 26  179M   26 47.2M    0     0  4414k      0  0:00:41  0:00:10  0:00:31 6948k\n",
      " 30  179M   30 53.7M    0     0  4604k      0  0:00:39  0:00:11  0:00:28 7372k\n",
      " 34  179M   34 61.2M    0     0  4834k      0  0:00:37  0:00:12  0:00:25 7376k\n",
      " 38  179M   38 68.6M    0     0  5033k      0  0:00:36  0:00:13  0:00:23 7427k\n",
      " 42  179M   42 76.0M    0     0  5207k      0  0:00:35  0:00:14  0:00:21 7427k\n",
      " 46  179M   46 83.5M    0     0  5359k      0  0:00:34  0:00:15  0:00:19 7430k\n",
      " 50  179M   50 90.1M    0     0  5443k      0  0:00:33  0:00:16  0:00:17 7449k\n",
      " 54  179M   54 97.4M    0     0  5554k      0  0:00:33  0:00:17  0:00:16 7420k\n",
      " 58  179M   58  104M    0     0  5660k      0  0:00:32  0:00:18  0:00:14 7411k\n",
      " 62  179M   62  112M    0     0  5759k      0  0:00:31  0:00:19  0:00:12 7411k\n",
      " 66  179M   66  119M    0     0  5848k      0  0:00:31  0:00:20  0:00:11 7411k\n",
      " 70  179M   70  127M    0     0  5923k      0  0:00:30  0:00:21  0:00:09 7552k\n",
      " 74  179M   74  133M    0     0  5957k      0  0:00:30  0:00:22  0:00:08 7404k\n",
      " 78  179M   78  141M    0     0  6026k      0  0:00:30  0:00:23  0:00:07 7414k\n",
      " 82  179M   82  148M    0     0  6090k      0  0:00:30  0:00:24  0:00:06 7411k\n",
      " 86  179M   86  155M    0     0  6149k      0  0:00:29  0:00:25  0:00:04 7411k\n",
      " 91  179M   91  163M    0     0  6204k      0  0:00:29  0:00:26  0:00:03 7440k\n",
      " 94  179M   94  169M    0     0  6220k      0  0:00:29  0:00:27  0:00:02 7430k\n",
      " 98  179M   98  177M    0     0  6269k      0  0:00:29  0:00:28  0:00:01 7433k\n",
      "100  179M  100  179M    0     0  6281k      0  0:00:29  0:00:29 --:--:-- 7404k\n"
     ]
    }
   ],
   "source": [
    "# Word2Vecの学習済みモデルをそのフォルダにダウンロードする（3ファイルで1セット:400MB弱ほど）\n",
    "!curl -o \"../../KITERETU/gw2v160.model\" https://storage.googleapis.com/nlp_youwht/w2v/gw2v160.model\n",
    "\n",
    "!curl -o \"../../KITERETU/gw2v160.model.trainables.syn1neg.npy\" https://storage.googleapis.com/nlp_youwht/w2v/gw2v160.model.trainables.syn1neg.npy\n",
    "\n",
    "!curl -o \"../../KITERETU/gw2v160.model.wv.vectors.npy\" https://storage.googleapis.com/nlp_youwht/w2v/gw2v160.model.wv.vectors.npy"
   ]
  },
  {
   "cell_type": "code",
   "execution_count": 7,
   "metadata": {},
   "outputs": [
    {
     "name": "stdout",
     "output_type": "stream",
     "text": [
      "Defaulting to user installation because normal site-packages is not writeable\n",
      "Requirement already satisfied: gensim in c:\\users\\owner\\appdata\\roaming\\python\\python310\\site-packages (4.3.1)\n",
      "Requirement already satisfied: numpy>=1.18.5 in c:\\users\\owner\\appdata\\roaming\\python\\python310\\site-packages (from gensim) (1.23.1)\n",
      "Requirement already satisfied: scipy>=1.7.0 in c:\\users\\owner\\appdata\\roaming\\python\\python310\\site-packages (from gensim) (1.8.1)\n",
      "Requirement already satisfied: smart-open>=1.8.1 in c:\\users\\owner\\appdata\\roaming\\python\\python310\\site-packages (from gensim) (6.3.0)\n",
      "Note: you may need to restart the kernel to use updated packages.\n"
     ]
    }
   ],
   "source": [
    "pip install gensim"
   ]
  },
  {
   "cell_type": "code",
   "execution_count": 8,
   "metadata": {},
   "outputs": [
    {
     "ename": "FileNotFoundError",
     "evalue": "[Errno 2] No such file or directory: '../../KITERETU/gw2v160.model'",
     "output_type": "error",
     "traceback": [
      "\u001b[1;31m---------------------------------------------------------------------------\u001b[0m",
      "\u001b[1;31mFileNotFoundError\u001b[0m                         Traceback (most recent call last)",
      "\u001b[1;32mg:\\Intelligent_Information_System_Lab_research\\003_research_Word2Vec\\Word2Vec.ipynb セル 3\u001b[0m in \u001b[0;36m<cell line: 5>\u001b[1;34m()\u001b[0m\n\u001b[0;32m      <a href='vscode-notebook-cell:/g%3A/Intelligent_Information_System_Lab_research/003_research_Word2Vec/Word2Vec.ipynb#W2sZmlsZQ%3D%3D?line=2'>3</a>\u001b[0m \u001b[39m# 学習済みモデルのロード\u001b[39;00m\n\u001b[0;32m      <a href='vscode-notebook-cell:/g%3A/Intelligent_Information_System_Lab_research/003_research_Word2Vec/Word2Vec.ipynb#W2sZmlsZQ%3D%3D?line=3'>4</a>\u001b[0m model_file_path \u001b[39m=\u001b[39m \u001b[39m'\u001b[39m\u001b[39m../../KITERETU/gw2v160.model\u001b[39m\u001b[39m'\u001b[39m\n\u001b[1;32m----> <a href='vscode-notebook-cell:/g%3A/Intelligent_Information_System_Lab_research/003_research_Word2Vec/Word2Vec.ipynb#W2sZmlsZQ%3D%3D?line=4'>5</a>\u001b[0m model \u001b[39m=\u001b[39m Word2Vec\u001b[39m.\u001b[39;49mload(model_file_path)\n\u001b[0;32m      <a href='vscode-notebook-cell:/g%3A/Intelligent_Information_System_Lab_research/003_research_Word2Vec/Word2Vec.ipynb#W2sZmlsZQ%3D%3D?line=6'>7</a>\u001b[0m \u001b[39m# モデル内に登録されている単語リストの長さをlen関数で見る（＝単語数）\u001b[39;00m\n\u001b[0;32m      <a href='vscode-notebook-cell:/g%3A/Intelligent_Information_System_Lab_research/003_research_Word2Vec/Word2Vec.ipynb#W2sZmlsZQ%3D%3D?line=7'>8</a>\u001b[0m \u001b[39mprint\u001b[39m(\u001b[39mlen\u001b[39m(model\u001b[39m.\u001b[39mwv\u001b[39m.\u001b[39mkey_to_index))\n",
      "File \u001b[1;32m~\\AppData\\Roaming\\Python\\Python310\\site-packages\\gensim\\models\\word2vec.py:1953\u001b[0m, in \u001b[0;36mWord2Vec.load\u001b[1;34m(cls, rethrow, *args, **kwargs)\u001b[0m\n\u001b[0;32m   1934\u001b[0m \u001b[39m\"\"\"Load a previously saved :class:`~gensim.models.word2vec.Word2Vec` model.\u001b[39;00m\n\u001b[0;32m   1935\u001b[0m \n\u001b[0;32m   1936\u001b[0m \u001b[39mSee Also\u001b[39;00m\n\u001b[1;32m   (...)\u001b[0m\n\u001b[0;32m   1950\u001b[0m \n\u001b[0;32m   1951\u001b[0m \u001b[39m\"\"\"\u001b[39;00m\n\u001b[0;32m   1952\u001b[0m \u001b[39mtry\u001b[39;00m:\n\u001b[1;32m-> 1953\u001b[0m     model \u001b[39m=\u001b[39m \u001b[39msuper\u001b[39m(Word2Vec, \u001b[39mcls\u001b[39m)\u001b[39m.\u001b[39mload(\u001b[39m*\u001b[39margs, \u001b[39m*\u001b[39m\u001b[39m*\u001b[39mkwargs)\n\u001b[0;32m   1954\u001b[0m     \u001b[39mif\u001b[39;00m \u001b[39mnot\u001b[39;00m \u001b[39misinstance\u001b[39m(model, Word2Vec):\n\u001b[0;32m   1955\u001b[0m         rethrow \u001b[39m=\u001b[39m \u001b[39mTrue\u001b[39;00m\n",
      "File \u001b[1;32m~\\AppData\\Roaming\\Python\\Python310\\site-packages\\gensim\\utils.py:486\u001b[0m, in \u001b[0;36mSaveLoad.load\u001b[1;34m(cls, fname, mmap)\u001b[0m\n\u001b[0;32m    482\u001b[0m logger\u001b[39m.\u001b[39minfo(\u001b[39m\"\u001b[39m\u001b[39mloading \u001b[39m\u001b[39m%s\u001b[39;00m\u001b[39m object from \u001b[39m\u001b[39m%s\u001b[39;00m\u001b[39m\"\u001b[39m, \u001b[39mcls\u001b[39m\u001b[39m.\u001b[39m\u001b[39m__name__\u001b[39m, fname)\n\u001b[0;32m    484\u001b[0m compress, subname \u001b[39m=\u001b[39m SaveLoad\u001b[39m.\u001b[39m_adapt_by_suffix(fname)\n\u001b[1;32m--> 486\u001b[0m obj \u001b[39m=\u001b[39m unpickle(fname)\n\u001b[0;32m    487\u001b[0m obj\u001b[39m.\u001b[39m_load_specials(fname, mmap, compress, subname)\n\u001b[0;32m    488\u001b[0m obj\u001b[39m.\u001b[39madd_lifecycle_event(\u001b[39m\"\u001b[39m\u001b[39mloaded\u001b[39m\u001b[39m\"\u001b[39m, fname\u001b[39m=\u001b[39mfname)\n",
      "File \u001b[1;32m~\\AppData\\Roaming\\Python\\Python310\\site-packages\\gensim\\utils.py:1460\u001b[0m, in \u001b[0;36munpickle\u001b[1;34m(fname)\u001b[0m\n\u001b[0;32m   1446\u001b[0m \u001b[39mdef\u001b[39;00m \u001b[39munpickle\u001b[39m(fname):\n\u001b[0;32m   1447\u001b[0m     \u001b[39m\"\"\"Load object from `fname`, using smart_open so that `fname` can be on S3, HDFS, compressed etc.\u001b[39;00m\n\u001b[0;32m   1448\u001b[0m \n\u001b[0;32m   1449\u001b[0m \u001b[39m    Parameters\u001b[39;00m\n\u001b[1;32m   (...)\u001b[0m\n\u001b[0;32m   1458\u001b[0m \n\u001b[0;32m   1459\u001b[0m \u001b[39m    \"\"\"\u001b[39;00m\n\u001b[1;32m-> 1460\u001b[0m     \u001b[39mwith\u001b[39;00m \u001b[39mopen\u001b[39;49m(fname, \u001b[39m'\u001b[39;49m\u001b[39mrb\u001b[39;49m\u001b[39m'\u001b[39;49m) \u001b[39mas\u001b[39;00m f:\n\u001b[0;32m   1461\u001b[0m         \u001b[39mreturn\u001b[39;00m _pickle\u001b[39m.\u001b[39mload(f, encoding\u001b[39m=\u001b[39m\u001b[39m'\u001b[39m\u001b[39mlatin1\u001b[39m\u001b[39m'\u001b[39m)\n",
      "File \u001b[1;32m~\\AppData\\Roaming\\Python\\Python310\\site-packages\\smart_open\\smart_open_lib.py:177\u001b[0m, in \u001b[0;36mopen\u001b[1;34m(uri, mode, buffering, encoding, errors, newline, closefd, opener, compression, transport_params)\u001b[0m\n\u001b[0;32m    174\u001b[0m \u001b[39mif\u001b[39;00m transport_params \u001b[39mis\u001b[39;00m \u001b[39mNone\u001b[39;00m:\n\u001b[0;32m    175\u001b[0m     transport_params \u001b[39m=\u001b[39m {}\n\u001b[1;32m--> 177\u001b[0m fobj \u001b[39m=\u001b[39m _shortcut_open(\n\u001b[0;32m    178\u001b[0m     uri,\n\u001b[0;32m    179\u001b[0m     mode,\n\u001b[0;32m    180\u001b[0m     compression\u001b[39m=\u001b[39;49mcompression,\n\u001b[0;32m    181\u001b[0m     buffering\u001b[39m=\u001b[39;49mbuffering,\n\u001b[0;32m    182\u001b[0m     encoding\u001b[39m=\u001b[39;49mencoding,\n\u001b[0;32m    183\u001b[0m     errors\u001b[39m=\u001b[39;49merrors,\n\u001b[0;32m    184\u001b[0m     newline\u001b[39m=\u001b[39;49mnewline,\n\u001b[0;32m    185\u001b[0m )\n\u001b[0;32m    186\u001b[0m \u001b[39mif\u001b[39;00m fobj \u001b[39mis\u001b[39;00m \u001b[39mnot\u001b[39;00m \u001b[39mNone\u001b[39;00m:\n\u001b[0;32m    187\u001b[0m     \u001b[39mreturn\u001b[39;00m fobj\n",
      "File \u001b[1;32m~\\AppData\\Roaming\\Python\\Python310\\site-packages\\smart_open\\smart_open_lib.py:363\u001b[0m, in \u001b[0;36m_shortcut_open\u001b[1;34m(uri, mode, compression, buffering, encoding, errors, newline)\u001b[0m\n\u001b[0;32m    360\u001b[0m \u001b[39mif\u001b[39;00m errors \u001b[39mand\u001b[39;00m \u001b[39m'\u001b[39m\u001b[39mb\u001b[39m\u001b[39m'\u001b[39m \u001b[39mnot\u001b[39;00m \u001b[39min\u001b[39;00m mode:\n\u001b[0;32m    361\u001b[0m     open_kwargs[\u001b[39m'\u001b[39m\u001b[39merrors\u001b[39m\u001b[39m'\u001b[39m] \u001b[39m=\u001b[39m errors\n\u001b[1;32m--> 363\u001b[0m \u001b[39mreturn\u001b[39;00m _builtin_open(local_path, mode, buffering\u001b[39m=\u001b[39mbuffering, \u001b[39m*\u001b[39m\u001b[39m*\u001b[39mopen_kwargs)\n",
      "\u001b[1;31mFileNotFoundError\u001b[0m: [Errno 2] No such file or directory: '../../KITERETU/gw2v160.model'"
     ]
    }
   ],
   "source": [
    "from gensim.models import Word2Vec\n",
    "\n",
    "# 学習済みモデルのロード\n",
    "model_file_path = '../../KITERETU/gw2v160.model'\n",
    "model = Word2Vec.load(model_file_path)\n",
    "\n",
    "# モデル内に登録されている単語リストの長さをlen関数で見る（＝単語数）\n",
    "print(len(model.wv.key_to_index))\n",
    "\n",
    "# 「群馬」に似ている単語TOP7を書き出す\n",
    "out = model.wv.most_similar(positive=[u'群馬'], topn=7)\n",
    "print(out)\n"
   ]
  },
  {
   "cell_type": "code",
   "execution_count": null,
   "metadata": {},
   "outputs": [],
   "source": [
    "print(out)\n",
    "\n",
    "#AtCoderでよく使う辞書処理を使って県と数値を取り出す\n",
    "for prefecture, value in out:\n",
    "    print(prefecture, value)"
   ]
  },
  {
   "cell_type": "code",
   "execution_count": null,
   "metadata": {},
   "outputs": [],
   "source": [
    "from gensim.models import Word2Vec\n",
    "\n",
    "# 学習済みモデルのロード\n",
    "model_file_path = '../../KITERETU/gw2v160.model'\n",
    "model = Word2Vec.load(model_file_path)\n",
    "\n",
    "# モデル内に登録されている単語リストの長さをlen関数で見る（＝単語数）\n",
    "print(len(model.wv.key_to_index))\n",
    "\n",
    "# 「群馬」に似ている単語のうち、類似度が0.5以上の単語を書き出す\n",
    "out = [word for word, similarity in model.wv.most_similar(positive=[u'群馬']) if similarity >= 0.5]\n",
    "print(out)"
   ]
  },
  {
   "attachments": {},
   "cell_type": "markdown",
   "metadata": {},
   "source": [
    "\n",
    "「？？」－「群馬」＝「宇都宮」－「栃木」\n",
    "それぞれ県庁所在地から県を引いています。そのため、群馬の県庁所在地がどこか、機械が求める必要がある。\n",
    "式を移行し\n",
    "「？？」＝「宇都宮」－「栃木」＋「群馬」\n",
    "この式の右辺を元に、さきほどの.wv.most_similarの引数として、positiveにプラスとする単語、negativeにマイナスとする単語を入れるだけで、「ベクトル同士の足し算・引き算の結果に最も似ている単語」を出力する"
   ]
  },
  {
   "cell_type": "code",
   "execution_count": null,
   "metadata": {},
   "outputs": [],
   "source": [
    "out = model.wv.most_similar(positive=[u'宇都宮', u'群馬'], negative=[u'栃木'], topn=1)\n",
    "print(out)"
   ]
  },
  {
   "cell_type": "code",
   "execution_count": null,
   "metadata": {},
   "outputs": [],
   "source": [
    "out = model.wv.most_similar(positive=[u'宇都宮', u'群馬'], negative=[u'栃木'], topn=7)\n",
    "print(out)"
   ]
  },
  {
   "cell_type": "code",
   "execution_count": null,
   "metadata": {},
   "outputs": [],
   "source": [
    "#ついでに東北地方の茨城県もやっておく\n",
    "#「？？」＝「宇都宮」－「栃木」＋「茨城」\n",
    "out = model.wv.most_similar(positive=[u'宇都宮', u'茨城'], negative=[u'栃木'], topn=7)\n",
    "print(out)"
   ]
  }
 ],
 "metadata": {
  "kernelspec": {
   "display_name": "Python 3",
   "language": "python",
   "name": "python3"
  },
  "language_info": {
   "codemirror_mode": {
    "name": "ipython",
    "version": 3
   },
   "file_extension": ".py",
   "mimetype": "text/x-python",
   "name": "python",
   "nbconvert_exporter": "python",
   "pygments_lexer": "ipython3",
   "version": "3.11.3"
  },
  "orig_nbformat": 4
 },
 "nbformat": 4,
 "nbformat_minor": 2
}
