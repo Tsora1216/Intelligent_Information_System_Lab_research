{
 "cells": [
  {
   "cell_type": "code",
   "execution_count": 1,
   "metadata": {},
   "outputs": [
    {
     "name": "stderr",
     "output_type": "stream",
     "text": [
      "  % Total    % Received % Xferd  Average Speed   Time    Time     Time  Current\n",
      "                                 Dload  Upload   Total   Spent    Left  Speed\n",
      "\n",
      "  0     0    0     0    0     0      0      0 --:--:-- --:--:-- --:--:--     0\n",
      "  0     0    0     0    0     0      0      0 --:--:--  0:00:01 --:--:--     0\n",
      "  0 19.1M    0 98312    0     0  61325      0  0:05:27  0:00:01  0:05:26 61368\n",
      " 28 19.1M   28 5565k    0     0  2140k      0  0:00:09  0:00:02  0:00:07 2141k\n",
      " 83 19.1M   83 16.0M    0     0  4568k      0  0:00:04  0:00:03  0:00:01 4569k\n",
      "100 19.1M  100 19.1M    0     0  5050k      0  0:00:03  0:00:03 --:--:-- 5053k\n",
      "  % Total    % Received % Xferd  Average Speed   Time    Time     Time  Current\n",
      "                                 Dload  Upload   Total   Spent    Left  Speed\n",
      "\n",
      "  0     0    0     0    0     0      0      0 --:--:-- --:--:-- --:--:--     0\n",
      "  0     0    0     0    0     0      0      0 --:--:--  0:00:01 --:--:--     0\n",
      "  0  179M    0 81926    0     0  47418      0  1:06:04  0:00:01  1:06:03 47438\n",
      "  2  179M    2 4541k    0     0  1699k      0  0:01:48  0:00:02  0:01:46 1699k\n",
      "  8  179M    8 14.7M    0     0  4124k      0  0:00:44  0:00:03  0:00:41 4125k\n",
      " 14  179M   14 25.7M    0     0  5659k      0  0:00:32  0:00:04  0:00:28 5660k\n",
      " 20  179M   20 36.6M    0     0  6635k      0  0:00:27  0:00:05  0:00:22 8561k\n",
      " 25  179M   25 46.2M    0     0  7116k      0  0:00:25  0:00:06  0:00:19 9592k\n",
      " 31  179M   31 56.8M    0     0  7597k      0  0:00:24  0:00:07  0:00:17 10.5M\n",
      " 37  179M   37 67.8M    0     0  8019k      0  0:00:22  0:00:08  0:00:14 10.6M\n",
      " 43  179M   43 78.5M    0     0  8325k      0  0:00:22  0:00:09  0:00:13 10.5M\n",
      " 50  179M   50 89.6M    0     0  8614k      0  0:00:21  0:00:10  0:00:11 10.6M\n",
      " 55  179M   55 99.5M    0     0  8742k      0  0:00:21  0:00:11  0:00:10 10.6M\n",
      " 61  179M   61  110M    0     0  8910k      0  0:00:20  0:00:12  0:00:08 10.6M\n",
      " 67  179M   67  121M    0     0  9079k      0  0:00:20  0:00:13  0:00:07 10.6M\n",
      " 73  179M   73  132M    0     0  9220k      0  0:00:19  0:00:14  0:00:05 10.6M\n",
      " 79  179M   79  142M    0     0  9349k      0  0:00:19  0:00:15  0:00:04 10.6M\n",
      " 85  179M   85  153M    0     0  9413k      0  0:00:19  0:00:16  0:00:03 10.7M\n",
      " 90  179M   90  162M    0     0  9440k      0  0:00:19  0:00:17  0:00:02 10.5M\n",
      " 96  179M   96  173M    0     0  9522k      0  0:00:19  0:00:18  0:00:01 10.4M\n",
      "100  179M  100  179M    0     0  9577k      0  0:00:19  0:00:19 --:--:-- 10.4M\n",
      "  % Total    % Received % Xferd  Average Speed   Time    Time     Time  Current\n",
      "                                 Dload  Upload   Total   Spent    Left  Speed\n",
      "\n",
      "  0     0    0     0    0     0      0      0 --:--:-- --:--:-- --:--:--     0\n",
      "  0     0    0     0    0     0      0      0 --:--:--  0:00:01 --:--:--     0\n",
      "  0  179M    0 49172    0     0  33725      0  1:32:54  0:00:01  1:32:53 33748\n",
      "  1  179M    1 3248k    0     0  1334k      0  0:02:17  0:00:02  0:02:15 1335k\n",
      "  7  179M    7 13.9M    0     0  4165k      0  0:00:44  0:00:03  0:00:41 4166k\n",
      " 13  179M   13 24.7M    0     0  5726k      0  0:00:32  0:00:04  0:00:28 5728k\n",
      " 19  179M   19 35.0M    0     0  6605k      0  0:00:27  0:00:05  0:00:22 8417k\n",
      " 25  179M   25 45.6M    0     0  7272k      0  0:00:25  0:00:06  0:00:19 9393k\n",
      " 31  179M   31 56.7M    0     0  7811k      0  0:00:23  0:00:07  0:00:16 10.7M\n",
      " 37  179M   37 67.6M    0     0  8212k      0  0:00:22  0:00:08  0:00:14 10.7M\n",
      " 43  179M   43 78.4M    0     0  8519k      0  0:00:21  0:00:09  0:00:12 10.7M\n",
      " 49  179M   49 89.2M    0     0  8761k      0  0:00:20  0:00:10  0:00:10 10.8M\n",
      " 55  179M   55 99.0M    0     0  8870k      0  0:00:20  0:00:11  0:00:09 10.6M\n",
      " 61  179M   61  109M    0     0  9033k      0  0:00:20  0:00:12  0:00:08 10.5M\n",
      " 67  179M   67  120M    0     0  9185k      0  0:00:19  0:00:13  0:00:06 10.5M\n",
      " 73  179M   73  131M    0     0  9292k      0  0:00:19  0:00:14  0:00:05 10.4M\n",
      " 79  179M   79  141M    0     0  9420k      0  0:00:19  0:00:15  0:00:04 10.5M\n",
      " 85  179M   85  152M    0     0  9513k      0  0:00:19  0:00:16  0:00:03 10.7M\n",
      " 91  179M   91  163M    0     0  9602k      0  0:00:19  0:00:17  0:00:02 10.7M\n",
      " 97  179M   97  174M    0     0  9671k      0  0:00:18  0:00:18 --:--:-- 10.7M\n",
      "100  179M  100  179M    0     0  9701k      0  0:00:18  0:00:18 --:--:-- 10.7M\n"
     ]
    }
   ],
   "source": [
    "# Word2Vecの学習済みモデルをそのフォルダにダウンロードする（3ファイルで1セット:400MB弱ほど）\n",
    "!curl -o \"../../KITERETU/gw2v160.model\" https://storage.googleapis.com/nlp_youwht/w2v/gw2v160.model\n",
    "\n",
    "!curl -o \"../../KITERETU/gw2v160.model.trainables.syn1neg.npy\" https://storage.googleapis.com/nlp_youwht/w2v/gw2v160.model.trainables.syn1neg.npy\n",
    "\n",
    "!curl -o \"../../KITERETU/gw2v160.model.wv.vectors.npy\" https://storage.googleapis.com/nlp_youwht/w2v/gw2v160.model.wv.vectors.npy"
   ]
  },
  {
   "cell_type": "code",
   "execution_count": 2,
   "metadata": {},
   "outputs": [
    {
     "name": "stdout",
     "output_type": "stream",
     "text": [
      "Requirement already satisfied: gensim in c:\\users\\irsl27\\anaconda3\\lib\\site-packages (4.3.0)\n",
      "Requirement already satisfied: smart-open>=1.8.1 in c:\\users\\irsl27\\anaconda3\\lib\\site-packages (from gensim) (5.2.1)\n",
      "Requirement already satisfied: scipy>=1.7.0 in c:\\users\\irsl27\\anaconda3\\lib\\site-packages (from gensim) (1.10.1)\n",
      "Requirement already satisfied: numpy>=1.18.5 in c:\\users\\irsl27\\anaconda3\\lib\\site-packages (from gensim) (1.24.3)\n",
      "Requirement already satisfied: FuzzyTM>=0.4.0 in c:\\users\\irsl27\\anaconda3\\lib\\site-packages (from gensim) (2.0.5)\n",
      "Requirement already satisfied: pandas in c:\\users\\irsl27\\anaconda3\\lib\\site-packages (from FuzzyTM>=0.4.0->gensim) (2.0.1)\n",
      "Requirement already satisfied: pyfume in c:\\users\\irsl27\\anaconda3\\lib\\site-packages (from FuzzyTM>=0.4.0->gensim) (0.2.25)\n",
      "Requirement already satisfied: python-dateutil>=2.8.2 in c:\\users\\irsl27\\anaconda3\\lib\\site-packages (from pandas->FuzzyTM>=0.4.0->gensim) (2.8.2)\n",
      "Requirement already satisfied: tzdata>=2022.1 in c:\\users\\irsl27\\anaconda3\\lib\\site-packages (from pandas->FuzzyTM>=0.4.0->gensim) (2023.3)\n",
      "Requirement already satisfied: pytz>=2020.1 in c:\\users\\irsl27\\anaconda3\\lib\\site-packages (from pandas->FuzzyTM>=0.4.0->gensim) (2022.7)\n",
      "Requirement already satisfied: simpful in c:\\users\\irsl27\\anaconda3\\lib\\site-packages (from pyfume->FuzzyTM>=0.4.0->gensim) (2.11.0)\n",
      "Requirement already satisfied: fst-pso in c:\\users\\irsl27\\anaconda3\\lib\\site-packages (from pyfume->FuzzyTM>=0.4.0->gensim) (1.8.1)\n",
      "Requirement already satisfied: six>=1.5 in c:\\users\\irsl27\\anaconda3\\lib\\site-packages (from python-dateutil>=2.8.2->pandas->FuzzyTM>=0.4.0->gensim) (1.16.0)\n",
      "Requirement already satisfied: miniful in c:\\users\\irsl27\\anaconda3\\lib\\site-packages (from fst-pso->pyfume->FuzzyTM>=0.4.0->gensim) (0.0.6)\n",
      "Note: you may need to restart the kernel to use updated packages.\n"
     ]
    }
   ],
   "source": [
    "pip install gensim"
   ]
  },
  {
   "cell_type": "code",
   "execution_count": 3,
   "metadata": {},
   "outputs": [
    {
     "name": "stdout",
     "output_type": "stream",
     "text": [
      "293753\n",
      "[('群馬県', 0.7760874032974243), ('栃木', 0.7456161379814148), ('前橋', 0.7389767169952393), ('埼玉', 0.7216979265213013), ('高崎', 0.6891007423400879), ('伊勢崎', 0.6693983674049377), ('茨城', 0.6651455163955688)]\n"
     ]
    }
   ],
   "source": [
    "from gensim.models import Word2Vec\n",
    "\n",
    "# 学習済みモデルのロード\n",
    "model_file_path = '../../KITERETU/gw2v160.model'\n",
    "model = Word2Vec.load(model_file_path)\n",
    "\n",
    "# モデル内に登録されている単語リストの長さをlen関数で見る（＝単語数）\n",
    "print(len(model.wv.key_to_index))\n",
    "\n",
    "# 「群馬」に似ている単語TOP7を書き出す\n",
    "out = model.wv.most_similar(positive=[u'群馬'], topn=7)\n",
    "print(out)\n"
   ]
  },
  {
   "cell_type": "code",
   "execution_count": null,
   "metadata": {},
   "outputs": [],
   "source": [
    "print(out)\n",
    "\n",
    "#AtCoderでよく使う辞書処理を使って県と数値を取り出す\n",
    "for prefecture, value in out:\n",
    "    print(prefecture, value)"
   ]
  },
  {
   "cell_type": "code",
   "execution_count": null,
   "metadata": {},
   "outputs": [],
   "source": [
    "from gensim.models import Word2Vec\n",
    "\n",
    "# 学習済みモデルのロード\n",
    "model_file_path = '../../KITERETU/gw2v160.model'\n",
    "model = Word2Vec.load(model_file_path)\n",
    "\n",
    "# モデル内に登録されている単語リストの長さをlen関数で見る（＝単語数）\n",
    "print(len(model.wv.key_to_index))\n",
    "\n",
    "# 「群馬」に似ている単語のうち、類似度が0.5以上の単語を書き出す\n",
    "out = [word for word, similarity in model.wv.most_similar(positive=[u'群馬']) if similarity >= 0.5]\n",
    "print(out)"
   ]
  },
  {
   "attachments": {},
   "cell_type": "markdown",
   "metadata": {},
   "source": [
    "\n",
    "「？？」－「群馬」＝「宇都宮」－「栃木」\n",
    "それぞれ県庁所在地から県を引いています。そのため、群馬の県庁所在地がどこか、機械が求める必要がある。\n",
    "式を移行し\n",
    "「？？」＝「宇都宮」－「栃木」＋「群馬」\n",
    "この式の右辺を元に、さきほどの.wv.most_similarの引数として、positiveにプラスとする単語、negativeにマイナスとする単語を入れるだけで、「ベクトル同士の足し算・引き算の結果に最も似ている単語」を出力する"
   ]
  },
  {
   "cell_type": "code",
   "execution_count": null,
   "metadata": {},
   "outputs": [],
   "source": [
    "out = model.wv.most_similar(positive=[u'宇都宮', u'群馬'], negative=[u'栃木'], topn=1)\n",
    "print(out)"
   ]
  },
  {
   "cell_type": "code",
   "execution_count": null,
   "metadata": {},
   "outputs": [],
   "source": [
    "out = model.wv.most_similar(positive=[u'宇都宮', u'群馬'], negative=[u'栃木'], topn=7)\n",
    "print(out)"
   ]
  },
  {
   "cell_type": "code",
   "execution_count": null,
   "metadata": {},
   "outputs": [],
   "source": [
    "#ついでに東北地方の茨城県もやっておく\n",
    "#「？？」＝「宇都宮」－「栃木」＋「茨城」\n",
    "out = model.wv.most_similar(positive=[u'宇都宮', u'茨城'], negative=[u'栃木'], topn=7)\n",
    "print(out)"
   ]
  }
 ],
 "metadata": {
  "kernelspec": {
   "display_name": "Python 3",
   "language": "python",
   "name": "python3"
  },
  "language_info": {
   "codemirror_mode": {
    "name": "ipython",
    "version": 3
   },
   "file_extension": ".py",
   "mimetype": "text/x-python",
   "name": "python",
   "nbconvert_exporter": "python",
   "pygments_lexer": "ipython3",
   "version": "3.10.9"
  },
  "orig_nbformat": 4
 },
 "nbformat": 4,
 "nbformat_minor": 2
}
