{
 "cells": [
  {
   "cell_type": "code",
   "execution_count": 1,
   "metadata": {},
   "outputs": [],
   "source": [
    "model_file_path = '../../KITERETU/gw2v160.model'\n",
    "model_file_path_v2 = '../../KITERETU/gw2v160_v2.model'"
   ]
  },
  {
   "attachments": {},
   "cell_type": "markdown",
   "metadata": {},
   "source": [
    "学習前の出力「猫」"
   ]
  },
  {
   "cell_type": "code",
   "execution_count": 8,
   "metadata": {},
   "outputs": [
    {
     "name": "stdout",
     "output_type": "stream",
     "text": [
      "293753\n",
      "[('昼行性', 0.8868737816810608), ('薄明', 0.759250283241272), ('樹上', 0.7523338198661804), ('食性', 0.7226844429969788), ('採餌', 0.7034914493560791), ('棲', 0.7000197768211365), ('巣穴', 0.6523171663284302), ('昼間', 0.6493627429008484), ('肉食性', 0.6285929679870605), ('群れる', 0.6197814345359802)]\n"
     ]
    }
   ],
   "source": [
    "from gensim.models import Word2Vec\n",
    "\n",
    "# 学習済みモデルのロード\n",
    "model = Word2Vec.load(model_file_path)\n",
    "\n",
    "# モデル内に登録されている単語リストの長さをlen関数で見る（＝単語数）\n",
    "print(len(model.wv.key_to_index))\n",
    "\n",
    "# 「群馬」に似ている単語TOP7を書き出す\n",
    "out = model.wv.most_similar(positive=[u'猫'])\n",
    "print(out)"
   ]
  },
  {
   "attachments": {},
   "cell_type": "markdown",
   "metadata": {},
   "source": [
    "再学習"
   ]
  },
  {
   "cell_type": "code",
   "execution_count": 3,
   "metadata": {},
   "outputs": [],
   "source": [
    "\n",
    "from gensim.models import KeyedVectors\n",
    "\n",
    "# 既存のWord2Vecモデルを読み込む\n",
    "pretrained_model = KeyedVectors.load(model_file_path)\n",
    "\n",
    "# 追加で学習させるためのデータを用意する\n",
    "new_training_data = [ '私の家には可愛い猫がいます。', '猫は独立心が強い動物です。', '猫が部屋の隅でくつろいでいます。', '猫の毛並みはとてもきれいです。', '猫が私の足元にすり寄ってきました。', '猫は夜行性の動物です。', '猫は小さな鳴き声で鳴きます。', '猫が糸で遊んでいる姿が可愛いです。', '猫は高いところが好きです。', '猫はネズミを捕まえるのが得意です。', '猫が私の膝の上で寝ています。', '猫は警戒心が強い生き物です。', '猫の目は夜に輝いて見えます。', '猫が私の手をなめてくれました。', '猫はクネクネとしながら歩きます。', '猫が窓の外をじっと見つめています。', '猫が椅子に飛び乗って遊んでいます。', '猫のしっぽはふわふわしています。', '猫が猛スピードで走り回っています。', '猫が私の顔にぴったりとくっついてきました。', '猫は飼い主に忠実です。', '猫がおもちゃで遊んでいる姿が面白いです。', '猫は掃除機の音に驚いて逃げてしまいました。', '猫がお腹を見せて甘えてきました。', '猫は太陽の光を浴びながらのびています。', '猫が窓辺で鳥を見つめています。', '猫が私の上着の上でくつろいでいます。', '猫は餌をねだるときに可愛い声で鳴きます。', '猫が私の足元でまるくなって寝ています。', '猫は狩りの本能を持っています。', '猫が網戸越しに外の景色を眺めています。', '猫が私の手に爪を立てて遊んでいます。']\n",
    "\n",
    "\n",
    "# 既存のモデルに新しいデータを追加して再学習\n",
    "pretrained_model.build_vocab(new_training_data, update=True)\n",
    "pretrained_model.train(new_training_data, total_examples=pretrained_model.corpus_count, epochs=pretrained_model.epochs)\n",
    "\n",
    "# モデルの保存\n",
    "updated_model_path = model_file_path_v2\n",
    "pretrained_model.save(updated_model_path)"
   ]
  },
  {
   "attachments": {},
   "cell_type": "markdown",
   "metadata": {},
   "source": [
    "学習後の出力「猫」"
   ]
  },
  {
   "cell_type": "code",
   "execution_count": 7,
   "metadata": {},
   "outputs": [
    {
     "name": "stdout",
     "output_type": "stream",
     "text": [
      "293754\n"
     ]
    },
    {
     "ename": "KeyError",
     "evalue": "\"Key '独立心' not present in vocabulary\"",
     "output_type": "error",
     "traceback": [
      "\u001b[1;31m---------------------------------------------------------------------------\u001b[0m",
      "\u001b[1;31mKeyError\u001b[0m                                  Traceback (most recent call last)",
      "Cell \u001b[1;32mIn[7], line 10\u001b[0m\n\u001b[0;32m      7\u001b[0m \u001b[39mprint\u001b[39m(\u001b[39mlen\u001b[39m(model\u001b[39m.\u001b[39mwv\u001b[39m.\u001b[39mkey_to_index))\n\u001b[0;32m      9\u001b[0m \u001b[39m# 「群馬」に似ている単語TOP7を書き出す\u001b[39;00m\n\u001b[1;32m---> 10\u001b[0m out2 \u001b[39m=\u001b[39m model\u001b[39m.\u001b[39;49mwv\u001b[39m.\u001b[39;49mmost_similar(positive\u001b[39m=\u001b[39;49m[\u001b[39mu\u001b[39;49m\u001b[39m'\u001b[39;49m\u001b[39m独立心\u001b[39;49m\u001b[39m'\u001b[39;49m])\n\u001b[0;32m     11\u001b[0m \u001b[39mprint\u001b[39m(out2)\n",
      "File \u001b[1;32m~\\AppData\\Roaming\\Python\\Python311\\site-packages\\gensim\\models\\keyedvectors.py:841\u001b[0m, in \u001b[0;36mKeyedVectors.most_similar\u001b[1;34m(self, positive, negative, topn, clip_start, clip_end, restrict_vocab, indexer)\u001b[0m\n\u001b[0;32m    838\u001b[0m         weight[idx] \u001b[39m=\u001b[39m item[\u001b[39m1\u001b[39m]\n\u001b[0;32m    840\u001b[0m \u001b[39m# compute the weighted average of all keys\u001b[39;00m\n\u001b[1;32m--> 841\u001b[0m mean \u001b[39m=\u001b[39m \u001b[39mself\u001b[39;49m\u001b[39m.\u001b[39;49mget_mean_vector(keys, weight, pre_normalize\u001b[39m=\u001b[39;49m\u001b[39mTrue\u001b[39;49;00m, post_normalize\u001b[39m=\u001b[39;49m\u001b[39mTrue\u001b[39;49;00m, ignore_missing\u001b[39m=\u001b[39;49m\u001b[39mFalse\u001b[39;49;00m)\n\u001b[0;32m    842\u001b[0m all_keys \u001b[39m=\u001b[39m [\n\u001b[0;32m    843\u001b[0m     \u001b[39mself\u001b[39m\u001b[39m.\u001b[39mget_index(key) \u001b[39mfor\u001b[39;00m key \u001b[39min\u001b[39;00m keys \u001b[39mif\u001b[39;00m \u001b[39misinstance\u001b[39m(key, _KEY_TYPES) \u001b[39mand\u001b[39;00m \u001b[39mself\u001b[39m\u001b[39m.\u001b[39mhas_index_for(key)\n\u001b[0;32m    844\u001b[0m ]\n\u001b[0;32m    846\u001b[0m \u001b[39mif\u001b[39;00m indexer \u001b[39mis\u001b[39;00m \u001b[39mnot\u001b[39;00m \u001b[39mNone\u001b[39;00m \u001b[39mand\u001b[39;00m \u001b[39misinstance\u001b[39m(topn, \u001b[39mint\u001b[39m):\n",
      "File \u001b[1;32m~\\AppData\\Roaming\\Python\\Python311\\site-packages\\gensim\\models\\keyedvectors.py:518\u001b[0m, in \u001b[0;36mKeyedVectors.get_mean_vector\u001b[1;34m(self, keys, weights, pre_normalize, post_normalize, ignore_missing)\u001b[0m\n\u001b[0;32m    516\u001b[0m         total_weight \u001b[39m+\u001b[39m\u001b[39m=\u001b[39m \u001b[39mabs\u001b[39m(weights[idx])\n\u001b[0;32m    517\u001b[0m     \u001b[39melif\u001b[39;00m \u001b[39mnot\u001b[39;00m ignore_missing:\n\u001b[1;32m--> 518\u001b[0m         \u001b[39mraise\u001b[39;00m \u001b[39mKeyError\u001b[39;00m(\u001b[39mf\u001b[39m\u001b[39m\"\u001b[39m\u001b[39mKey \u001b[39m\u001b[39m'\u001b[39m\u001b[39m{\u001b[39;00mkey\u001b[39m}\u001b[39;00m\u001b[39m'\u001b[39m\u001b[39m not present in vocabulary\u001b[39m\u001b[39m\"\u001b[39m)\n\u001b[0;32m    520\u001b[0m \u001b[39mif\u001b[39;00m total_weight \u001b[39m>\u001b[39m \u001b[39m0\u001b[39m:\n\u001b[0;32m    521\u001b[0m     mean \u001b[39m=\u001b[39m mean \u001b[39m/\u001b[39m total_weight\n",
      "\u001b[1;31mKeyError\u001b[0m: \"Key '独立心' not present in vocabulary\""
     ]
    }
   ],
   "source": [
    "from gensim.models import Word2Vec\n",
    "\n",
    "# 学習済みモデルのロード\n",
    "model = Word2Vec.load(model_file_path_v2)\n",
    "\n",
    "# モデル内に登録されている単語リストの長さをlen関数で見る（＝単語数）\n",
    "print(len(model.wv.key_to_index))\n",
    "\n",
    "# 「群馬」に似ている単語TOP7を書き出す\n",
    "out2 = model.wv.most_similar(positive=[u'猫'])\n",
    "print(out2)"
   ]
  },
  {
   "cell_type": "code",
   "execution_count": 5,
   "metadata": {},
   "outputs": [
    {
     "name": "stdout",
     "output_type": "stream",
     "text": [
      "[('犬', 0.7800165414810181), ('飼い猫', 0.7770193219184875), ('兎', 0.7747155427932739), ('子猫', 0.7501939535140991), ('野良猫', 0.7261691689491272), ('愛猫', 0.7254269123077393), ('鼠', 0.705467164516449), ('黒猫', 0.6986692547798157), ('雌猫', 0.6962224245071411), ('雄猫', 0.6609295606613159)]\n",
      "[('犬', 0.7798579931259155), ('飼い猫', 0.7768835425376892), ('兎', 0.7746302485466003), ('子猫', 0.7500550150871277), ('野良猫', 0.7259113192558289), ('愛猫', 0.7255593538284302), ('鼠', 0.7054285407066345), ('黒猫', 0.6987044215202332), ('雌猫', 0.696374237537384), ('雄猫', 0.6606647968292236)]\n"
     ]
    }
   ],
   "source": [
    "print(out)\n",
    "print(out2)"
   ]
  }
 ],
 "metadata": {
  "kernelspec": {
   "display_name": "Python 3",
   "language": "python",
   "name": "python3"
  },
  "language_info": {
   "codemirror_mode": {
    "name": "ipython",
    "version": 3
   },
   "file_extension": ".py",
   "mimetype": "text/x-python",
   "name": "python",
   "nbconvert_exporter": "python",
   "pygments_lexer": "ipython3",
   "version": "3.11.3"
  },
  "orig_nbformat": 4
 },
 "nbformat": 4,
 "nbformat_minor": 2
}
