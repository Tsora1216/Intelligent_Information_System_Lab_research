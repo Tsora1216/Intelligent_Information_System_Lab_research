{
 "cells": [
  {
   "cell_type": "code",
   "execution_count": 1,
   "metadata": {},
   "outputs": [],
   "source": [
    "model_file_path = '../../KITERETU/gw2v160.model'\n",
    "model_file_path_v2 = '../../KITERETU/gw2v160_v2.model'"
   ]
  },
  {
   "attachments": {},
   "cell_type": "markdown",
   "metadata": {},
   "source": [
    "学習前の出力「猫」"
   ]
  },
  {
   "cell_type": "code",
   "execution_count": 2,
   "metadata": {},
   "outputs": [
    {
     "name": "stdout",
     "output_type": "stream",
     "text": [
      "293753\n",
      "[('犬', 0.7800165414810181), ('飼い猫', 0.7770193219184875), ('兎', 0.7747155427932739), ('子猫', 0.7501939535140991), ('野良猫', 0.7261691689491272), ('愛猫', 0.7254269123077393), ('鼠', 0.705467164516449), ('黒猫', 0.6986692547798157), ('雌猫', 0.6962224245071411), ('雄猫', 0.6609295606613159)]\n"
     ]
    }
   ],
   "source": [
    "from gensim.models import Word2Vec\n",
    "\n",
    "# 学習済みモデルのロード\n",
    "model = Word2Vec.load(model_file_path)\n",
    "\n",
    "# モデル内に登録されている単語リストの長さをlen関数で見る（＝単語数）\n",
    "print(len(model.wv.key_to_index))\n",
    "\n",
    "# 「群馬」に似ている単語TOP7を書き出す\n",
    "out = model.wv.most_similar(positive=[u'猫'])\n",
    "print(out)"
   ]
  },
  {
   "attachments": {},
   "cell_type": "markdown",
   "metadata": {},
   "source": [
    "再学習"
   ]
  },
  {
   "cell_type": "code",
   "execution_count": 3,
   "metadata": {},
   "outputs": [],
   "source": [
    "\n",
    "from gensim.models import KeyedVectors\n",
    "\n",
    "# 既存のWord2Vecモデルを読み込む\n",
    "pretrained_model = KeyedVectors.load(model_file_path)\n",
    "\n",
    "# 追加で学習させるためのデータを用意する\n",
    "new_training_data = [ '私の家には可愛い猫がいます。', '猫は独立心が強い動物です。', '猫が部屋の隅でくつろいでいます。', '猫の毛並みはとてもきれいです。', '猫が私の足元にすり寄ってきました。', '猫は夜行性の動物です。', '猫は小さな鳴き声で鳴きます。', '猫が糸で遊んでいる姿が可愛いです。', '猫は高いところが好きです。', '猫はネズミを捕まえるのが得意です。', '猫が私の膝の上で寝ています。', '猫は警戒心が強い生き物です。', '猫の目は夜に輝いて見えます。', '猫が私の手をなめてくれました。', '猫はクネクネとしながら歩きます。', '猫が窓の外をじっと見つめています。', '猫が椅子に飛び乗って遊んでいます。', '猫のしっぽはふわふわしています。', '猫が猛スピードで走り回っています。', '猫が私の顔にぴったりとくっついてきました。', '猫は飼い主に忠実です。', '猫がおもちゃで遊んでいる姿が面白いです。', '猫は掃除機の音に驚いて逃げてしまいました。', '猫がお腹を見せて甘えてきました。', '猫は太陽の光を浴びながらのびています。', '猫が窓辺で鳥を見つめています。', '猫が私の上着の上でくつろいでいます。', '猫は餌をねだるときに可愛い声で鳴きます。', '猫が私の足元でまるくなって寝ています。', '猫は狩りの本能を持っています。', '猫が網戸越しに外の景色を眺めています。', '猫が私の手に爪を立てて遊んでいます。']\n",
    "\n",
    "\n",
    "# 既存のモデルに新しいデータを追加して再学習\n",
    "pretrained_model.build_vocab(new_training_data, update=True)\n",
    "pretrained_model.train(new_training_data, total_examples=pretrained_model.corpus_count, epochs=pretrained_model.epochs)\n",
    "\n",
    "# モデルの保存\n",
    "updated_model_path = model_file_path_v2\n",
    "pretrained_model.save(updated_model_path)"
   ]
  },
  {
   "attachments": {},
   "cell_type": "markdown",
   "metadata": {},
   "source": [
    "学習後の出力「猫」"
   ]
  },
  {
   "cell_type": "code",
   "execution_count": 4,
   "metadata": {},
   "outputs": [
    {
     "name": "stdout",
     "output_type": "stream",
     "text": [
      "293754\n",
      "[('犬', 0.7798579931259155), ('飼い猫', 0.7768835425376892), ('兎', 0.7746302485466003), ('子猫', 0.7500550150871277), ('野良猫', 0.7259113192558289), ('愛猫', 0.7255593538284302), ('鼠', 0.7054285407066345), ('黒猫', 0.6987044215202332), ('雌猫', 0.696374237537384), ('雄猫', 0.6606647968292236)]\n"
     ]
    }
   ],
   "source": [
    "from gensim.models import Word2Vec\n",
    "\n",
    "# 学習済みモデルのロード\n",
    "model_v2 = Word2Vec.load(model_file_path_v2)\n",
    "\n",
    "# モデル内に登録されている単語リストの長さをlen関数で見る（＝単語数）\n",
    "print(len(model_v2.wv.key_to_index))\n",
    "\n",
    "# 「群馬」に似ている単語TOP7を書き出す\n",
    "out_v2 = model_v2.wv.most_similar(positive=[u'猫'])\n",
    "print(out_v2)"
   ]
  },
  {
   "attachments": {},
   "cell_type": "markdown",
   "metadata": {},
   "source": [
    "#学習を行ったことで何が増えたか"
   ]
  },
  {
   "cell_type": "code",
   "execution_count": 5,
   "metadata": {},
   "outputs": [
    {
     "name": "stdout",
     "output_type": "stream",
     "text": [
      "[('犬', 0.7800165414810181), ('飼い猫', 0.7770193219184875), ('兎', 0.7747155427932739), ('子猫', 0.7501939535140991), ('野良猫', 0.7261691689491272), ('愛猫', 0.7254269123077393), ('鼠', 0.705467164516449), ('黒猫', 0.6986692547798157), ('雌猫', 0.6962224245071411), ('雄猫', 0.6609295606613159)]\n",
      "[('犬', 0.7798579931259155), ('飼い猫', 0.7768835425376892), ('兎', 0.7746302485466003), ('子猫', 0.7500550150871277), ('野良猫', 0.7259113192558289), ('愛猫', 0.7255593538284302), ('鼠', 0.7054285407066345), ('黒猫', 0.6987044215202332), ('雌猫', 0.696374237537384), ('雄猫', 0.6606647968292236)]\n"
     ]
    }
   ],
   "source": [
    "print(out)\n",
    "print(out_v2)"
   ]
  },
  {
   "cell_type": "code",
   "execution_count": 6,
   "metadata": {},
   "outputs": [
    {
     "name": "stdout",
     "output_type": "stream",
     "text": [
      "293753\n",
      "293754\n",
      "['い']\n"
     ]
    }
   ],
   "source": [
    "from gensim.models import Word2Vec\n",
    "\n",
    "# モデル内に登録されている単語リストの長さをlen関数で見る（＝単語数）\n",
    "print(len(model.wv.key_to_index))\n",
    "print(len(model_v2.wv.key_to_index))\n",
    "\n",
    "# モデル内のすべての単語を表示する\n",
    "New_Word = []\n",
    "for word, index in model_v2.wv.key_to_index.items():\n",
    "    if word in model.wv.key_to_index:\n",
    "        None\n",
    "    else:\n",
    "        New_Word.append(word)\n",
    "print(New_Word)"
   ]
  },
  {
   "cell_type": "code",
   "execution_count": 7,
   "metadata": {},
   "outputs": [
    {
     "name": "stdout",
     "output_type": "stream",
     "text": [
      "学習後に追加された「い」に類似する文字列\n",
      "[('keyabingo', 0.48240751028060913), ('cinnamate', 0.476363867521286), ('メチルグルタリル', 0.45999518036842346), ('7.81', 0.45437389612197876), ('7830', 0.44938260316848755), ('ホスファチジル', 0.4356057643890381), ('dihydro', 0.4347230792045593), ('animelolive', 0.43241751194000244), ('33750', 0.42945951223373413), ('フォルネーロス', 0.4207508862018585)]\n"
     ]
    }
   ],
   "source": [
    "# 学習後に増えた単語TOP7を書き出す\n",
    "for New_Word_input in New_Word:\n",
    "    print(\"学習後に追加された「{}」に類似する文字列\".format(New_Word_input))\n",
    "    out_v2 = model_v2.wv.most_similar(positive=[New_Word_input])\n",
    "    print(out_v2)"
   ]
  },
  {
   "cell_type": "code",
   "execution_count": 8,
   "metadata": {},
   "outputs": [
    {
     "name": "stdout",
     "output_type": "stream",
     "text": [
      "学習前モデルには、「い」というWordは存在しないためエラーが出ました。\n"
     ]
    }
   ],
   "source": [
    "# 学習後に増えた単語TOP7を書き出す(学習前モデルには存在しないということを証明するためにエラーを吐かせる)\n",
    "for New_Word_input in New_Word:\n",
    "    try:\n",
    "        out = model.wv.most_similar(positive=[New_Word_input])\n",
    "        print(out)\n",
    "    except:\n",
    "        print(\"学習前モデルには、「{}」というWordは存在しないためエラーが出ました。\".format(New_Word_input))"
   ]
  }
 ],
 "metadata": {
  "kernelspec": {
   "display_name": "Python 3",
   "language": "python",
   "name": "python3"
  },
  "language_info": {
   "codemirror_mode": {
    "name": "ipython",
    "version": 3
   },
   "file_extension": ".py",
   "mimetype": "text/x-python",
   "name": "python",
   "nbconvert_exporter": "python",
   "pygments_lexer": "ipython3",
   "version": "3.11.3"
  },
  "orig_nbformat": 4
 },
 "nbformat": 4,
 "nbformat_minor": 2
}
