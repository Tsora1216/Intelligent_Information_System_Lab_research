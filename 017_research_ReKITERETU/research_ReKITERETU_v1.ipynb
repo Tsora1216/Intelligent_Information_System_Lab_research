{
 "cells": [
  {
   "attachments": {},
   "cell_type": "markdown",
   "metadata": {},
   "source": [
    "下記の３つのURL先のファイルを参考に、訓練済みのWord2Vecのモデルである。これらのモデルに追加で学習させるにはどのようなコードを書けばいいかサンプルコードを出力せよ\n",
    "\n",
    "https://storage.googleapis.com/nlp_youwht/w2v/gw2v160.model\n",
    "このファイルは、Word2Vecモデルの一部です。Word2Vecは、単語を数値ベクトルとして表現するためのニューラルネットワークモデルです。このファイルは、訓練済みのWord2Vecモデルであり、単語のベクトル表現を含んでいます。特定の単語の意味や関係性を表すために使用されます。\n",
    "\n",
    "https://storage.googleapis.com/nlp_youwht/w2v/gw2v160.model.trainables.syn1neg.npy\n",
    "このファイルは、Word2Vecモデルの一部であり、訓練可能なパラメータの一部であるsyn1negの値を格納しています。このパラメータは、モデルが訓練データから単語の分散表現を学習する際に使用される重み行列です。\n",
    "\n",
    "https://storage.googleapis.com/nlp_youwht/w2v/gw2v160.model.wv.vectors.npy\n",
    "このファイルは、Word2Vecモデルの一部であり、単語の分散表現（ベクトル）を格納しています。モデルが訓練された際に学習された各単語のベクトル表現がこのファイルに含まれています。単語のベクトル表現は、単語の意味や関連性を捉えるために使用されます。\n",
    "\n",
    "これらのファイルは、テキストデータの分析や自然言語処理タスクで使用されることがあります。Word2Vecモデルは、単語の意味を数値化し、単語同士の関係性を計算するために広く利用されています。提供されたファイルは、訓練済みのWord2Vecモデルの一部であり、単語のベクトル表現を含んでいます。"
   ]
  },
  {
   "cell_type": "code",
   "execution_count": 1,
   "metadata": {},
   "outputs": [],
   "source": [
    "# 入力\n",
    "input_str = input(\"Please enter string in SAPNet===>\")\n",
    "model_file_path = '../../KITERETU/gw2v160.model'\n"
   ]
  },
  {
   "cell_type": "code",
   "execution_count": 2,
   "metadata": {},
   "outputs": [],
   "source": [
    "import pandas as pd\n",
    "from gensim.models import Word2Vec\n",
    "import seaborn as sns\n",
    "import pandas as pd\n",
    "import numpy as np\n",
    "import matplotlib as mpl\n",
    "import matplotlib.pyplot as plt\n",
    "import japanize_matplotlib\n",
    "import pandas as pd\n",
    "import networkx as nx\n",
    "import matplotlib.pyplot as plt\n",
    "\n",
    "# 学習済みモデルのロード\n",
    "model = Word2Vec.load(model_file_path)"
   ]
  },
  {
   "cell_type": "code",
   "execution_count": 3,
   "metadata": {},
   "outputs": [],
   "source": [
    "model_file_path = '../../KITERETU/gw2v160.model'\n",
    "model_file_path_v2 = '../../KITERETU/gw2v160_v2.model'\n",
    "\n",
    "\n",
    "from gensim.models import KeyedVectors\n",
    "\n",
    "# 既存のWord2Vecモデルを読み込む\n",
    "pretrained_model_path = model_file_path\n",
    "pretrained_model = KeyedVectors.load(pretrained_model_path)\n",
    "\n",
    "# 追加で学習させるためのデータを用意する\n",
    "new_training_data = [\n",
    "    '新しいデータ 文章1',\n",
    "    '新しいデータ 文章2',\n",
    "    '新しいデータ 文章3'\n",
    "]\n",
    "\n",
    "# 既存のモデルに新しいデータを追加して再学習\n",
    "pretrained_model.build_vocab(new_training_data, update=True)\n",
    "pretrained_model.train(new_training_data, total_examples=pretrained_model.corpus_count, epochs=pretrained_model.epochs)\n",
    "\n",
    "# モデルの保存\n",
    "updated_model_path = model_file_path_v2\n",
    "pretrained_model.save(updated_model_path)"
   ]
  }
 ],
 "metadata": {
  "kernelspec": {
   "display_name": "Python 3",
   "language": "python",
   "name": "python3"
  },
  "language_info": {
   "codemirror_mode": {
    "name": "ipython",
    "version": 3
   },
   "file_extension": ".py",
   "mimetype": "text/x-python",
   "name": "python",
   "nbconvert_exporter": "python",
   "pygments_lexer": "ipython3",
   "version": "3.11.3"
  },
  "orig_nbformat": 4
 },
 "nbformat": 4,
 "nbformat_minor": 2
}
