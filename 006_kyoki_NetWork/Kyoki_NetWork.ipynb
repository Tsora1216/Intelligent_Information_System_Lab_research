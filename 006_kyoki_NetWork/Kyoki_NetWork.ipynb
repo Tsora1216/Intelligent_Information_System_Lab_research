{
 "cells": [
  {
   "cell_type": "code",
   "execution_count": 6,
   "metadata": {},
   "outputs": [
    {
     "name": "stdout",
     "output_type": "stream",
     "text": [
      "Requirement already satisfied: pathlib in c:\\users\\irsl27\\anaconda3\\lib\\site-packages (1.0.1)\n",
      "Requirement already satisfied: regex in c:\\users\\irsl27\\anaconda3\\lib\\site-packages (2022.7.9)\n",
      "Requirement already satisfied: pandas in c:\\users\\irsl27\\anaconda3\\lib\\site-packages (2.0.1)\n",
      "Requirement already satisfied: tzdata>=2022.1 in c:\\users\\irsl27\\anaconda3\\lib\\site-packages (from pandas) (2023.3)\n",
      "Requirement already satisfied: numpy>=1.21.0 in c:\\users\\irsl27\\anaconda3\\lib\\site-packages (from pandas) (1.24.3)\n",
      "Requirement already satisfied: python-dateutil>=2.8.2 in c:\\users\\irsl27\\anaconda3\\lib\\site-packages (from pandas) (2.8.2)\n",
      "Requirement already satisfied: pytz>=2020.1 in c:\\users\\irsl27\\anaconda3\\lib\\site-packages (from pandas) (2022.7)\n",
      "Requirement already satisfied: six>=1.5 in c:\\users\\irsl27\\anaconda3\\lib\\site-packages (from python-dateutil>=2.8.2->pandas) (1.16.0)\n",
      "Collecting mecab-python3\n",
      "  Downloading mecab_python3-1.0.6-cp310-cp310-win_amd64.whl (501 kB)\n",
      "     -------------------------------------- 501.3/501.3 kB 4.5 MB/s eta 0:00:00\n",
      "Installing collected packages: mecab-python3\n",
      "Successfully installed mecab-python3-1.0.6\n",
      "Collecting mojimoji\n",
      "  Downloading mojimoji-0.0.12.tar.gz (43 kB)\n",
      "     ---------------------------------------- 43.2/43.2 kB 2.1 MB/s eta 0:00:00\n",
      "  Installing build dependencies: started\n",
      "  Installing build dependencies: finished with status 'done'\n",
      "  Getting requirements to build wheel: started\n",
      "  Getting requirements to build wheel: finished with status 'done'\n",
      "  Preparing metadata (pyproject.toml): started\n",
      "  Preparing metadata (pyproject.toml): finished with status 'done'\n",
      "Building wheels for collected packages: mojimoji\n",
      "  Building wheel for mojimoji (pyproject.toml): started\n",
      "  Building wheel for mojimoji (pyproject.toml): finished with status 'done'\n",
      "  Created wheel for mojimoji: filename=mojimoji-0.0.12-cp310-cp310-win_amd64.whl size=32583 sha256=b7e8bd5fad89ddf99a55349438ffe7c76febcde0839883890cf3fce361e3eab3\n",
      "  Stored in directory: c:\\users\\irsl27\\appdata\\local\\pip\\cache\\wheels\\ea\\09\\af\\f007832bb2d188896f60ad8e48d6c4d5c0dd44daf2c0fcaf63\n",
      "Successfully built mojimoji\n",
      "Installing collected packages: mojimoji\n",
      "Successfully installed mojimoji-0.0.12\n",
      "Collecting neologdn\n",
      "  Downloading neologdn-0.5.1.tar.gz (57 kB)\n",
      "     ---------------------------------------- 57.2/57.2 kB 3.1 MB/s eta 0:00:00\n",
      "  Preparing metadata (setup.py): started\n",
      "  Preparing metadata (setup.py): finished with status 'done'\n",
      "Building wheels for collected packages: neologdn\n",
      "  Building wheel for neologdn (setup.py): started\n",
      "  Building wheel for neologdn (setup.py): finished with status 'done'\n",
      "  Created wheel for neologdn: filename=neologdn-0.5.1-cp310-cp310-win_amd64.whl size=40754 sha256=727f447b6e9029aebe61ca613720931fda7a8077d8e209f751e3d9b5fa0530a3\n",
      "  Stored in directory: c:\\users\\irsl27\\appdata\\local\\pip\\cache\\wheels\\0a\\58\\78\\29688201e85b118258f588b6fce226ab3e687f8c8d62ae8843\n",
      "Successfully built neologdn\n",
      "Installing collected packages: neologdn\n",
      "Successfully installed neologdn-0.5.1\n",
      "Requirement already satisfied: networkx in c:\\users\\irsl27\\anaconda3\\lib\\site-packages (2.8.4)\n",
      "Requirement already satisfied: matplotlib in c:\\users\\irsl27\\anaconda3\\lib\\site-packages (3.7.1)\n",
      "Requirement already satisfied: numpy>=1.20 in c:\\users\\irsl27\\anaconda3\\lib\\site-packages (from matplotlib) (1.24.3)\n",
      "Requirement already satisfied: python-dateutil>=2.7 in c:\\users\\irsl27\\anaconda3\\lib\\site-packages (from matplotlib) (2.8.2)\n",
      "Requirement already satisfied: pillow>=6.2.0 in c:\\users\\irsl27\\anaconda3\\lib\\site-packages (from matplotlib) (9.5.0)\n",
      "Requirement already satisfied: cycler>=0.10 in c:\\users\\irsl27\\anaconda3\\lib\\site-packages (from matplotlib) (0.11.0)\n",
      "Requirement already satisfied: pyparsing>=2.3.1 in c:\\users\\irsl27\\anaconda3\\lib\\site-packages (from matplotlib) (3.0.9)\n",
      "Requirement already satisfied: contourpy>=1.0.1 in c:\\users\\irsl27\\anaconda3\\lib\\site-packages (from matplotlib) (1.0.5)\n",
      "Requirement already satisfied: packaging>=20.0 in c:\\users\\irsl27\\anaconda3\\lib\\site-packages (from matplotlib) (22.0)\n",
      "Requirement already satisfied: fonttools>=4.22.0 in c:\\users\\irsl27\\anaconda3\\lib\\site-packages (from matplotlib) (4.25.0)\n",
      "Requirement already satisfied: kiwisolver>=1.0.1 in c:\\users\\irsl27\\anaconda3\\lib\\site-packages (from matplotlib) (1.4.4)\n",
      "Requirement already satisfied: six>=1.5 in c:\\users\\irsl27\\anaconda3\\lib\\site-packages (from python-dateutil>=2.7->matplotlib) (1.16.0)\n"
     ]
    }
   ],
   "source": [
    "!pip install pathlib\n",
    "!pip install regex\n",
    "!pip install pandas\n",
    "!pip install mecab-python3\n",
    "!pip install mojimoji\n",
    "!pip install neologdn\n",
    "!pip install networkx\n",
    "!pip install matplotlib\n"
   ]
  },
  {
   "cell_type": "code",
   "execution_count": 1,
   "metadata": {},
   "outputs": [
    {
     "ename": "ModuleNotFoundError",
     "evalue": "No module named 'MeCab'",
     "output_type": "error",
     "traceback": [
      "\u001b[1;31m---------------------------------------------------------------------------\u001b[0m",
      "\u001b[1;31mModuleNotFoundError\u001b[0m                       Traceback (most recent call last)",
      "Cell \u001b[1;32mIn[1], line 5\u001b[0m\n\u001b[0;32m      3\u001b[0m \u001b[39mimport\u001b[39;00m \u001b[39mcollections\u001b[39;00m\n\u001b[0;32m      4\u001b[0m \u001b[39mimport\u001b[39;00m \u001b[39mpandas\u001b[39;00m \u001b[39mas\u001b[39;00m \u001b[39mpd\u001b[39;00m\n\u001b[1;32m----> 5\u001b[0m \u001b[39mimport\u001b[39;00m \u001b[39mMeCab\u001b[39;00m\n\u001b[0;32m      6\u001b[0m \u001b[39mimport\u001b[39;00m \u001b[39mmojimoji\u001b[39;00m\n\u001b[0;32m      7\u001b[0m \u001b[39mimport\u001b[39;00m \u001b[39mneologdn\u001b[39;00m\n",
      "\u001b[1;31mModuleNotFoundError\u001b[0m: No module named 'MeCab'"
     ]
    }
   ],
   "source": [
    "from pathlib import Path\n",
    "import re\n",
    "import collections\n",
    "import pandas as pd\n",
    "import MeCab\n",
    "import mojimoji\n",
    "import neologdn\n",
    "import unicodedata\n",
    "import itertools\n",
    "import networkx as nx\n",
    "import matplotlib.pyplot as plt\n",
    "\n",
    "data_dir_path = Path('data')\n",
    "result_dir_path = Path('result')\n",
    "\n",
    "if not result_dir_path.exists():\n",
    "    result_dir_path.mkdir(parents=True)"
   ]
  },
  {
   "cell_type": "code",
   "execution_count": 2,
   "metadata": {},
   "outputs": [
    {
     "ename": "NameError",
     "evalue": "name 'data_dir_path' is not defined",
     "output_type": "error",
     "traceback": [
      "\u001b[1;31m---------------------------------------------------------------------------\u001b[0m",
      "\u001b[1;31mNameError\u001b[0m                                 Traceback (most recent call last)",
      "Cell \u001b[1;32mIn[2], line 29\u001b[0m\n\u001b[0;32m     26\u001b[0m     words \u001b[39m=\u001b[39m \u001b[39mlist\u001b[39m(\u001b[39mmap\u001b[39m(\u001b[39mlambda\u001b[39;00m x: re\u001b[39m.\u001b[39msub(\u001b[39mr\u001b[39m\u001b[39m'\u001b[39m\u001b[39m\\\u001b[39m\u001b[39md+\u001b[39m\u001b[39m\\\u001b[39m\u001b[39m.*\u001b[39m\u001b[39m\\\u001b[39m\u001b[39md*\u001b[39m\u001b[39m'\u001b[39m, \u001b[39m'\u001b[39m\u001b[39m0\u001b[39m\u001b[39m'\u001b[39m, x\u001b[39m.\u001b[39mlower()), words))\n\u001b[0;32m     27\u001b[0m     \u001b[39mreturn\u001b[39;00m words\n\u001b[1;32m---> 29\u001b[0m \u001b[39mwith\u001b[39;00m \u001b[39mopen\u001b[39m(data_dir_path\u001b[39m.\u001b[39mjoinpath(\u001b[39m'\u001b[39m\u001b[39mgakumonno_susume.txt\u001b[39m\u001b[39m'\u001b[39m), \u001b[39m'\u001b[39m\u001b[39mr\u001b[39m\u001b[39m'\u001b[39m, encoding\u001b[39m=\u001b[39m\u001b[39m'\u001b[39m\u001b[39mutf-8\u001b[39m\u001b[39m'\u001b[39m) \u001b[39mas\u001b[39;00m file:\n\u001b[0;32m     30\u001b[0m     lines \u001b[39m=\u001b[39m file\u001b[39m.\u001b[39mreadlines()\n\u001b[0;32m     32\u001b[0m sentences \u001b[39m=\u001b[39m []\n",
      "\u001b[1;31mNameError\u001b[0m: name 'data_dir_path' is not defined"
     ]
    }
   ],
   "source": [
    "def get_stopword_lsit(write_file_path):\n",
    "\n",
    "    if not write_file_path.exists():\n",
    "        url = 'http://svn.sourceforge.jp/svnroot/slothlib/CSharp/Version1/SlothLib/NLP/Filter/StopWord/word/Japanese.txt'\n",
    "        urllib.request.urlretrieve(url, write_file_path)\n",
    "\n",
    "    with open(write_file_path, 'r', encoding='utf-8') as file:\n",
    "        stopword_list = [word.replace('\\n', '') for word in file.readlines()]\n",
    "\n",
    "    return stopword_list\n",
    "\n",
    "\n",
    "def get_noun_words_from_sentence(sentence, mecab, stopword_list=[]):\n",
    "    return [\n",
    "        x.split('\\t')[0] for x in mecab.parse(sentence).split('\\n') if len(x.split('\\t')) > 1 and \\\n",
    "         '名詞' in x.split('\\t')[3] and x.split('\\t')[0] not in stopword_list\n",
    "    ]\n",
    "\n",
    "\n",
    "def split_sentence(sentence, mecab, stopword_list):\n",
    "    sentence = neologdn.normalize(sentence)\n",
    "    sentence = unicodedata.normalize(\"NFKC\", sentence)\n",
    "    words = get_noun_words_from_sentence(\n",
    "        sentence=sentence, mecab=mecab, stopword_list=stopword_list\n",
    "    )\n",
    "    words = list(map(lambda x: re.sub(r'\\d+\\.*\\d*', '0', x.lower()), words))\n",
    "    return words\n",
    "\n",
    "with open(data_dir_path.joinpath('gakumonno_susume.txt'), 'r', encoding='utf-8') as file:\n",
    "    lines = file.readlines()\n",
    "    \n",
    "sentences = []\n",
    "for sentence in lines:\n",
    "    texts = sentence.split('。')\n",
    "    sentences.extend(texts)\n",
    "\n",
    "mecab = MeCab.Tagger('-Ochasen')\n",
    "\n",
    "stopword_list = get_stopword_lsit(data_dir_path.joinpath('stopword_list.txt'))\n",
    "\n",
    "noun_sentences = []\n",
    "for sentence in sentences:\n",
    "    noun_sentences.append(\n",
    "        split_sentence(sentence=sentence, mecab=mecab, stopword_list=stopword_list)\n",
    "    )\n",
    "\n",
    "for words in noun_sentences[:5]:\n",
    "    print(words)"
   ]
  }
 ],
 "metadata": {
  "kernelspec": {
   "display_name": "base",
   "language": "python",
   "name": "python3"
  },
  "language_info": {
   "codemirror_mode": {
    "name": "ipython",
    "version": 3
   },
   "file_extension": ".py",
   "mimetype": "text/x-python",
   "name": "python",
   "nbconvert_exporter": "python",
   "pygments_lexer": "ipython3",
   "version": "3.10.9"
  },
  "orig_nbformat": 4
 },
 "nbformat": 4,
 "nbformat_minor": 2
}
