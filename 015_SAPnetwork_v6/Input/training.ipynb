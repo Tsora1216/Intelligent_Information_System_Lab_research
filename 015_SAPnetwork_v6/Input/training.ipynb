{
 "cells": [
  {
   "cell_type": "code",
   "execution_count": 18,
   "metadata": {},
   "outputs": [
    {
     "ename": "ValueError",
     "evalue": "You must specify an explicit epochs count. The usual value is epochs=model.epochs.",
     "output_type": "error",
     "traceback": [
      "\u001b[1;31m---------------------------------------------------------------------------\u001b[0m",
      "\u001b[1;31mValueError\u001b[0m                                Traceback (most recent call last)",
      "\u001b[1;32mg:\\Intelligent_Information_System_Lab_research\\015_SAPnetwork_v6\\Input\\training.ipynb セル 1\u001b[0m in \u001b[0;36m<cell line: 7>\u001b[1;34m()\u001b[0m\n\u001b[0;32m      <a href='vscode-notebook-cell:/g%3A/Intelligent_Information_System_Lab_research/015_SAPnetwork_v6/Input/training.ipynb#W0sZmlsZQ%3D%3D?line=3'>4</a>\u001b[0m model \u001b[39m=\u001b[39m gensim\u001b[39m.\u001b[39mmodels\u001b[39m.\u001b[39mWord2Vec\u001b[39m.\u001b[39mload(\u001b[39m'\u001b[39m\u001b[39m../../../KITERETU/gw2v160.model\u001b[39m\u001b[39m'\u001b[39m)\n\u001b[0;32m      <a href='vscode-notebook-cell:/g%3A/Intelligent_Information_System_Lab_research/015_SAPnetwork_v6/Input/training.ipynb#W0sZmlsZQ%3D%3D?line=5'>6</a>\u001b[0m \u001b[39m# 「猫はかわいいです」という文字列を追加で学習させます。\u001b[39;00m\n\u001b[1;32m----> <a href='vscode-notebook-cell:/g%3A/Intelligent_Information_System_Lab_research/015_SAPnetwork_v6/Input/training.ipynb#W0sZmlsZQ%3D%3D?line=6'>7</a>\u001b[0m model\u001b[39m.\u001b[39;49mtrain([\u001b[39m\"\u001b[39;49m\u001b[39m猫はかわいいです\u001b[39;49m\u001b[39m\"\u001b[39;49m], total_examples\u001b[39m=\u001b[39;49mmodel\u001b[39m.\u001b[39;49mcorpus_count)\n",
      "File \u001b[1;32m~\\AppData\\Roaming\\Python\\Python310\\site-packages\\gensim\\models\\word2vec.py:1045\u001b[0m, in \u001b[0;36mWord2Vec.train\u001b[1;34m(self, corpus_iterable, corpus_file, total_examples, total_words, epochs, start_alpha, end_alpha, word_count, queue_factor, report_delay, compute_loss, callbacks, **kwargs)\u001b[0m\n\u001b[0;32m   1042\u001b[0m \u001b[39mself\u001b[39m\u001b[39m.\u001b[39mmin_alpha \u001b[39m=\u001b[39m end_alpha \u001b[39mor\u001b[39;00m \u001b[39mself\u001b[39m\u001b[39m.\u001b[39mmin_alpha\n\u001b[0;32m   1043\u001b[0m \u001b[39mself\u001b[39m\u001b[39m.\u001b[39mepochs \u001b[39m=\u001b[39m epochs\n\u001b[1;32m-> 1045\u001b[0m \u001b[39mself\u001b[39;49m\u001b[39m.\u001b[39;49m_check_training_sanity(epochs\u001b[39m=\u001b[39;49mepochs, total_examples\u001b[39m=\u001b[39;49mtotal_examples, total_words\u001b[39m=\u001b[39;49mtotal_words)\n\u001b[0;32m   1046\u001b[0m \u001b[39mself\u001b[39m\u001b[39m.\u001b[39m_check_corpus_sanity(corpus_iterable\u001b[39m=\u001b[39mcorpus_iterable, corpus_file\u001b[39m=\u001b[39mcorpus_file, passes\u001b[39m=\u001b[39mepochs)\n\u001b[0;32m   1048\u001b[0m \u001b[39mself\u001b[39m\u001b[39m.\u001b[39madd_lifecycle_event(\n\u001b[0;32m   1049\u001b[0m     \u001b[39m\"\u001b[39m\u001b[39mtrain\u001b[39m\u001b[39m\"\u001b[39m,\n\u001b[0;32m   1050\u001b[0m     msg\u001b[39m=\u001b[39m(\n\u001b[1;32m   (...)\u001b[0m\n\u001b[0;32m   1054\u001b[0m     ),\n\u001b[0;32m   1055\u001b[0m )\n",
      "File \u001b[1;32m~\\AppData\\Roaming\\Python\\Python310\\site-packages\\gensim\\models\\word2vec.py:1566\u001b[0m, in \u001b[0;36mWord2Vec._check_training_sanity\u001b[1;34m(self, epochs, total_examples, total_words, **kwargs)\u001b[0m\n\u001b[0;32m   1559\u001b[0m     \u001b[39mraise\u001b[39;00m \u001b[39mValueError\u001b[39;00m(\n\u001b[0;32m   1560\u001b[0m         \u001b[39m\"\u001b[39m\u001b[39mYou must specify either total_examples or total_words, for proper learning-rate \u001b[39m\u001b[39m\"\u001b[39m\n\u001b[0;32m   1561\u001b[0m         \u001b[39m\"\u001b[39m\u001b[39mand progress calculations. \u001b[39m\u001b[39m\"\u001b[39m\n\u001b[0;32m   1562\u001b[0m         \u001b[39m\"\u001b[39m\u001b[39mIf you\u001b[39m\u001b[39m'\u001b[39m\u001b[39mve just built the vocabulary using the same corpus, using the count cached \u001b[39m\u001b[39m\"\u001b[39m\n\u001b[0;32m   1563\u001b[0m         \u001b[39m\"\u001b[39m\u001b[39min the model is sufficient: total_examples=model.corpus_count.\u001b[39m\u001b[39m\"\u001b[39m\n\u001b[0;32m   1564\u001b[0m     )\n\u001b[0;32m   1565\u001b[0m \u001b[39mif\u001b[39;00m epochs \u001b[39mis\u001b[39;00m \u001b[39mNone\u001b[39;00m \u001b[39mor\u001b[39;00m epochs \u001b[39m<\u001b[39m\u001b[39m=\u001b[39m \u001b[39m0\u001b[39m:\n\u001b[1;32m-> 1566\u001b[0m     \u001b[39mraise\u001b[39;00m \u001b[39mValueError\u001b[39;00m(\u001b[39m\"\u001b[39m\u001b[39mYou must specify an explicit epochs count. The usual value is epochs=model.epochs.\u001b[39m\u001b[39m\"\u001b[39m)\n",
      "\u001b[1;31mValueError\u001b[0m: You must specify an explicit epochs count. The usual value is epochs=model.epochs."
     ]
    }
   ],
   "source": [
    "import gensim\n",
    "\n",
    "# 学習済みモデルをロードします。\n",
    "model = gensim.models.Word2Vec.load('../../../KITERETU/gw2v160.model')\n",
    "\n",
    "# 「猫はかわいいです」という文字列を追加で学習させます。\n",
    "model.train([\"猫はかわいいです\"], total_examples=model.corpus_count)\n",
    "\n"
   ]
  }
 ],
 "metadata": {
  "kernelspec": {
   "display_name": "Python 3",
   "language": "python",
   "name": "python3"
  },
  "language_info": {
   "codemirror_mode": {
    "name": "ipython",
    "version": 3
   },
   "file_extension": ".py",
   "mimetype": "text/x-python",
   "name": "python",
   "nbconvert_exporter": "python",
   "pygments_lexer": "ipython3",
   "version": "3.10.2"
  },
  "orig_nbformat": 4
 },
 "nbformat": 4,
 "nbformat_minor": 2
}
